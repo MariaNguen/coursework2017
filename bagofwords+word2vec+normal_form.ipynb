{
 "cells": [
  {
   "cell_type": "code",
   "execution_count": 1,
   "metadata": {
    "collapsed": false
   },
   "outputs": [
    {
     "name": "stderr",
     "output_type": "stream",
     "text": [
      "C:\\Anaconda3\\lib\\site-packages\\gensim-1.0.1-py3.5-win-amd64.egg\\gensim\\utils.py:855: UserWarning: detected Windows; aliasing chunkize to chunkize_serial\n",
      "  warnings.warn(\"detected Windows; aliasing chunkize to chunkize_serial\")\n",
      "2017-06-18 23:17:06,283 : INFO : 'pattern' package not found; tag filters are not available for English\n"
     ]
    }
   ],
   "source": [
    "import logging\n",
    "logging.root.handlers = []  # Jupyter messes up logging so needs a reset\n",
    "logging.basicConfig(format='%(asctime)s : %(levelname)s : %(message)s', level=logging.INFO)\n",
    "from smart_open import smart_open\n",
    "import pandas as pd\n",
    "import numpy as np\n",
    "from numpy import random\n",
    "import gensim\n",
    "import nltk\n",
    "from sklearn.cross_validation import train_test_split\n",
    "from sklearn import linear_model\n",
    "from sklearn import metrics\n",
    "from sklearn.feature_extraction.text import CountVectorizer, TfidfVectorizer\n",
    "from sklearn.metrics import accuracy_score, confusion_matrix\n",
    "import matplotlib.pyplot as plt\n",
    "from gensim.models import Word2Vec\n",
    "from sklearn.neighbors import KNeighborsClassifier\n",
    "from sklearn import linear_model\n",
    "from nltk.corpus import stopwords\n",
    "import xml.etree.ElementTree as ET\n",
    "from nltk import word_tokenize\n",
    "import re\n",
    "from sklearn.preprocessing import MultiLabelBinarizer\n",
    "from sklearn.cross_validation import KFold\n",
    "from sklearn.svm import SVC\n",
    "from sklearn.cross_validation import cross_val_score\n",
    "from sklearn.grid_search import GridSearchCV\n",
    "from sklearn.multiclass import OneVsRestClassifier\n",
    "from sklearn.naive_bayes import MultinomialNB\n",
    "from sklearn.ensemble import RandomForestClassifier\n",
    "import pymorphy2\n",
    "%matplotlib inline"
   ]
  },
  {
   "cell_type": "code",
   "execution_count": 2,
   "metadata": {
    "collapsed": true
   },
   "outputs": [],
   "source": [
    "def tree_df(tree_name):\n",
    "    tree = ET.parse(tree_name)\n",
    "    sentences = []\n",
    "    label = []\n",
    "    data_item = []\n",
    "    data = []\n",
    "    root = tree.getroot()\n",
    "    for sentence in root.iter('sentence'):\n",
    "        for text in sentence.iter('text'):\n",
    "            data_item.append(text.text)\n",
    "        for opinion in sentence.iter('Opinion'):\n",
    "            label.append(opinion.get('category'))\n",
    "\n",
    "        label = list(set(label))\n",
    "        data_item.append(label)\n",
    "        label=[]\n",
    "        data.append(data_item)\n",
    "        data_item=[]\n",
    "    df = pd.DataFrame(data, columns = ['sentence', 'category'])\n",
    "    return df"
   ]
  },
  {
   "cell_type": "markdown",
   "metadata": {},
   "source": [
    "# BAG OF WORDS model"
   ]
  },
  {
   "cell_type": "code",
   "execution_count": 3,
   "metadata": {
    "collapsed": true
   },
   "outputs": [],
   "source": [
    "def tokenizator(text):\n",
    "    sen_clear = []\n",
    "    for sentence in np.array(text):\n",
    "        sen_cl = re.sub(r'[^\\w\\d\\s\\-\\n\\{\\}]', \" \", sentence, flags=re.M | re.U | re.I)\n",
    "        words = sen_cl.lower().split()\n",
    "        words_c = []\n",
    "        for word in words:\n",
    "            if word != '-':\n",
    "                words_c.append(morph.parse(word)[0].normal_form)\n",
    "        sen_clear.append(words_c)\n",
    "    return sen_clear"
   ]
  },
  {
   "cell_type": "code",
   "execution_count": 4,
   "metadata": {
    "collapsed": true
   },
   "outputs": [],
   "source": [
    "def tokenizator_2(sentence):\n",
    "    sen_cl = re.sub(r'[^\\w\\d\\s\\-\\n\\{\\}]', \" \", sentence, flags=re.M | re.U | re.I)\n",
    "    words = sen_cl.lower().split()\n",
    "    words_c = []\n",
    "    for word in words:\n",
    "        if word != '-':\n",
    "            words_c.append(morph.parse(word)[0].normal_form)\n",
    "    return words_c"
   ]
  },
  {
   "cell_type": "code",
   "execution_count": 5,
   "metadata": {
    "collapsed": false
   },
   "outputs": [
    {
     "name": "stderr",
     "output_type": "stream",
     "text": [
      "2017-06-18 23:17:12,118 : INFO : Loading dictionaries from C:\\Anaconda3\\lib\\site-packages\\pymorphy2_dicts\\data\n",
      "2017-06-18 23:17:12,206 : INFO : format: 2.4, revision: 393442, updated: 2015-01-17T16:03:56.586168\n"
     ]
    }
   ],
   "source": [
    "name = 'se16_ru_rest_train.xml'\n",
    "df = tree_df(name)\n",
    "test_name = 'se16_ru_rest_test.xml'\n",
    "df_test = tree_df(test_name)\n",
    "morph = pymorphy2.MorphAnalyzer()"
   ]
  },
  {
   "cell_type": "code",
   "execution_count": 6,
   "metadata": {
    "collapsed": false
   },
   "outputs": [],
   "source": [
    "from stop_words import get_stop_words\n",
    "stop_words = get_stop_words('russian')"
   ]
  },
  {
   "cell_type": "code",
   "execution_count": 7,
   "metadata": {
    "collapsed": false
   },
   "outputs": [],
   "source": [
    "train_sentences = tokenizator(df['sentence'])\n",
    "test_sentences = tokenizator(df_test['sentence'])"
   ]
  },
  {
   "cell_type": "code",
   "execution_count": 8,
   "metadata": {
    "collapsed": false
   },
   "outputs": [
    {
     "name": "stdout",
     "output_type": "stream",
     "text": [
      "Wall time: 21 s\n"
     ]
    }
   ],
   "source": [
    "%%time\n",
    "# training\n",
    "#count_vectorizer = CountVectorizer(\n",
    "#    analyzer=\"word\", tokenizer=nltk.word_tokenize,\n",
    "#    preprocessor=None, stop_words=stop_words, max_features=1000) \n",
    "count_vectorizer = CountVectorizer(stop_words=stop_words, max_features=1000,analyzer=\"word\", tokenizer = tokenizator_2)\n",
    "X_train_bag = count_vectorizer.fit_transform(df.iloc[:,0])\n",
    "X_test = count_vectorizer.transform(df_test.iloc[:,0])"
   ]
  },
  {
   "cell_type": "code",
   "execution_count": 9,
   "metadata": {
    "collapsed": false
   },
   "outputs": [],
   "source": [
    "mlb = mlb = MultiLabelBinarizer()\n",
    "df_all = pd.concat([df, df_test], axis = 0)\n",
    "y_all = mlb.fit_transform(df_all.iloc[:,1])\n",
    "y_train = y_all[:len(df)]\n",
    "y_test = y_all[len(df):]\n",
    "#clf_bag = OneVsRestClassifier(SVC(kernel='linear', random_state=241, probability=True))\n",
    "#clf_bag.fit(X_train,y_train)"
   ]
  },
  {
   "cell_type": "code",
   "execution_count": 10,
   "metadata": {
    "collapsed": true
   },
   "outputs": [],
   "source": [
    "def classify_SVC(X_train, y_train, X_test, y_test):\n",
    "    clf = OneVsRestClassifier(SVC(kernel='linear', random_state=241, probability=True))\n",
    "    clf.fit(X_train,y_train)\n",
    "    clf.predict_proba(X_test)\n",
    "    classes = list(mlb.classes_)\n",
    "    classes_final = []\n",
    "    for line in clf.predict_proba(X_test):\n",
    "        cl = []\n",
    "        for i in range(len(classes)):\n",
    "            if line[i] >= 0.2:\n",
    "                cl.append(classes[i])\n",
    "        classes_final.append(cl)\n",
    "    classes_final_s = pd.Series(classes_final)\n",
    "    df_test_f = pd.concat([df_test,classes_final_s], axis = 1)\n",
    "    df_test_f.rename(columns={0:\"predicted classes\"})\n",
    "    #accuracy=clf.score(X_test,y_test)\n",
    "    y_pred = clf.predict(X_test)\n",
    "    accuracy = metrics.accuracy_score(y_test, y_pred)\n",
    "    precision = metrics.precision_score(y_test, y_pred, average = 'macro')\n",
    "    recall = metrics.recall_score(y_test, y_pred, average = 'macro')\n",
    "    f1=metrics.f1_score(y_test, y_pred, average = 'macro')\n",
    "    #coverage_error = metrics.coverage_error(y_test, clf.predict_proba(X_test))\n",
    "    return df_test_f, accuracy, precision, recall, f1\n"
   ]
  },
  {
   "cell_type": "code",
   "execution_count": 11,
   "metadata": {
    "collapsed": true
   },
   "outputs": [],
   "source": [
    "def classify_logreg(X_train, y_train, X_test, y_test):\n",
    "    clf = OneVsRestClassifier(linear_model.LogisticRegression(n_jobs=1, C=1e5))\n",
    "    clf.fit(X_train,y_train)\n",
    "    clf.predict_proba(X_test)\n",
    "    classes = list(mlb.classes_)\n",
    "    classes_final = []\n",
    "    for line in clf.predict_proba(X_test):\n",
    "        cl = []\n",
    "        for i in range(len(classes)):\n",
    "            if line[i] >= 0.2:\n",
    "                cl.append(classes[i])\n",
    "        classes_final.append(cl)\n",
    "    classes_final_s = pd.Series(classes_final)\n",
    "    df_test_f = pd.concat([df_test,classes_final_s], axis = 1)\n",
    "    df_test_f.rename(columns={0:\"predicted classes\"})\n",
    "    #accuracy=clf.score(X_test,y_test)\n",
    "    y_pred = clf.predict(X_test)\n",
    "    accuracy = metrics.accuracy_score(y_test, y_pred)\n",
    "    precision = metrics.precision_score(y_test, y_pred, average = 'macro')\n",
    "    recall = metrics.recall_score(y_test, y_pred, average = 'macro')\n",
    "    f1=metrics.f1_score(y_test, y_pred, average = 'macro')\n",
    "    #coverage_error = metrics.coverage_error(y_test, clf.predict_proba(X_test))\n",
    "    return df_test_f, accuracy, precision, recall, f1\n"
   ]
  },
  {
   "cell_type": "code",
   "execution_count": 12,
   "metadata": {
    "collapsed": true
   },
   "outputs": [],
   "source": [
    "def classify_NB(X_train, y_train, X_test, y_test):\n",
    "    clf = OneVsRestClassifier(MultinomialNB())\n",
    "    clf.fit(X_train,y_train)\n",
    "    clf.predict_proba(X_test)\n",
    "    classes = list(mlb.classes_)\n",
    "    classes_final = []\n",
    "    for line in clf.predict_proba(X_test):\n",
    "        cl = []\n",
    "        for i in range(len(classes)):\n",
    "            if line[i] >= 0.2:\n",
    "                cl.append(classes[i])\n",
    "        classes_final.append(cl)\n",
    "    classes_final_s = pd.Series(classes_final)\n",
    "    df_test_f = pd.concat([df_test,classes_final_s], axis = 1)\n",
    "    df_test_f.rename(columns={0:\"predicted classes\"})\n",
    "    #accuracy=clf.score(X_test,y_test)\n",
    "    y_pred = clf.predict(X_test)\n",
    "    accuracy = metrics.accuracy_score(y_test, y_pred)\n",
    "    precision = metrics.precision_score(y_test, y_pred, average = 'macro')\n",
    "    recall = metrics.recall_score(y_test, y_pred, average = 'macro')\n",
    "    f1=metrics.f1_score(y_test, y_pred, average = 'macro')\n",
    "    #coverage_error = metrics.coverage_error(y_test, clf.predict_proba(X_test))\n",
    "    return df_test_f, accuracy, precision, recall, f1"
   ]
  },
  {
   "cell_type": "code",
   "execution_count": 13,
   "metadata": {
    "collapsed": true
   },
   "outputs": [],
   "source": [
    "def classify_random_forest(X_train, y_train, X_test, y_test):\n",
    "    clf = OneVsRestClassifier(RandomForestClassifier( n_estimators = 100 ))\n",
    "    clf.fit(X_train,y_train)\n",
    "    clf.predict_proba(X_test)\n",
    "    classes = list(mlb.classes_)\n",
    "    classes_final = []\n",
    "    for line in clf.predict_proba(X_test):\n",
    "        cl = []\n",
    "        for i in range(len(classes)):\n",
    "            if line[i] >= 0.2:\n",
    "                cl.append(classes[i])\n",
    "        classes_final.append(cl)\n",
    "    classes_final_s = pd.Series(classes_final)\n",
    "    df_test_f = pd.concat([df_test,classes_final_s], axis = 1)\n",
    "    df_test_f.rename(columns={0:\"predicted classes\"})\n",
    "    #accuracy=clf.score(X_test,y_test)\n",
    "    y_pred = clf.predict(X_test)\n",
    "    accuracy = metrics.accuracy_score(y_test, y_pred)\n",
    "    precision = metrics.precision_score(y_test, y_pred, average = 'macro')\n",
    "    recall = metrics.recall_score(y_test, y_pred, average = 'macro')\n",
    "    f1=metrics.f1_score(y_test, y_pred, average = 'macro')\n",
    "    #coverage_error = metrics.coverage_error(y_test, clf.predict_proba(X_test))\n",
    "    return df_test_f, accuracy, precision, recall, f1"
   ]
  },
  {
   "cell_type": "code",
   "execution_count": 14,
   "metadata": {
    "collapsed": false
   },
   "outputs": [],
   "source": [
    "df_test_f_bag_SVC, accuracy_bag_SVC, precision_bag_SVC, recall_bag_SVC, f1_bag_SVC = classify_SVC(X_train_bag,y_train,X_test,y_test)"
   ]
  },
  {
   "cell_type": "code",
   "execution_count": 15,
   "metadata": {
    "collapsed": false
   },
   "outputs": [
    {
     "name": "stdout",
     "output_type": "stream",
     "text": [
      "accuracy = 0.58726, precision = 0.60927, recall = 0.45763, f1 = 0.51524\n"
     ]
    }
   ],
   "source": [
    "print('accuracy = {:0.5f}, precision = {:0.5f}, recall = {:0.5f}, f1 = {:0.5f}'.format(accuracy_bag_SVC, precision_bag_SVC, recall_bag_SVC, f1_bag_SVC))"
   ]
  },
  {
   "cell_type": "code",
   "execution_count": 16,
   "metadata": {
    "collapsed": true
   },
   "outputs": [],
   "source": [
    "df_test_f_bag_SVC.to_csv(path_or_buf='predictions_BOW_SVC.csv', sep = ',')"
   ]
  },
  {
   "cell_type": "code",
   "execution_count": 17,
   "metadata": {
    "collapsed": false
   },
   "outputs": [],
   "source": [
    "df_test_f_bag_logreg, accuracy_bag_logreg, precision_bag_logreg, recall_bag_logreg, f1_bag_logreg = classify_logreg(X_train_bag,y_train,X_test,y_test)"
   ]
  },
  {
   "cell_type": "code",
   "execution_count": 18,
   "metadata": {
    "collapsed": false
   },
   "outputs": [
    {
     "name": "stdout",
     "output_type": "stream",
     "text": [
      "accuracy = 0.40199, precision = 0.40689, recall = 0.54587, f1 = 0.45142\n"
     ]
    }
   ],
   "source": [
    "print('accuracy = {:0.5f}, precision = {:0.5f}, recall = {:0.5f}, f1 = {:0.5f}'.format(accuracy_bag_logreg, precision_bag_logreg, recall_bag_logreg, f1_bag_logreg))"
   ]
  },
  {
   "cell_type": "code",
   "execution_count": 19,
   "metadata": {
    "collapsed": false
   },
   "outputs": [
    {
     "name": "stderr",
     "output_type": "stream",
     "text": [
      "C:\\Anaconda3\\lib\\site-packages\\sklearn\\metrics\\classification.py:1074: UndefinedMetricWarning: Precision is ill-defined and being set to 0.0 in labels with no predicted samples.\n",
      "  'precision', 'predicted', average, warn_for)\n",
      "C:\\Anaconda3\\lib\\site-packages\\sklearn\\metrics\\classification.py:1074: UndefinedMetricWarning: F-score is ill-defined and being set to 0.0 in labels with no predicted samples.\n",
      "  'precision', 'predicted', average, warn_for)\n"
     ]
    }
   ],
   "source": [
    "df_test_f_bag_NB, accuracy_bag_NB, precision_bag_NB, recall_bag_NB, f1_bag_NB = classify_NB(X_train_bag,y_train,X_test,y_test)"
   ]
  },
  {
   "cell_type": "code",
   "execution_count": 20,
   "metadata": {
    "collapsed": false
   },
   "outputs": [
    {
     "name": "stdout",
     "output_type": "stream",
     "text": [
      "accuracy = 0.57320, precision = 0.49953, recall = 0.38079, f1 = 0.40997\n"
     ]
    }
   ],
   "source": [
    "print('accuracy = {:0.5f}, precision = {:0.5f}, recall = {:0.5f}, f1 = {:0.5f}'.format(accuracy_bag_NB, precision_bag_NB, recall_bag_NB, f1_bag_NB))"
   ]
  },
  {
   "cell_type": "code",
   "execution_count": 21,
   "metadata": {
    "collapsed": false
   },
   "outputs": [
    {
     "name": "stderr",
     "output_type": "stream",
     "text": [
      "C:\\Anaconda3\\lib\\site-packages\\sklearn\\metrics\\classification.py:1074: UndefinedMetricWarning: Precision is ill-defined and being set to 0.0 in labels with no predicted samples.\n",
      "  'precision', 'predicted', average, warn_for)\n",
      "C:\\Anaconda3\\lib\\site-packages\\sklearn\\metrics\\classification.py:1074: UndefinedMetricWarning: F-score is ill-defined and being set to 0.0 in labels with no predicted samples.\n",
      "  'precision', 'predicted', average, warn_for)\n"
     ]
    }
   ],
   "source": [
    "df_test_f_bag_forest, accuracy_bag_forest, precision_bag_forest, recall_bag_forest, f1_bag_forest = classify_random_forest(X_train_bag,y_train,X_test,y_test)"
   ]
  },
  {
   "cell_type": "code",
   "execution_count": 23,
   "metadata": {
    "collapsed": false
   },
   "outputs": [
    {
     "name": "stdout",
     "output_type": "stream",
     "text": [
      "accuracy = 0.56328, precision = 0.54012, recall = 0.30289, f1 = 0.34811\n"
     ]
    }
   ],
   "source": [
    "print('accuracy = {:0.5f}, precision = {:0.5f}, recall = {:0.5f}, f1 = {:0.5f}'.format(accuracy_bag_forest, precision_bag_forest, recall_bag_forest, f1_bag_forest))"
   ]
  },
  {
   "cell_type": "markdown",
   "metadata": {
    "collapsed": true
   },
   "source": [
    "# TF.IDF"
   ]
  },
  {
   "cell_type": "code",
   "execution_count": 24,
   "metadata": {
    "collapsed": false
   },
   "outputs": [
    {
     "name": "stderr",
     "output_type": "stream",
     "text": [
      "C:\\Anaconda3\\lib\\site-packages\\sklearn\\metrics\\classification.py:1074: UndefinedMetricWarning: Precision is ill-defined and being set to 0.0 in labels with no predicted samples.\n",
      "  'precision', 'predicted', average, warn_for)\n",
      "C:\\Anaconda3\\lib\\site-packages\\sklearn\\metrics\\classification.py:1074: UndefinedMetricWarning: F-score is ill-defined and being set to 0.0 in labels with no predicted samples.\n",
      "  'precision', 'predicted', average, warn_for)\n"
     ]
    }
   ],
   "source": [
    "tfidfv = TfidfVectorizer(stop_words=stop_words, max_features=1000,analyzer=\"word\", tokenizer = tokenizator_2)\n",
    "X_train_tfidf = tfidfv.fit_transform(df.iloc[:,0])\n",
    "X_test_tfidf = tfidfv.transform(df_test.iloc[:,0])\n",
    "df_test_f_tfidf_SVC, accuracy_tfidf_SVC, precision_tfidf_SVC, recall_tfidf_SVC, f1_tfidf_SVC = classify_SVC(X_train_tfidf,y_train,X_test_tfidf,y_test)"
   ]
  },
  {
   "cell_type": "code",
   "execution_count": 25,
   "metadata": {
    "collapsed": false
   },
   "outputs": [
    {
     "name": "stdout",
     "output_type": "stream",
     "text": [
      "accuracy = 0.57816, precision = 0.71993, recall = 0.29277, f1 = 0.36211\n"
     ]
    }
   ],
   "source": [
    "print('accuracy = {:0.5f}, precision = {:0.5f}, recall = {:0.5f}, f1 = {:0.5f}'.format(accuracy_tfidf_SVC, precision_tfidf_SVC, recall_tfidf_SVC, f1_tfidf_SVC))"
   ]
  },
  {
   "cell_type": "code",
   "execution_count": 26,
   "metadata": {
    "collapsed": true
   },
   "outputs": [],
   "source": [
    "df_test_f_tfidf_SVC.to_csv(path_or_buf='predictions_tfidf_SVC.csv', sep = ',')"
   ]
  },
  {
   "cell_type": "code",
   "execution_count": 27,
   "metadata": {
    "collapsed": false
   },
   "outputs": [
    {
     "name": "stdout",
     "output_type": "stream",
     "text": [
      "accuracy = 0.40943, precision = 0.41106, recall = 0.42492, f1 = 0.39811\n"
     ]
    },
    {
     "name": "stderr",
     "output_type": "stream",
     "text": [
      "C:\\Anaconda3\\lib\\site-packages\\sklearn\\metrics\\classification.py:1074: UndefinedMetricWarning: Precision is ill-defined and being set to 0.0 in labels with no predicted samples.\n",
      "  'precision', 'predicted', average, warn_for)\n",
      "C:\\Anaconda3\\lib\\site-packages\\sklearn\\metrics\\classification.py:1074: UndefinedMetricWarning: F-score is ill-defined and being set to 0.0 in labels with no predicted samples.\n",
      "  'precision', 'predicted', average, warn_for)\n"
     ]
    }
   ],
   "source": [
    "df_test_f_tfidf_logreg, accuracy_tfidf_logreg, precision_tfidf_logreg, recall_tfidf_logreg, f1_tfidf_logreg = classify_logreg(X_train_tfidf,y_train,X_test_tfidf,y_test)\n",
    "print('accuracy = {:0.5f}, precision = {:0.5f}, recall = {:0.5f}, f1 = {:0.5f}'.format(accuracy_tfidf_logreg, precision_tfidf_logreg, recall_tfidf_logreg, f1_tfidf_logreg))"
   ]
  },
  {
   "cell_type": "code",
   "execution_count": 28,
   "metadata": {
    "collapsed": false
   },
   "outputs": [
    {
     "name": "stdout",
     "output_type": "stream",
     "text": [
      "accuracy = 0.52605, precision = 0.35901, recall = 0.16133, f1 = 0.20421\n"
     ]
    },
    {
     "name": "stderr",
     "output_type": "stream",
     "text": [
      "C:\\Anaconda3\\lib\\site-packages\\sklearn\\metrics\\classification.py:1074: UndefinedMetricWarning: Precision is ill-defined and being set to 0.0 in labels with no predicted samples.\n",
      "  'precision', 'predicted', average, warn_for)\n",
      "C:\\Anaconda3\\lib\\site-packages\\sklearn\\metrics\\classification.py:1074: UndefinedMetricWarning: F-score is ill-defined and being set to 0.0 in labels with no predicted samples.\n",
      "  'precision', 'predicted', average, warn_for)\n"
     ]
    }
   ],
   "source": [
    "df_test_f_tfidf_NB, accuracy_tfidf_NB, precision_tfidf_NB, recall_tfidf_NB, f1_tfidf_NB = classify_NB(X_train_tfidf,y_train,X_test_tfidf,y_test)\n",
    "print('accuracy = {:0.5f}, precision = {:0.5f}, recall = {:0.5f}, f1 = {:0.5f}'.format(accuracy_tfidf_NB, precision_tfidf_NB, recall_tfidf_NB, f1_tfidf_NB))"
   ]
  },
  {
   "cell_type": "code",
   "execution_count": 29,
   "metadata": {
    "collapsed": false
   },
   "outputs": [
    {
     "name": "stdout",
     "output_type": "stream",
     "text": [
      "accuracy = 0.56493, precision = 0.58677, recall = 0.26474, f1 = 0.31416\n"
     ]
    },
    {
     "name": "stderr",
     "output_type": "stream",
     "text": [
      "C:\\Anaconda3\\lib\\site-packages\\sklearn\\metrics\\classification.py:1074: UndefinedMetricWarning: Precision is ill-defined and being set to 0.0 in labels with no predicted samples.\n",
      "  'precision', 'predicted', average, warn_for)\n",
      "C:\\Anaconda3\\lib\\site-packages\\sklearn\\metrics\\classification.py:1074: UndefinedMetricWarning: F-score is ill-defined and being set to 0.0 in labels with no predicted samples.\n",
      "  'precision', 'predicted', average, warn_for)\n"
     ]
    }
   ],
   "source": [
    "df_test_f_tfidf_forest, accuracy_tfidf_forest, precision_tfidf_forest, recall_forest_NB, f1_tfidf_forest = classify_random_forest(X_train_tfidf,y_train,X_test_tfidf,y_test)\n",
    "print('accuracy = {:0.5f}, precision = {:0.5f}, recall = {:0.5f}, f1 = {:0.5f}'.format(accuracy_tfidf_forest, precision_tfidf_forest, recall_forest_NB, f1_tfidf_forest))"
   ]
  },
  {
   "cell_type": "markdown",
   "metadata": {},
   "source": [
    "# Word2Vec"
   ]
  },
  {
   "cell_type": "code",
   "execution_count": 30,
   "metadata": {
    "collapsed": false
   },
   "outputs": [
    {
     "name": "stderr",
     "output_type": "stream",
     "text": [
      "2017-06-18 23:24:45,834 : INFO : collecting all words and their counts\n",
      "2017-06-18 23:24:45,835 : INFO : PROGRESS: at sentence #0, processed 0 words, keeping 0 word types\n",
      "2017-06-18 23:24:45,853 : INFO : collected 4255 word types from a corpus of 41494 raw words and 3655 sentences\n",
      "2017-06-18 23:24:45,854 : INFO : Loading a fresh vocabulary\n",
      "2017-06-18 23:24:45,861 : INFO : min_count=5 retains 1047 unique words (24% of original 4255, drops 3208)\n",
      "2017-06-18 23:24:45,862 : INFO : min_count=5 leaves 36567 word corpus (88% of original 41494, drops 4927)\n",
      "2017-06-18 23:24:45,870 : INFO : deleting the raw counts dictionary of 4255 items\n",
      "2017-06-18 23:24:45,872 : INFO : sample=0.001 downsamples 69 most-common words\n",
      "2017-06-18 23:24:45,872 : INFO : downsampling leaves estimated 27012 word corpus (73.9% of prior 36567)\n",
      "2017-06-18 23:24:45,873 : INFO : estimated required memory for 1047 words and 1000 dimensions: 8899500 bytes\n",
      "2017-06-18 23:24:45,880 : INFO : resetting layer weights\n",
      "2017-06-18 23:24:45,924 : INFO : training model with 4 workers on 1047 vocabulary and 1000 features, using sg=0 hs=0 sample=0.001 negative=5 window=5\n",
      "2017-06-18 23:24:45,924 : INFO : expecting 3655 sentences, matching count from corpus used for vocabulary survey\n",
      "2017-06-18 23:24:46,407 : INFO : worker thread finished; awaiting finish of 3 more threads\n",
      "2017-06-18 23:24:46,436 : INFO : worker thread finished; awaiting finish of 2 more threads\n",
      "2017-06-18 23:24:46,439 : INFO : worker thread finished; awaiting finish of 1 more threads\n",
      "2017-06-18 23:24:46,456 : INFO : worker thread finished; awaiting finish of 0 more threads\n",
      "2017-06-18 23:24:46,457 : INFO : training on 207470 raw words (135203 effective words) took 0.5s, 259713 effective words/s\n",
      "2017-06-18 23:24:46,458 : WARNING : under 10 jobs per worker: consider setting a smaller `batch_words' for smoother alpha decay\n"
     ]
    }
   ],
   "source": [
    "model = gensim.models.Word2Vec(train_sentences,size=1000,window=5,min_count=5, workers=4)"
   ]
  },
  {
   "cell_type": "code",
   "execution_count": 31,
   "metadata": {
    "collapsed": false
   },
   "outputs": [],
   "source": [
    "def makeFeatureVec(words, model, num_features):\n",
    "    # Function to average all of the word vectors in a given\n",
    "    # paragraph\n",
    "    #\n",
    "    # Pre-initialize an empty numpy array (for speed)\n",
    "    featureVec = np.zeros((num_features,))\n",
    "    #\n",
    "    nwords = 0.\n",
    "    # \n",
    "    # Index2word is a list that contains the names of the words in \n",
    "    # the model's vocabulary. Convert it to a set, for speed \n",
    "    index2word_set = set(model.wv.index2word)\n",
    "    #\n",
    "    # Loop over each word in the review and, if it is in the model's\n",
    "    # vocaublary, add its feature vector to the total\n",
    "    for word in words:\n",
    "        if word in index2word_set: \n",
    "            nwords = nwords + 1.\n",
    "            featureVec = np.add(featureVec,model[word])\n",
    "    # \n",
    "    # Divide the result by the number of words to get the average\n",
    "    if nwords != 0.0:\n",
    "        featureVec = np.true_divide(featureVec,nwords)\n",
    "    else:\n",
    "        featureVec = np.zeros((num_features,))\n",
    "    return featureVec\n",
    "\n",
    "\n",
    "def getAvgFeatureVecs(reviews, model, num_features):\n",
    "    # Given a set of reviews (each one a list of words), calculate \n",
    "    # the average feature vector for each one and return a 2D numpy array \n",
    "    # \n",
    "    # Initialize a counter\n",
    "    counter = 0.\n",
    "    # \n",
    "    # Preallocate a 2D numpy array, for speed\n",
    "    reviewFeatureVecs = np.zeros((len(reviews),num_features))\n",
    "    #reviewFeatureVecs = np.array((len(reviews),num_features))\n",
    "    # \n",
    "    # Loop through the reviews\n",
    "    for i in range(len(reviews)):\n",
    "        reviewFeatureVecs[i] = makeFeatureVec(reviews[i], model, num_features)\n",
    "        \n",
    "    #for review in reviews:\n",
    "\n",
    "       # Call the function (defined above) that makes average feature vectors\n",
    "       #reviewFeatureVecs[counter] = makeFeatureVec(review, model, \\\n",
    "       #    num_features)\n",
    "       #\n",
    "       # Increment the counter\n",
    "       #counter = counter + 1.\n",
    "    \n",
    "    return reviewFeatureVecs"
   ]
  },
  {
   "cell_type": "code",
   "execution_count": 32,
   "metadata": {
    "collapsed": false
   },
   "outputs": [
    {
     "name": "stdout",
     "output_type": "stream",
     "text": [
      "Creating average feature vecs for test reviews\n"
     ]
    }
   ],
   "source": [
    "# ****************************************************************\n",
    "# Calculate average feature vectors for training and testing sets,\n",
    "# using the functions we defined above. Notice that we now use stop word\n",
    "# removal.\n",
    "\n",
    "\n",
    "trainDataVecs = getAvgFeatureVecs( train_sentences, model, 1000 )\n",
    "\n",
    "print (\"Creating average feature vecs for test reviews\")\n",
    "\n",
    "testDataVecs = getAvgFeatureVecs( test_sentences, model, 1000 )"
   ]
  },
  {
   "cell_type": "code",
   "execution_count": 33,
   "metadata": {
    "collapsed": true
   },
   "outputs": [],
   "source": [
    "def classify_SVC2(X_train, y_train, X_test, y_test):\n",
    "    clf = OneVsRestClassifier(SVC(kernel='linear', random_state=241, probability=True))\n",
    "    clf.fit(X_train,y_train)\n",
    "    clf.predict_proba(X_test)\n",
    "    classes = list(mlb.classes_)\n",
    "    classes_final = []\n",
    "    for line in clf.predict_proba(X_test):\n",
    "        cl = []\n",
    "        for i in range(len(classes)):\n",
    "            if line[i] >= 0.2:\n",
    "                cl.append(classes[i])\n",
    "        classes_final.append(cl)\n",
    "    classes_final_s = pd.Series(classes_final)\n",
    "    df_test_f = pd.concat([df_test,classes_final_s], axis = 1)\n",
    "    df_test_f.rename(columns={0:\"predicted classes\"})\n",
    "    #accuracy=clf.score(X_test,y_test)\n",
    "    y_pred = clf.predict(X_test)\n",
    "    accuracy = metrics.accuracy_score(y_test, y_pred)\n",
    "    precision = metrics.precision_score(y_test, y_pred, average = 'weighted')\n",
    "    recall = metrics.recall_score(y_test, y_pred, average = 'weighted')\n",
    "    f1=metrics.f1_score(y_test, y_pred, average = 'weighted')\n",
    "    #coverage_error = metrics.coverage_error(y_test, clf.predict_proba(X_test))\n",
    "    return df_test_f, accuracy, precision, recall, f1\n"
   ]
  },
  {
   "cell_type": "code",
   "execution_count": 34,
   "metadata": {
    "collapsed": false
   },
   "outputs": [
    {
     "name": "stdout",
     "output_type": "stream",
     "text": [
      "accuracy = 0.24897, precision = 0.00000, recall = 0.00000, f1 = 0.00000\n"
     ]
    },
    {
     "name": "stderr",
     "output_type": "stream",
     "text": [
      "C:\\Anaconda3\\lib\\site-packages\\sklearn\\metrics\\classification.py:1074: UndefinedMetricWarning: Precision is ill-defined and being set to 0.0 in labels with no predicted samples.\n",
      "  'precision', 'predicted', average, warn_for)\n",
      "C:\\Anaconda3\\lib\\site-packages\\sklearn\\metrics\\classification.py:1074: UndefinedMetricWarning: F-score is ill-defined and being set to 0.0 in labels with no predicted samples.\n",
      "  'precision', 'predicted', average, warn_for)\n"
     ]
    }
   ],
   "source": [
    "df_test_f_w2v_SVC, accuracy_w2v_SVC, precision_w2v_SVC, recall_w2v_SVC, f1_w2v_SVC = classify_SVC2(trainDataVecs,y_train,testDataVecs,y_test)\n",
    "print('accuracy = {:0.5f}, precision = {:0.5f}, recall = {:0.5f}, f1 = {:0.5f}'.format(accuracy_w2v_SVC, precision_w2v_SVC, recall_w2v_SVC, f1_w2v_SVC))"
   ]
  },
  {
   "cell_type": "code",
   "execution_count": 35,
   "metadata": {
    "collapsed": true
   },
   "outputs": [],
   "source": [
    "from sklearn.naive_bayes import GaussianNB\n",
    "def classify_NB(X_train, y_train, X_test, y_test):\n",
    "    clf = OneVsRestClassifier(GaussianNB())\n",
    "    clf.fit(X_train,y_train)\n",
    "    clf.predict_proba(X_test)\n",
    "    classes = list(mlb.classes_)\n",
    "    classes_final = []\n",
    "    for line in clf.predict_proba(X_test):\n",
    "        cl = []\n",
    "        for i in range(len(classes)):\n",
    "            if line[i] >= 0.2:\n",
    "                cl.append(classes[i])\n",
    "        classes_final.append(cl)\n",
    "    classes_final_s = pd.Series(classes_final)\n",
    "    df_test_f = pd.concat([df_test,classes_final_s], axis = 1)\n",
    "    df_test_f.rename(columns={0:\"predicted classes\"})\n",
    "    #accuracy=clf.score(X_test,y_test)\n",
    "    y_pred = clf.predict(X_test)\n",
    "    accuracy = metrics.accuracy_score(y_test, y_pred)\n",
    "    precision = metrics.precision_score(y_test, y_pred, average = 'micro')\n",
    "    recall = metrics.recall_score(y_test, y_pred, average = 'micro')\n",
    "    f1=metrics.f1_score(y_test, y_pred, average = 'micro')\n",
    "    #coverage_error = metrics.coverage_error(y_test, clf.predict_proba(X_test))\n",
    "    return df_test_f, accuracy, precision, recall, f1"
   ]
  },
  {
   "cell_type": "code",
   "execution_count": 36,
   "metadata": {
    "collapsed": false
   },
   "outputs": [
    {
     "name": "stdout",
     "output_type": "stream",
     "text": [
      "accuracy = 0.01820, precision = 0.08966, recall = 0.77273, f1 = 0.16067\n"
     ]
    }
   ],
   "source": [
    "df_test_f_w2v_NB, accuracy_w2v_NB, precision_w2v_NB, recall_w2v_NB, f1_w2v_NB = classify_NB(trainDataVecs,y_train,testDataVecs,y_test)\n",
    "print('accuracy = {:0.5f}, precision = {:0.5f}, recall = {:0.5f}, f1 = {:0.5f}'.format(accuracy_w2v_NB, precision_w2v_NB, recall_w2v_NB, f1_w2v_NB))"
   ]
  },
  {
   "cell_type": "code",
   "execution_count": 37,
   "metadata": {
    "collapsed": false
   },
   "outputs": [
    {
     "name": "stderr",
     "output_type": "stream",
     "text": [
      "C:\\Anaconda3\\lib\\site-packages\\sklearn\\metrics\\classification.py:1074: UndefinedMetricWarning: Precision is ill-defined and being set to 0.0 in labels with no predicted samples.\n",
      "  'precision', 'predicted', average, warn_for)\n",
      "C:\\Anaconda3\\lib\\site-packages\\sklearn\\metrics\\classification.py:1074: UndefinedMetricWarning: F-score is ill-defined and being set to 0.0 in labels with no predicted samples.\n",
      "  'precision', 'predicted', average, warn_for)\n"
     ]
    }
   ],
   "source": [
    "df_test_f_w2v, accuracy_w2v, precision_w2v, recall_w2v, f1_w2v = classify_random_forest(trainDataVecs,y_train,testDataVecs,y_test)"
   ]
  },
  {
   "cell_type": "code",
   "execution_count": 38,
   "metadata": {
    "collapsed": false
   },
   "outputs": [
    {
     "name": "stdout",
     "output_type": "stream",
     "text": [
      "accuracy = 0.33995, precision = 0.26932, recall = 0.04746, f1 = 0.07792\n"
     ]
    }
   ],
   "source": [
    "print('accuracy = {:0.5f}, precision = {:0.5f}, recall = {:0.5f}, f1 = {:0.5f}'.format(accuracy_w2v, precision_w2v, recall_w2v, f1_w2v))"
   ]
  },
  {
   "cell_type": "code",
   "execution_count": 39,
   "metadata": {
    "collapsed": true
   },
   "outputs": [],
   "source": [
    "def classify_SVC2(X_train, y_train, X_test, y_test):\n",
    "    clf = OneVsRestClassifier(SVC(kernel='linear', random_state=241, probability=True))\n",
    "    clf.fit(X_train,y_train)\n",
    "    clf.predict_proba(X_test)\n",
    "    classes = list(mlb.classes_)\n",
    "    classes_final = []\n",
    "    for line in clf.predict_proba(X_test):\n",
    "        cl = []\n",
    "        for i in range(len(classes)):\n",
    "            if line[i] >= 0.2:\n",
    "                cl.append(classes[i])\n",
    "        classes_final.append(cl)\n",
    "    classes_final_s = pd.Series(classes_final)\n",
    "    df_test_f = pd.concat([df_test,classes_final_s], axis = 1)\n",
    "    df_test_f.rename(columns={0:\"predicted classes\"})\n",
    "    #accuracy=clf.score(X_test,y_test)\n",
    "    y_pred = clf.predict(X_test)\n",
    "    accuracy = metrics.accuracy_score(y_test, y_pred)\n",
    "    precision = metrics.precision_score(y_test, y_pred, average = 'micro')\n",
    "    recall = metrics.recall_score(y_test, y_pred, average = 'micro')\n",
    "    f1=metrics.f1_score(y_test, y_pred, average = 'micro')\n",
    "    #coverage_error = metrics.coverage_error(y_test, clf.predict_proba(X_test))\n",
    "    return df_test_f, accuracy, precision, recall, f1\n"
   ]
  },
  {
   "cell_type": "code",
   "execution_count": 40,
   "metadata": {
    "collapsed": false
   },
   "outputs": [
    {
     "name": "stdout",
     "output_type": "stream",
     "text": [
      "accuracy = 0.24897, precision = 0.00000, recall = 0.00000, f1 = 0.00000\n"
     ]
    },
    {
     "name": "stderr",
     "output_type": "stream",
     "text": [
      "C:\\Anaconda3\\lib\\site-packages\\sklearn\\metrics\\classification.py:1074: UndefinedMetricWarning: Precision is ill-defined and being set to 0.0 due to no predicted samples.\n",
      "  'precision', 'predicted', average, warn_for)\n",
      "C:\\Anaconda3\\lib\\site-packages\\sklearn\\metrics\\classification.py:1074: UndefinedMetricWarning: F-score is ill-defined and being set to 0.0 due to no predicted samples.\n",
      "  'precision', 'predicted', average, warn_for)\n"
     ]
    }
   ],
   "source": [
    "df_test_f_w2v_SVC, accuracy_w2v_SVC, precision_w2v_SVC, recall_w2v_SVC, f1_w2v_SVC = classify_SVC2(trainDataVecs,y_train,testDataVecs,y_test)\n",
    "print('accuracy = {:0.5f}, precision = {:0.5f}, recall = {:0.5f}, f1 = {:0.5f}'.format(accuracy_w2v_SVC, precision_w2v_SVC, recall_w2v_SVC, f1_w2v_SVC))"
   ]
  },
  {
   "cell_type": "code",
   "execution_count": 41,
   "metadata": {
    "collapsed": false
   },
   "outputs": [
    {
     "name": "stdout",
     "output_type": "stream",
     "text": [
      "accuracy = 0.51530, precision = 0.61080, recall = 0.21042, f1 = 0.27739\n"
     ]
    },
    {
     "name": "stderr",
     "output_type": "stream",
     "text": [
      "C:\\Anaconda3\\lib\\site-packages\\sklearn\\metrics\\classification.py:1074: UndefinedMetricWarning: Precision is ill-defined and being set to 0.0 in labels with no predicted samples.\n",
      "  'precision', 'predicted', average, warn_for)\n",
      "C:\\Anaconda3\\lib\\site-packages\\sklearn\\metrics\\classification.py:1074: UndefinedMetricWarning: F-score is ill-defined and being set to 0.0 in labels with no predicted samples.\n",
      "  'precision', 'predicted', average, warn_for)\n"
     ]
    }
   ],
   "source": [
    "df_test_f_w2v_logreg, accuracy_w2v_logreg, precision_w2v_logreg, recall_w2v_logreg, f1_w2v_logreg = classify_logreg(trainDataVecs,y_train,testDataVecs,y_test)\n",
    "print('accuracy = {:0.5f}, precision = {:0.5f}, recall = {:0.5f}, f1 = {:0.5f}'.format(accuracy_w2v_logreg, precision_w2v_logreg, recall_w2v_logreg, f1_w2v_logreg))"
   ]
  },
  {
   "cell_type": "code",
   "execution_count": 42,
   "metadata": {
    "collapsed": false
   },
   "outputs": [
    {
     "name": "stdout",
     "output_type": "stream",
     "text": [
      "accuracy = 0.01820, precision = 0.08966, recall = 0.77273, f1 = 0.16067\n"
     ]
    }
   ],
   "source": [
    "df_test_f_w2v_NB, accuracy_w2v_NB, precision_w2v_NB, recall_w2v_NB, f1_w2v_NB = classify_NB(trainDataVecs,y_train,testDataVecs,y_test)\n",
    "print('accuracy = {:0.5f}, precision = {:0.5f}, recall = {:0.5f}, f1 = {:0.5f}'.format(accuracy_w2v_NB, precision_w2v_NB, recall_w2v_NB, f1_w2v_NB))"
   ]
  },
  {
   "cell_type": "code",
   "execution_count": 43,
   "metadata": {
    "collapsed": false
   },
   "outputs": [
    {
     "data": {
      "text/html": [
       "<div>\n",
       "<table border=\"1\" class=\"dataframe\">\n",
       "  <thead>\n",
       "    <tr style=\"text-align: right;\">\n",
       "      <th></th>\n",
       "      <th>sentence</th>\n",
       "      <th>category</th>\n",
       "      <th>0</th>\n",
       "    </tr>\n",
       "  </thead>\n",
       "  <tbody>\n",
       "    <tr>\n",
       "      <th>0</th>\n",
       "      <td>Очень милый, уютный ресторанчик со скромными ц...</td>\n",
       "      <td>[FOOD#PRICES, FOOD#QUALITY, FOOD#STYLE_OPTIONS...</td>\n",
       "      <td>[AMBIENCE#GENERAL, FOOD#QUALITY, FOOD#STYLE_OP...</td>\n",
       "    </tr>\n",
       "    <tr>\n",
       "      <th>1</th>\n",
       "      <td>Мы отмечали день рожденья,нам разрешили принес...</td>\n",
       "      <td>[]</td>\n",
       "      <td>[SERVICE#GENERAL]</td>\n",
       "    </tr>\n",
       "    <tr>\n",
       "      <th>2</th>\n",
       "      <td>Салаты со свежайшей зеленью, мясо и курица неж...</td>\n",
       "      <td>[FOOD#QUALITY]</td>\n",
       "      <td>[AMBIENCE#GENERAL, FOOD#QUALITY, FOOD#STYLE_OP...</td>\n",
       "    </tr>\n",
       "    <tr>\n",
       "      <th>3</th>\n",
       "      <td>Официантки вежливые и улыбчивые.</td>\n",
       "      <td>[SERVICE#GENERAL]</td>\n",
       "      <td>[AMBIENCE#GENERAL, FOOD#QUALITY, FOOD#STYLE_OP...</td>\n",
       "    </tr>\n",
       "    <tr>\n",
       "      <th>4</th>\n",
       "      <td>Единственное,что немного не понравилось - долг...</td>\n",
       "      <td>[SERVICE#GENERAL]</td>\n",
       "      <td>[FOOD#QUALITY, RESTAURANT#GENERAL, SERVICE#GEN...</td>\n",
       "    </tr>\n",
       "    <tr>\n",
       "      <th>5</th>\n",
       "      <td>Но это мелочи.</td>\n",
       "      <td>[]</td>\n",
       "      <td>[AMBIENCE#GENERAL, FOOD#QUALITY, RESTAURANT#GE...</td>\n",
       "    </tr>\n",
       "    <tr>\n",
       "      <th>6</th>\n",
       "      <td>Общее впечатление прекрасное.</td>\n",
       "      <td>[RESTAURANT#GENERAL]</td>\n",
       "      <td>[AMBIENCE#GENERAL, RESTAURANT#GENERAL]</td>\n",
       "    </tr>\n",
       "    <tr>\n",
       "      <th>7</th>\n",
       "      <td>Советуем!</td>\n",
       "      <td>[RESTAURANT#GENERAL]</td>\n",
       "      <td>[RESTAURANT#GENERAL]</td>\n",
       "    </tr>\n",
       "    <tr>\n",
       "      <th>8</th>\n",
       "      <td>Отличный ресторан, была здесь уже не раз и вот...</td>\n",
       "      <td>[RESTAURANT#GENERAL]</td>\n",
       "      <td>[FOOD#QUALITY, RESTAURANT#GENERAL, SERVICE#GEN...</td>\n",
       "    </tr>\n",
       "    <tr>\n",
       "      <th>9</th>\n",
       "      <td>И я, и все гости остались очень довольны.</td>\n",
       "      <td>[RESTAURANT#GENERAL]</td>\n",
       "      <td>[AMBIENCE#GENERAL, FOOD#QUALITY, RESTAURANT#GE...</td>\n",
       "    </tr>\n",
       "    <tr>\n",
       "      <th>10</th>\n",
       "      <td>Кухня на уровне, все свежее ,вкусное и аутенти...</td>\n",
       "      <td>[FOOD#QUALITY]</td>\n",
       "      <td>[AMBIENCE#GENERAL, FOOD#QUALITY, FOOD#STYLE_OP...</td>\n",
       "    </tr>\n",
       "    <tr>\n",
       "      <th>11</th>\n",
       "      <td>Особенно хочется отметить спиртные напитки - в...</td>\n",
       "      <td>[DRINKS#QUALITY]</td>\n",
       "      <td>[AMBIENCE#GENERAL, FOOD#QUALITY, FOOD#STYLE_OP...</td>\n",
       "    </tr>\n",
       "    <tr>\n",
       "      <th>12</th>\n",
       "      <td>Порадовали музыканты - играли душевно, так что...</td>\n",
       "      <td>[AMBIENCE#GENERAL]</td>\n",
       "      <td>[FOOD#QUALITY, RESTAURANT#GENERAL, SERVICE#GEN...</td>\n",
       "    </tr>\n",
       "    <tr>\n",
       "      <th>13</th>\n",
       "      <td>Счет за все это великолепие оказался совсем не...</td>\n",
       "      <td>[RESTAURANT#PRICES]</td>\n",
       "      <td>[AMBIENCE#GENERAL, FOOD#QUALITY, RESTAURANT#GE...</td>\n",
       "    </tr>\n",
       "    <tr>\n",
       "      <th>14</th>\n",
       "      <td>Из небольших недочетов - сигары оказались стар...</td>\n",
       "      <td>[SERVICE#GENERAL, RESTAURANT#MISCELLANEOUS]</td>\n",
       "      <td>[AMBIENCE#GENERAL, FOOD#QUALITY, FOOD#STYLE_OP...</td>\n",
       "    </tr>\n",
       "    <tr>\n",
       "      <th>15</th>\n",
       "      <td>В целом праздник удался, все было на уровне.</td>\n",
       "      <td>[RESTAURANT#GENERAL]</td>\n",
       "      <td>[FOOD#QUALITY, RESTAURANT#GENERAL, SERVICE#GEN...</td>\n",
       "    </tr>\n",
       "    <tr>\n",
       "      <th>16</th>\n",
       "      <td>Обязательно придем к вам еще!</td>\n",
       "      <td>[RESTAURANT#GENERAL]</td>\n",
       "      <td>[RESTAURANT#GENERAL, SERVICE#GENERAL]</td>\n",
       "    </tr>\n",
       "    <tr>\n",
       "      <th>17</th>\n",
       "      <td>Интерьер прекрасный!</td>\n",
       "      <td>[AMBIENCE#GENERAL]</td>\n",
       "      <td>[AMBIENCE#GENERAL, FOOD#QUALITY, RESTAURANT#GE...</td>\n",
       "    </tr>\n",
       "    <tr>\n",
       "      <th>18</th>\n",
       "      <td>Для меня это просто идеальный интерьер небольш...</td>\n",
       "      <td>[AMBIENCE#GENERAL]</td>\n",
       "      <td>[AMBIENCE#GENERAL, RESTAURANT#GENERAL]</td>\n",
       "    </tr>\n",
       "    <tr>\n",
       "      <th>19</th>\n",
       "      <td>Очень уютно, как-то тепло и по-домашнему, и в ...</td>\n",
       "      <td>[AMBIENCE#GENERAL]</td>\n",
       "      <td>[AMBIENCE#GENERAL, FOOD#QUALITY, FOOD#STYLE_OP...</td>\n",
       "    </tr>\n",
       "    <tr>\n",
       "      <th>20</th>\n",
       "      <td>Оттуда не хочется уходить.</td>\n",
       "      <td>[AMBIENCE#GENERAL]</td>\n",
       "      <td>[FOOD#QUALITY, RESTAURANT#GENERAL, SERVICE#GEN...</td>\n",
       "    </tr>\n",
       "    <tr>\n",
       "      <th>21</th>\n",
       "      <td>Цены очень доступные для ресторана.</td>\n",
       "      <td>[RESTAURANT#PRICES]</td>\n",
       "      <td>[AMBIENCE#GENERAL, FOOD#QUALITY, FOOD#STYLE_OP...</td>\n",
       "    </tr>\n",
       "    <tr>\n",
       "      <th>22</th>\n",
       "      <td>Теперь о минусах.</td>\n",
       "      <td>[RESTAURANT#GENERAL]</td>\n",
       "      <td>[RESTAURANT#GENERAL]</td>\n",
       "    </tr>\n",
       "    <tr>\n",
       "      <th>23</th>\n",
       "      <td>Во-первых обслуживание странное.</td>\n",
       "      <td>[SERVICE#GENERAL]</td>\n",
       "      <td>[FOOD#QUALITY, RESTAURANT#GENERAL, SERVICE#GEN...</td>\n",
       "    </tr>\n",
       "    <tr>\n",
       "      <th>24</th>\n",
       "      <td>Возможно нам просто попался неприветливый офиц...</td>\n",
       "      <td>[SERVICE#GENERAL]</td>\n",
       "      <td>[AMBIENCE#GENERAL, FOOD#QUALITY, FOOD#STYLE_OP...</td>\n",
       "    </tr>\n",
       "    <tr>\n",
       "      <th>25</th>\n",
       "      <td>Кроме того, я была просто поражена, что официа...</td>\n",
       "      <td>[SERVICE#GENERAL]</td>\n",
       "      <td>[FOOD#QUALITY, RESTAURANT#GENERAL, SERVICE#GEN...</td>\n",
       "    </tr>\n",
       "    <tr>\n",
       "      <th>26</th>\n",
       "      <td>Официанты почему-то общались только со мной, а...</td>\n",
       "      <td>[SERVICE#GENERAL]</td>\n",
       "      <td>[FOOD#QUALITY, RESTAURANT#GENERAL, SERVICE#GEN...</td>\n",
       "    </tr>\n",
       "    <tr>\n",
       "      <th>27</th>\n",
       "      <td>Для ресторана в центре города я считаю это неп...</td>\n",
       "      <td>[RESTAURANT#GENERAL]</td>\n",
       "      <td>[AMBIENCE#GENERAL, RESTAURANT#GENERAL]</td>\n",
       "    </tr>\n",
       "    <tr>\n",
       "      <th>28</th>\n",
       "      <td>Но это еще не все - вместо одного супа мне при...</td>\n",
       "      <td>[SERVICE#GENERAL]</td>\n",
       "      <td>[FOOD#QUALITY, RESTAURANT#GENERAL, SERVICE#GEN...</td>\n",
       "    </tr>\n",
       "    <tr>\n",
       "      <th>29</th>\n",
       "      <td>Я заметила это не сразу и кроме того у меня в ...</td>\n",
       "      <td>[]</td>\n",
       "      <td>[AMBIENCE#GENERAL, FOOD#QUALITY, RESTAURANT#GE...</td>\n",
       "    </tr>\n",
       "    <tr>\n",
       "      <th>...</th>\n",
       "      <td>...</td>\n",
       "      <td>...</td>\n",
       "      <td>...</td>\n",
       "    </tr>\n",
       "    <tr>\n",
       "      <th>1179</th>\n",
       "      <td>Много слышал об этом заведении и решил придти ...</td>\n",
       "      <td>[]</td>\n",
       "      <td>[AMBIENCE#GENERAL, FOOD#QUALITY, RESTAURANT#GE...</td>\n",
       "    </tr>\n",
       "    <tr>\n",
       "      <th>1180</th>\n",
       "      <td>Взял себе как обычно салат Цезарь и мороженое ...</td>\n",
       "      <td>[]</td>\n",
       "      <td>[FOOD#QUALITY, SERVICE#GENERAL]</td>\n",
       "    </tr>\n",
       "    <tr>\n",
       "      <th>1181</th>\n",
       "      <td>Хорошо когда в баре умеет и кофе готовить вкус...</td>\n",
       "      <td>[FOOD#QUALITY, SERVICE#GENERAL, DRINKS#QUALITY]</td>\n",
       "      <td>[AMBIENCE#GENERAL, FOOD#QUALITY, FOOD#STYLE_OP...</td>\n",
       "    </tr>\n",
       "    <tr>\n",
       "      <th>1182</th>\n",
       "      <td>Была хорошая атмосфера отдыха и отрешенности о...</td>\n",
       "      <td>[AMBIENCE#GENERAL]</td>\n",
       "      <td>[AMBIENCE#GENERAL, FOOD#QUALITY, FOOD#STYLE_OP...</td>\n",
       "    </tr>\n",
       "    <tr>\n",
       "      <th>1183</th>\n",
       "      <td>Правильный интерьер, как в нормальном мужском ...</td>\n",
       "      <td>[SERVICE#GENERAL, RESTAURANT#PRICES, AMBIENCE#...</td>\n",
       "      <td>[AMBIENCE#GENERAL, FOOD#QUALITY, RESTAURANT#GE...</td>\n",
       "    </tr>\n",
       "    <tr>\n",
       "      <th>1184</th>\n",
       "      <td>Единственный минус для меня это то что паб нах...</td>\n",
       "      <td>[RESTAURANT#GENERAL, LOCATION#GENERAL]</td>\n",
       "      <td>[AMBIENCE#GENERAL, FOOD#QUALITY, RESTAURANT#GE...</td>\n",
       "    </tr>\n",
       "    <tr>\n",
       "      <th>1185</th>\n",
       "      <td>Давно хотела посетить это заведение.</td>\n",
       "      <td>[]</td>\n",
       "      <td>[AMBIENCE#GENERAL, RESTAURANT#GENERAL]</td>\n",
       "    </tr>\n",
       "    <tr>\n",
       "      <th>1186</th>\n",
       "      <td>09.05.2014 столик заказала по телефону за 2 ча...</td>\n",
       "      <td>[]</td>\n",
       "      <td>[FOOD#QUALITY, FOOD#STYLE_OPTIONS, RESTAURANT#...</td>\n",
       "    </tr>\n",
       "    <tr>\n",
       "      <th>1187</th>\n",
       "      <td>Однако, свободных столиков было много.</td>\n",
       "      <td>[]</td>\n",
       "      <td>[FOOD#QUALITY]</td>\n",
       "    </tr>\n",
       "    <tr>\n",
       "      <th>1188</th>\n",
       "      <td>В высказываниях буду краткой.</td>\n",
       "      <td>[]</td>\n",
       "      <td>[AMBIENCE#GENERAL, FOOD#QUALITY, RESTAURANT#GE...</td>\n",
       "    </tr>\n",
       "    <tr>\n",
       "      <th>1189</th>\n",
       "      <td>Кухня: вкусно, все супер - 10 баллов.</td>\n",
       "      <td>[FOOD#QUALITY]</td>\n",
       "      <td>[FOOD#QUALITY, RESTAURANT#GENERAL, SERVICE#GEN...</td>\n",
       "    </tr>\n",
       "    <tr>\n",
       "      <th>1190</th>\n",
       "      <td>Персонал: вежливый, приветливый.</td>\n",
       "      <td>[SERVICE#GENERAL]</td>\n",
       "      <td>[AMBIENCE#GENERAL, FOOD#QUALITY, RESTAURANT#GE...</td>\n",
       "    </tr>\n",
       "    <tr>\n",
       "      <th>1191</th>\n",
       "      <td>Интерьер: все просто, аккуратно, без излишеств.</td>\n",
       "      <td>[AMBIENCE#GENERAL]</td>\n",
       "      <td>[AMBIENCE#GENERAL, FOOD#QUALITY, RESTAURANT#GE...</td>\n",
       "    </tr>\n",
       "    <tr>\n",
       "      <th>1192</th>\n",
       "      <td>Сумма чека: 3500-3700 (+два бокала вина).</td>\n",
       "      <td>[]</td>\n",
       "      <td>[FOOD#QUALITY, SERVICE#GENERAL]</td>\n",
       "    </tr>\n",
       "    <tr>\n",
       "      <th>1193</th>\n",
       "      <td>Есть зал для некурящих, что несомненно важно.</td>\n",
       "      <td>[AMBIENCE#GENERAL]</td>\n",
       "      <td>[AMBIENCE#GENERAL, FOOD#QUALITY, FOOD#STYLE_OP...</td>\n",
       "    </tr>\n",
       "    <tr>\n",
       "      <th>1194</th>\n",
       "      <td>Самое неприятное случилось во время самого ужина!</td>\n",
       "      <td>[RESTAURANT#GENERAL]</td>\n",
       "      <td>[AMBIENCE#GENERAL, FOOD#QUALITY, RESTAURANT#GE...</td>\n",
       "    </tr>\n",
       "    <tr>\n",
       "      <th>1195</th>\n",
       "      <td>Это было как в плохом кино!</td>\n",
       "      <td>[]</td>\n",
       "      <td>[RESTAURANT#GENERAL]</td>\n",
       "    </tr>\n",
       "    <tr>\n",
       "      <th>1196</th>\n",
       "      <td>Моему спутнику принесли заказанное блюдо, он е...</td>\n",
       "      <td>[SERVICE#GENERAL]</td>\n",
       "      <td>[FOOD#QUALITY, FOOD#STYLE_OPTIONS, RESTAURANT#...</td>\n",
       "    </tr>\n",
       "    <tr>\n",
       "      <th>1197</th>\n",
       "      <td>Оказывается пара за соседним столиком заказала...</td>\n",
       "      <td>[]</td>\n",
       "      <td>[AMBIENCE#GENERAL, FOOD#QUALITY, FOOD#STYLE_OP...</td>\n",
       "    </tr>\n",
       "    <tr>\n",
       "      <th>1198</th>\n",
       "      <td>И Вы не поверите!</td>\n",
       "      <td>[]</td>\n",
       "      <td>[AMBIENCE#GENERAL, FOOD#QUALITY, FOOD#STYLE_OP...</td>\n",
       "    </tr>\n",
       "    <tr>\n",
       "      <th>1199</th>\n",
       "      <td>После того, как у нас \"отобрали\" еду, это блюд...</td>\n",
       "      <td>[SERVICE#GENERAL]</td>\n",
       "      <td>[FOOD#QUALITY, FOOD#STYLE_OPTIONS, RESTAURANT#...</td>\n",
       "    </tr>\n",
       "    <tr>\n",
       "      <th>1200</th>\n",
       "      <td>Слов нет!</td>\n",
       "      <td>[]</td>\n",
       "      <td>[FOOD#QUALITY, RESTAURANT#GENERAL, SERVICE#GEN...</td>\n",
       "    </tr>\n",
       "    <tr>\n",
       "      <th>1201</th>\n",
       "      <td>Настроение вечернего ужина было подпорчено.</td>\n",
       "      <td>[RESTAURANT#GENERAL]</td>\n",
       "      <td>[FOOD#QUALITY, RESTAURANT#GENERAL, SERVICE#GEN...</td>\n",
       "    </tr>\n",
       "    <tr>\n",
       "      <th>1202</th>\n",
       "      <td>Я понимаю, все люди, могут ошибаться.</td>\n",
       "      <td>[]</td>\n",
       "      <td>[RESTAURANT#GENERAL, SERVICE#GENERAL]</td>\n",
       "    </tr>\n",
       "    <tr>\n",
       "      <th>1203</th>\n",
       "      <td>Но!</td>\n",
       "      <td>[]</td>\n",
       "      <td>[AMBIENCE#GENERAL, FOOD#QUALITY, FOOD#STYLE_OP...</td>\n",
       "    </tr>\n",
       "    <tr>\n",
       "      <th>1204</th>\n",
       "      <td>И мы, и та пара в данной ситуации выглядели по...</td>\n",
       "      <td>[SERVICE#GENERAL]</td>\n",
       "      <td>[AMBIENCE#GENERAL, FOOD#QUALITY, RESTAURANT#GE...</td>\n",
       "    </tr>\n",
       "    <tr>\n",
       "      <th>1205</th>\n",
       "      <td>Ведь можно было принести извинения той паре и ...</td>\n",
       "      <td>[]</td>\n",
       "      <td>[FOOD#QUALITY, FOOD#STYLE_OPTIONS, SERVICE#GEN...</td>\n",
       "    </tr>\n",
       "    <tr>\n",
       "      <th>1206</th>\n",
       "      <td>Думаю, это был единственно возможный выход.</td>\n",
       "      <td>[]</td>\n",
       "      <td>[FOOD#QUALITY, RESTAURANT#GENERAL]</td>\n",
       "    </tr>\n",
       "    <tr>\n",
       "      <th>1207</th>\n",
       "      <td>Пойду ли я еще в это заведение?</td>\n",
       "      <td>[]</td>\n",
       "      <td>[RESTAURANT#GENERAL]</td>\n",
       "    </tr>\n",
       "    <tr>\n",
       "      <th>1208</th>\n",
       "      <td>Возможно, да, но только на ланч.</td>\n",
       "      <td>[]</td>\n",
       "      <td>[AMBIENCE#GENERAL, FOOD#QUALITY, RESTAURANT#GE...</td>\n",
       "    </tr>\n",
       "  </tbody>\n",
       "</table>\n",
       "<p>1209 rows × 3 columns</p>\n",
       "</div>"
      ],
      "text/plain": [
       "                                               sentence  \\\n",
       "0     Очень милый, уютный ресторанчик со скромными ц...   \n",
       "1     Мы отмечали день рожденья,нам разрешили принес...   \n",
       "2     Салаты со свежайшей зеленью, мясо и курица неж...   \n",
       "3                      Официантки вежливые и улыбчивые.   \n",
       "4     Единственное,что немного не понравилось - долг...   \n",
       "5                                        Но это мелочи.   \n",
       "6                         Общее впечатление прекрасное.   \n",
       "7                                             Советуем!   \n",
       "8     Отличный ресторан, была здесь уже не раз и вот...   \n",
       "9             И я, и все гости остались очень довольны.   \n",
       "10    Кухня на уровне, все свежее ,вкусное и аутенти...   \n",
       "11    Особенно хочется отметить спиртные напитки - в...   \n",
       "12    Порадовали музыканты - играли душевно, так что...   \n",
       "13    Счет за все это великолепие оказался совсем не...   \n",
       "14    Из небольших недочетов - сигары оказались стар...   \n",
       "15         В целом праздник удался, все было на уровне.   \n",
       "16                        Обязательно придем к вам еще!   \n",
       "17                                 Интерьер прекрасный!   \n",
       "18    Для меня это просто идеальный интерьер небольш...   \n",
       "19    Очень уютно, как-то тепло и по-домашнему, и в ...   \n",
       "20                           Оттуда не хочется уходить.   \n",
       "21                  Цены очень доступные для ресторана.   \n",
       "22                                    Теперь о минусах.   \n",
       "23                     Во-первых обслуживание странное.   \n",
       "24    Возможно нам просто попался неприветливый офиц...   \n",
       "25    Кроме того, я была просто поражена, что официа...   \n",
       "26    Официанты почему-то общались только со мной, а...   \n",
       "27    Для ресторана в центре города я считаю это неп...   \n",
       "28    Но это еще не все - вместо одного супа мне при...   \n",
       "29    Я заметила это не сразу и кроме того у меня в ...   \n",
       "...                                                 ...   \n",
       "1179  Много слышал об этом заведении и решил придти ...   \n",
       "1180  Взял себе как обычно салат Цезарь и мороженое ...   \n",
       "1181  Хорошо когда в баре умеет и кофе готовить вкус...   \n",
       "1182  Была хорошая атмосфера отдыха и отрешенности о...   \n",
       "1183  Правильный интерьер, как в нормальном мужском ...   \n",
       "1184  Единственный минус для меня это то что паб нах...   \n",
       "1185               Давно хотела посетить это заведение.   \n",
       "1186  09.05.2014 столик заказала по телефону за 2 ча...   \n",
       "1187             Однако, свободных столиков было много.   \n",
       "1188                      В высказываниях буду краткой.   \n",
       "1189              Кухня: вкусно, все супер - 10 баллов.   \n",
       "1190                   Персонал: вежливый, приветливый.   \n",
       "1191    Интерьер: все просто, аккуратно, без излишеств.   \n",
       "1192          Сумма чека: 3500-3700 (+два бокала вина).   \n",
       "1193      Есть зал для некурящих, что несомненно важно.   \n",
       "1194  Самое неприятное случилось во время самого ужина!   \n",
       "1195                        Это было как в плохом кино!   \n",
       "1196  Моему спутнику принесли заказанное блюдо, он е...   \n",
       "1197  Оказывается пара за соседним столиком заказала...   \n",
       "1198                                  И Вы не поверите!   \n",
       "1199  После того, как у нас \"отобрали\" еду, это блюд...   \n",
       "1200                                          Слов нет!   \n",
       "1201        Настроение вечернего ужина было подпорчено.   \n",
       "1202              Я понимаю, все люди, могут ошибаться.   \n",
       "1203                                                Но!   \n",
       "1204  И мы, и та пара в данной ситуации выглядели по...   \n",
       "1205  Ведь можно было принести извинения той паре и ...   \n",
       "1206        Думаю, это был единственно возможный выход.   \n",
       "1207                    Пойду ли я еще в это заведение?   \n",
       "1208                   Возможно, да, но только на ланч.   \n",
       "\n",
       "                                               category  \\\n",
       "0     [FOOD#PRICES, FOOD#QUALITY, FOOD#STYLE_OPTIONS...   \n",
       "1                                                    []   \n",
       "2                                        [FOOD#QUALITY]   \n",
       "3                                     [SERVICE#GENERAL]   \n",
       "4                                     [SERVICE#GENERAL]   \n",
       "5                                                    []   \n",
       "6                                  [RESTAURANT#GENERAL]   \n",
       "7                                  [RESTAURANT#GENERAL]   \n",
       "8                                  [RESTAURANT#GENERAL]   \n",
       "9                                  [RESTAURANT#GENERAL]   \n",
       "10                                       [FOOD#QUALITY]   \n",
       "11                                     [DRINKS#QUALITY]   \n",
       "12                                   [AMBIENCE#GENERAL]   \n",
       "13                                  [RESTAURANT#PRICES]   \n",
       "14          [SERVICE#GENERAL, RESTAURANT#MISCELLANEOUS]   \n",
       "15                                 [RESTAURANT#GENERAL]   \n",
       "16                                 [RESTAURANT#GENERAL]   \n",
       "17                                   [AMBIENCE#GENERAL]   \n",
       "18                                   [AMBIENCE#GENERAL]   \n",
       "19                                   [AMBIENCE#GENERAL]   \n",
       "20                                   [AMBIENCE#GENERAL]   \n",
       "21                                  [RESTAURANT#PRICES]   \n",
       "22                                 [RESTAURANT#GENERAL]   \n",
       "23                                    [SERVICE#GENERAL]   \n",
       "24                                    [SERVICE#GENERAL]   \n",
       "25                                    [SERVICE#GENERAL]   \n",
       "26                                    [SERVICE#GENERAL]   \n",
       "27                                 [RESTAURANT#GENERAL]   \n",
       "28                                    [SERVICE#GENERAL]   \n",
       "29                                                   []   \n",
       "...                                                 ...   \n",
       "1179                                                 []   \n",
       "1180                                                 []   \n",
       "1181    [FOOD#QUALITY, SERVICE#GENERAL, DRINKS#QUALITY]   \n",
       "1182                                 [AMBIENCE#GENERAL]   \n",
       "1183  [SERVICE#GENERAL, RESTAURANT#PRICES, AMBIENCE#...   \n",
       "1184             [RESTAURANT#GENERAL, LOCATION#GENERAL]   \n",
       "1185                                                 []   \n",
       "1186                                                 []   \n",
       "1187                                                 []   \n",
       "1188                                                 []   \n",
       "1189                                     [FOOD#QUALITY]   \n",
       "1190                                  [SERVICE#GENERAL]   \n",
       "1191                                 [AMBIENCE#GENERAL]   \n",
       "1192                                                 []   \n",
       "1193                                 [AMBIENCE#GENERAL]   \n",
       "1194                               [RESTAURANT#GENERAL]   \n",
       "1195                                                 []   \n",
       "1196                                  [SERVICE#GENERAL]   \n",
       "1197                                                 []   \n",
       "1198                                                 []   \n",
       "1199                                  [SERVICE#GENERAL]   \n",
       "1200                                                 []   \n",
       "1201                               [RESTAURANT#GENERAL]   \n",
       "1202                                                 []   \n",
       "1203                                                 []   \n",
       "1204                                  [SERVICE#GENERAL]   \n",
       "1205                                                 []   \n",
       "1206                                                 []   \n",
       "1207                                                 []   \n",
       "1208                                                 []   \n",
       "\n",
       "                                                      0  \n",
       "0     [AMBIENCE#GENERAL, FOOD#QUALITY, FOOD#STYLE_OP...  \n",
       "1                                     [SERVICE#GENERAL]  \n",
       "2     [AMBIENCE#GENERAL, FOOD#QUALITY, FOOD#STYLE_OP...  \n",
       "3     [AMBIENCE#GENERAL, FOOD#QUALITY, FOOD#STYLE_OP...  \n",
       "4     [FOOD#QUALITY, RESTAURANT#GENERAL, SERVICE#GEN...  \n",
       "5     [AMBIENCE#GENERAL, FOOD#QUALITY, RESTAURANT#GE...  \n",
       "6                [AMBIENCE#GENERAL, RESTAURANT#GENERAL]  \n",
       "7                                  [RESTAURANT#GENERAL]  \n",
       "8     [FOOD#QUALITY, RESTAURANT#GENERAL, SERVICE#GEN...  \n",
       "9     [AMBIENCE#GENERAL, FOOD#QUALITY, RESTAURANT#GE...  \n",
       "10    [AMBIENCE#GENERAL, FOOD#QUALITY, FOOD#STYLE_OP...  \n",
       "11    [AMBIENCE#GENERAL, FOOD#QUALITY, FOOD#STYLE_OP...  \n",
       "12    [FOOD#QUALITY, RESTAURANT#GENERAL, SERVICE#GEN...  \n",
       "13    [AMBIENCE#GENERAL, FOOD#QUALITY, RESTAURANT#GE...  \n",
       "14    [AMBIENCE#GENERAL, FOOD#QUALITY, FOOD#STYLE_OP...  \n",
       "15    [FOOD#QUALITY, RESTAURANT#GENERAL, SERVICE#GEN...  \n",
       "16                [RESTAURANT#GENERAL, SERVICE#GENERAL]  \n",
       "17    [AMBIENCE#GENERAL, FOOD#QUALITY, RESTAURANT#GE...  \n",
       "18               [AMBIENCE#GENERAL, RESTAURANT#GENERAL]  \n",
       "19    [AMBIENCE#GENERAL, FOOD#QUALITY, FOOD#STYLE_OP...  \n",
       "20    [FOOD#QUALITY, RESTAURANT#GENERAL, SERVICE#GEN...  \n",
       "21    [AMBIENCE#GENERAL, FOOD#QUALITY, FOOD#STYLE_OP...  \n",
       "22                                 [RESTAURANT#GENERAL]  \n",
       "23    [FOOD#QUALITY, RESTAURANT#GENERAL, SERVICE#GEN...  \n",
       "24    [AMBIENCE#GENERAL, FOOD#QUALITY, FOOD#STYLE_OP...  \n",
       "25    [FOOD#QUALITY, RESTAURANT#GENERAL, SERVICE#GEN...  \n",
       "26    [FOOD#QUALITY, RESTAURANT#GENERAL, SERVICE#GEN...  \n",
       "27               [AMBIENCE#GENERAL, RESTAURANT#GENERAL]  \n",
       "28    [FOOD#QUALITY, RESTAURANT#GENERAL, SERVICE#GEN...  \n",
       "29    [AMBIENCE#GENERAL, FOOD#QUALITY, RESTAURANT#GE...  \n",
       "...                                                 ...  \n",
       "1179  [AMBIENCE#GENERAL, FOOD#QUALITY, RESTAURANT#GE...  \n",
       "1180                    [FOOD#QUALITY, SERVICE#GENERAL]  \n",
       "1181  [AMBIENCE#GENERAL, FOOD#QUALITY, FOOD#STYLE_OP...  \n",
       "1182  [AMBIENCE#GENERAL, FOOD#QUALITY, FOOD#STYLE_OP...  \n",
       "1183  [AMBIENCE#GENERAL, FOOD#QUALITY, RESTAURANT#GE...  \n",
       "1184  [AMBIENCE#GENERAL, FOOD#QUALITY, RESTAURANT#GE...  \n",
       "1185             [AMBIENCE#GENERAL, RESTAURANT#GENERAL]  \n",
       "1186  [FOOD#QUALITY, FOOD#STYLE_OPTIONS, RESTAURANT#...  \n",
       "1187                                     [FOOD#QUALITY]  \n",
       "1188  [AMBIENCE#GENERAL, FOOD#QUALITY, RESTAURANT#GE...  \n",
       "1189  [FOOD#QUALITY, RESTAURANT#GENERAL, SERVICE#GEN...  \n",
       "1190  [AMBIENCE#GENERAL, FOOD#QUALITY, RESTAURANT#GE...  \n",
       "1191  [AMBIENCE#GENERAL, FOOD#QUALITY, RESTAURANT#GE...  \n",
       "1192                    [FOOD#QUALITY, SERVICE#GENERAL]  \n",
       "1193  [AMBIENCE#GENERAL, FOOD#QUALITY, FOOD#STYLE_OP...  \n",
       "1194  [AMBIENCE#GENERAL, FOOD#QUALITY, RESTAURANT#GE...  \n",
       "1195                               [RESTAURANT#GENERAL]  \n",
       "1196  [FOOD#QUALITY, FOOD#STYLE_OPTIONS, RESTAURANT#...  \n",
       "1197  [AMBIENCE#GENERAL, FOOD#QUALITY, FOOD#STYLE_OP...  \n",
       "1198  [AMBIENCE#GENERAL, FOOD#QUALITY, FOOD#STYLE_OP...  \n",
       "1199  [FOOD#QUALITY, FOOD#STYLE_OPTIONS, RESTAURANT#...  \n",
       "1200  [FOOD#QUALITY, RESTAURANT#GENERAL, SERVICE#GEN...  \n",
       "1201  [FOOD#QUALITY, RESTAURANT#GENERAL, SERVICE#GEN...  \n",
       "1202              [RESTAURANT#GENERAL, SERVICE#GENERAL]  \n",
       "1203  [AMBIENCE#GENERAL, FOOD#QUALITY, FOOD#STYLE_OP...  \n",
       "1204  [AMBIENCE#GENERAL, FOOD#QUALITY, RESTAURANT#GE...  \n",
       "1205  [FOOD#QUALITY, FOOD#STYLE_OPTIONS, SERVICE#GEN...  \n",
       "1206                 [FOOD#QUALITY, RESTAURANT#GENERAL]  \n",
       "1207                               [RESTAURANT#GENERAL]  \n",
       "1208  [AMBIENCE#GENERAL, FOOD#QUALITY, RESTAURANT#GE...  \n",
       "\n",
       "[1209 rows x 3 columns]"
      ]
     },
     "execution_count": 43,
     "metadata": {},
     "output_type": "execute_result"
    }
   ],
   "source": [
    "df_test_f_w2v_SVC"
   ]
  },
  {
   "cell_type": "code",
   "execution_count": null,
   "metadata": {
    "collapsed": true
   },
   "outputs": [],
   "source": []
  }
 ],
 "metadata": {
  "kernelspec": {
   "display_name": "Python 3",
   "language": "python",
   "name": "python3"
  },
  "language_info": {
   "codemirror_mode": {
    "name": "ipython",
    "version": 3
   },
   "file_extension": ".py",
   "mimetype": "text/x-python",
   "name": "python",
   "nbconvert_exporter": "python",
   "pygments_lexer": "ipython3",
   "version": "3.5.3"
  }
 },
 "nbformat": 4,
 "nbformat_minor": 0
}
