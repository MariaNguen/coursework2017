{
 "cells": [
  {
   "cell_type": "code",
   "execution_count": 1,
   "metadata": {
    "collapsed": false
   },
   "outputs": [
    {
     "name": "stderr",
     "output_type": "stream",
     "text": [
      "C:\\Anaconda3\\lib\\site-packages\\gensim-1.0.1-py3.5-win-amd64.egg\\gensim\\utils.py:855: UserWarning: detected Windows; aliasing chunkize to chunkize_serial\n",
      "  warnings.warn(\"detected Windows; aliasing chunkize to chunkize_serial\")\n",
      "2017-06-18 23:50:55,839 : INFO : 'pattern' package not found; tag filters are not available for English\n"
     ]
    }
   ],
   "source": [
    "import logging\n",
    "logging.root.handlers = []  # Jupyter messes up logging so needs a reset\n",
    "logging.basicConfig(format='%(asctime)s : %(levelname)s : %(message)s', level=logging.INFO)\n",
    "from smart_open import smart_open\n",
    "import pandas as pd\n",
    "import numpy as np\n",
    "from numpy import random\n",
    "import gensim\n",
    "import nltk\n",
    "from sklearn.cross_validation import train_test_split\n",
    "from sklearn import linear_model\n",
    "from sklearn import metrics\n",
    "from sklearn.feature_extraction.text import CountVectorizer, TfidfVectorizer\n",
    "from sklearn.metrics import accuracy_score, confusion_matrix\n",
    "import matplotlib.pyplot as plt\n",
    "from gensim.models import Word2Vec\n",
    "from sklearn.neighbors import KNeighborsClassifier\n",
    "from sklearn import linear_model\n",
    "from nltk.corpus import stopwords\n",
    "import xml.etree.ElementTree as ET\n",
    "from nltk import word_tokenize\n",
    "import re\n",
    "from sklearn.preprocessing import MultiLabelBinarizer\n",
    "from sklearn.cross_validation import KFold\n",
    "from sklearn.svm import SVC\n",
    "from sklearn.cross_validation import cross_val_score\n",
    "from sklearn.grid_search import GridSearchCV\n",
    "from sklearn.multiclass import OneVsRestClassifier\n",
    "from sklearn.naive_bayes import MultinomialNB\n",
    "from sklearn.ensemble import RandomForestClassifier\n",
    "import pymorphy2\n",
    "%matplotlib inline"
   ]
  },
  {
   "cell_type": "code",
   "execution_count": 2,
   "metadata": {
    "collapsed": true
   },
   "outputs": [],
   "source": [
    "def tokenizator(text):\n",
    "    sen_clear = []\n",
    "    for sentence in np.array(text):\n",
    "        sen_cl = re.sub(r'[^\\w\\d\\s\\-\\n\\{\\}]', \" \", sentence, flags=re.M | re.U | re.I)\n",
    "        words = sen_cl.lower().split()\n",
    "        words_c = []\n",
    "        for word in words:\n",
    "            if word != '-':\n",
    "                words_c.append(morph.parse(word)[0].normal_form)\n",
    "        sen_clear.append(words_c)\n",
    "    return sen_clear"
   ]
  },
  {
   "cell_type": "code",
   "execution_count": 3,
   "metadata": {
    "collapsed": true
   },
   "outputs": [],
   "source": [
    "def tokenizator_2(sentence):\n",
    "    sen_cl = re.sub(r'[^\\w\\d\\s\\-\\n\\{\\}]', \" \", sentence, flags=re.M | re.U | re.I)\n",
    "    words = sen_cl.lower().split()\n",
    "    words_c = []\n",
    "    for word in words:\n",
    "        if word != '-':\n",
    "            words_c.append(morph.parse(word)[0].normal_form)\n",
    "    return words_c"
   ]
  },
  {
   "cell_type": "code",
   "execution_count": 4,
   "metadata": {
    "collapsed": true
   },
   "outputs": [],
   "source": [
    "def tree_df(tree_name):\n",
    "    tree = ET.parse(tree_name)\n",
    "    sentences = []\n",
    "    label = []\n",
    "    data_item = []\n",
    "    data = []\n",
    "    polarity=[]\n",
    "    root = tree.getroot()\n",
    "    for sentence in root.iter('sentence'):\n",
    "        for text in sentence.iter('text'):\n",
    "            data_item.append(text.text)\n",
    "        for opinion in sentence.iter('Opinion'):\n",
    "            label.append(opinion.get('category'))\n",
    "        label = list(set(label))\n",
    "        data_item.append(label)\n",
    "        label=[]\n",
    "        data.append(data_item)\n",
    "        data_item=[]\n",
    "    df = pd.DataFrame(data, columns = ['sentence', 'category'])\n",
    "    return df"
   ]
  },
  {
   "cell_type": "code",
   "execution_count": 5,
   "metadata": {
    "collapsed": false
   },
   "outputs": [],
   "source": [
    "name = 'se16_ru_rest_train.xml'\n",
    "df = tree_df(name)\n",
    "test_name = 'se16_ru_rest_test.xml'\n",
    "df_test = tree_df(test_name)"
   ]
  },
  {
   "cell_type": "code",
   "execution_count": 6,
   "metadata": {
    "collapsed": false
   },
   "outputs": [],
   "source": [
    "from stop_words import get_stop_words\n",
    "stop_words = get_stop_words('russian')"
   ]
  },
  {
   "cell_type": "code",
   "execution_count": 7,
   "metadata": {
    "collapsed": false
   },
   "outputs": [],
   "source": [
    "mlb = mlb = MultiLabelBinarizer()\n",
    "df_all = pd.concat([df, df_test], axis = 0)\n",
    "y_all = mlb.fit_transform(df_all.iloc[:,1])\n",
    "y_train = y_all[:len(df)]\n",
    "y_test = y_all[len(df):]"
   ]
  },
  {
   "cell_type": "markdown",
   "metadata": {},
   "source": [
    "# Word2Vec"
   ]
  },
  {
   "cell_type": "code",
   "execution_count": 8,
   "metadata": {
    "collapsed": false
   },
   "outputs": [
    {
     "name": "stderr",
     "output_type": "stream",
     "text": [
      "2017-06-18 23:50:58,100 : INFO : Loading dictionaries from C:\\Anaconda3\\lib\\site-packages\\pymorphy2_dicts\\data\n",
      "2017-06-18 23:50:59,029 : INFO : format: 2.4, revision: 393442, updated: 2015-01-17T16:03:56.586168\n"
     ]
    }
   ],
   "source": [
    "morph = pymorphy2.MorphAnalyzer()"
   ]
  },
  {
   "cell_type": "code",
   "execution_count": 9,
   "metadata": {
    "collapsed": false
   },
   "outputs": [],
   "source": [
    "train_sentences = tokenizator(df['sentence'])\n",
    "test_sentences = tokenizator(df_test['sentence'])"
   ]
  },
  {
   "cell_type": "code",
   "execution_count": 10,
   "metadata": {
    "collapsed": false
   },
   "outputs": [
    {
     "name": "stderr",
     "output_type": "stream",
     "text": [
      "2017-06-18 23:51:18,653 : INFO : collecting all words and their counts\n",
      "2017-06-18 23:51:18,654 : INFO : PROGRESS: at sentence #0, processed 0 words, keeping 0 word types\n",
      "2017-06-18 23:51:18,668 : INFO : collected 4255 word types from a corpus of 41494 raw words and 3655 sentences\n",
      "2017-06-18 23:51:18,669 : INFO : Loading a fresh vocabulary\n",
      "2017-06-18 23:51:18,677 : INFO : min_count=5 retains 1047 unique words (24% of original 4255, drops 3208)\n",
      "2017-06-18 23:51:18,678 : INFO : min_count=5 leaves 36567 word corpus (88% of original 41494, drops 4927)\n",
      "2017-06-18 23:51:18,686 : INFO : deleting the raw counts dictionary of 4255 items\n",
      "2017-06-18 23:51:18,688 : INFO : sample=0.001 downsamples 69 most-common words\n",
      "2017-06-18 23:51:18,689 : INFO : downsampling leaves estimated 27012 word corpus (73.9% of prior 36567)\n",
      "2017-06-18 23:51:18,690 : INFO : estimated required memory for 1047 words and 1000 dimensions: 8899500 bytes\n",
      "2017-06-18 23:51:18,696 : INFO : resetting layer weights\n",
      "2017-06-18 23:51:18,754 : INFO : training model with 4 workers on 1047 vocabulary and 1000 features, using sg=0 hs=0 sample=0.001 negative=5 window=5\n",
      "2017-06-18 23:51:18,755 : INFO : expecting 3655 sentences, matching count from corpus used for vocabulary survey\n",
      "2017-06-18 23:51:19,316 : INFO : worker thread finished; awaiting finish of 3 more threads\n",
      "2017-06-18 23:51:19,323 : INFO : worker thread finished; awaiting finish of 2 more threads\n",
      "2017-06-18 23:51:19,335 : INFO : worker thread finished; awaiting finish of 1 more threads\n",
      "2017-06-18 23:51:19,344 : INFO : worker thread finished; awaiting finish of 0 more threads\n",
      "2017-06-18 23:51:19,345 : INFO : training on 207470 raw words (134898 effective words) took 0.6s, 233600 effective words/s\n",
      "2017-06-18 23:51:19,346 : WARNING : under 10 jobs per worker: consider setting a smaller `batch_words' for smoother alpha decay\n"
     ]
    }
   ],
   "source": [
    "model = gensim.models.Word2Vec(train_sentences,size=1000,window=5,min_count=5, workers=4)"
   ]
  },
  {
   "cell_type": "code",
   "execution_count": 11,
   "metadata": {
    "collapsed": false
   },
   "outputs": [],
   "source": [
    "def makeFeatureVec(words, model, num_features):\n",
    "    # Function to average all of the word vectors in a given\n",
    "    # paragraph\n",
    "    #\n",
    "    # Pre-initialize an empty numpy array (for speed)\n",
    "    featureVec = np.zeros((num_features,))\n",
    "    #\n",
    "    nwords = 0.\n",
    "    # \n",
    "    # Index2word is a list that contains the names of the words in \n",
    "    # the model's vocabulary. Convert it to a set, for speed \n",
    "    index2word_set = set(model.wv.index2word)\n",
    "    #\n",
    "    # Loop over each word in the review and, if it is in the model's\n",
    "    # vocaublary, add its feature vector to the total\n",
    "    for word in words:\n",
    "        if word in index2word_set: \n",
    "            nwords = nwords + 1.\n",
    "            featureVec = np.add(featureVec,model[word])\n",
    "    # \n",
    "    # Divide the result by the number of words to get the average\n",
    "    if nwords != 0.0:\n",
    "        featureVec = np.true_divide(featureVec,nwords)\n",
    "    else:\n",
    "        featureVec = np.zeros((num_features,))\n",
    "    return featureVec\n",
    "\n",
    "\n",
    "def getAvgFeatureVecs(reviews, model, num_features):\n",
    "    # Given a set of reviews (each one a list of words), calculate \n",
    "    # the average feature vector for each one and return a 2D numpy array \n",
    "    # \n",
    "    # Initialize a counter\n",
    "    counter = 0.\n",
    "    # \n",
    "    # Preallocate a 2D numpy array, for speed\n",
    "    reviewFeatureVecs = np.zeros((len(reviews),num_features))\n",
    "    #reviewFeatureVecs = np.array((len(reviews),num_features))\n",
    "    # \n",
    "    # Loop through the reviews\n",
    "    for i in range(len(reviews)):\n",
    "        reviewFeatureVecs[i] = makeFeatureVec(reviews[i], model, num_features)\n",
    "        \n",
    "    #for review in reviews:\n",
    "\n",
    "       # Call the function (defined above) that makes average feature vectors\n",
    "       #reviewFeatureVecs[counter] = makeFeatureVec(review, model, \\\n",
    "       #    num_features)\n",
    "       #\n",
    "       # Increment the counter\n",
    "       #counter = counter + 1.\n",
    "    \n",
    "    return reviewFeatureVecs"
   ]
  },
  {
   "cell_type": "code",
   "execution_count": 12,
   "metadata": {
    "collapsed": false
   },
   "outputs": [
    {
     "name": "stdout",
     "output_type": "stream",
     "text": [
      "Creating average feature vecs for test reviews\n"
     ]
    }
   ],
   "source": [
    "# ****************************************************************\n",
    "# Calculate average feature vectors for training and testing sets,\n",
    "# using the functions we defined above. Notice that we now use stop word\n",
    "# removal.\n",
    "\n",
    "\n",
    "trainDataVecs = getAvgFeatureVecs(train_sentences, model, 1000 )\n",
    "\n",
    "print (\"Creating average feature vecs for test reviews\")\n",
    "\n",
    "testDataVecs = getAvgFeatureVecs(test_sentences, model, 1000 )"
   ]
  },
  {
   "cell_type": "code",
   "execution_count": 33,
   "metadata": {
    "collapsed": true
   },
   "outputs": [],
   "source": [
    "def classify_random_forest(X_train, y_train, X_test, y_test):\n",
    "    clf = OneVsRestClassifier(RandomForestClassifier( n_estimators = 100 ))\n",
    "    clf.fit(X_train,y_train)\n",
    "    clf.predict_proba(X_test)\n",
    "    classes = list(mlb.classes_)\n",
    "    classes_final = []\n",
    "    for line in clf.predict_proba(X_test):\n",
    "        cl = []\n",
    "        for i in range(len(classes)):\n",
    "            if line[i] >= 0.2:\n",
    "                cl.append(classes[i])\n",
    "        classes_final.append(cl)\n",
    "    classes_final_s = pd.Series(classes_final)\n",
    "    df_test_f = pd.concat([df_test,classes_final_s], axis = 1)\n",
    "    df_test_f.rename(columns={0:\"predicted classes\"})\n",
    "    #accuracy=clf.score(X_test,y_test)\n",
    "    y_pred = clf.predict(X_test)\n",
    "    accuracy = metrics.accuracy_score(y_test, y_pred)\n",
    "    precision = metrics.precision_score(y_test, y_pred, average = 'macro')\n",
    "    recall = metrics.recall_score(y_test, y_pred, average = 'macro')\n",
    "    f1=metrics.f1_score(y_test, y_pred, average = 'macro')\n",
    "    return df_test_f, accuracy, precision, recall, f1, clf.predict_proba(X_test)\n"
   ]
  },
  {
   "cell_type": "code",
   "execution_count": 34,
   "metadata": {
    "collapsed": false
   },
   "outputs": [
    {
     "name": "stderr",
     "output_type": "stream",
     "text": [
      "C:\\Anaconda3\\lib\\site-packages\\sklearn\\metrics\\classification.py:1074: UndefinedMetricWarning: Precision is ill-defined and being set to 0.0 in labels with no predicted samples.\n",
      "  'precision', 'predicted', average, warn_for)\n",
      "C:\\Anaconda3\\lib\\site-packages\\sklearn\\metrics\\classification.py:1074: UndefinedMetricWarning: F-score is ill-defined and being set to 0.0 in labels with no predicted samples.\n",
      "  'precision', 'predicted', average, warn_for)\n"
     ]
    },
    {
     "name": "stdout",
     "output_type": "stream",
     "text": [
      "accuracy = 0.24897, precision = 0.00000, recall = 0.00000, f1 = 0.00000\n"
     ]
    }
   ],
   "source": [
    "df_test_f_w2v_SVC, accuracy_w2v_SVC, precision_w2v_SVC, recall_w2v_SVC, f1_w2v_SVC, probabilities = classify_SVC(trainDataVecs,y_train,testDataVecs,y_test)\n",
    "print('accuracy = {:0.5f}, precision = {:0.5f}, recall = {:0.5f}, f1 = {:0.5f}'.format(accuracy_w2v_SVC, precision_w2v_SVC, recall_w2v_SVC, f1_w2v_SVC))"
   ]
  },
  {
   "cell_type": "code",
   "execution_count": 35,
   "metadata": {
    "collapsed": false
   },
   "outputs": [
    {
     "name": "stdout",
     "output_type": "stream",
     "text": [
      "['AMBIENCE#GENERAL', 'DRINKS#PRICES', 'DRINKS#QUALITY', 'DRINKS#STYLE_OPTIONS', 'FOOD#PRICES', 'FOOD#QUALITY', 'FOOD#STYLE_OPTIONS', 'LOCATION#GENERAL', 'RESTAURANT#GENERAL', 'RESTAURANT#MISCELLANEOUS', 'RESTAURANT#PRICES', 'SERVICE#GENERAL']\n"
     ]
    }
   ],
   "source": [
    "classes = list(mlb.classes_)\n",
    "print(classes)"
   ]
  },
  {
   "cell_type": "code",
   "execution_count": 36,
   "metadata": {
    "collapsed": false
   },
   "outputs": [
    {
     "name": "stdout",
     "output_type": "stream",
     "text": [
      "[['AMBIENCE#GENERAL', 'FOOD#QUALITY', 'FOOD#STYLE_OPTIONS', 'RESTAURANT#GENERAL', 'SERVICE#GENERAL'], ['SERVICE#GENERAL'], ['FOOD#QUALITY', 'FOOD#STYLE_OPTIONS'], ['AMBIENCE#GENERAL', 'FOOD#QUALITY', 'FOOD#STYLE_OPTIONS', 'SERVICE#GENERAL'], ['FOOD#QUALITY', 'FOOD#STYLE_OPTIONS', 'RESTAURANT#GENERAL', 'SERVICE#GENERAL'], ['AMBIENCE#GENERAL', 'RESTAURANT#GENERAL'], ['AMBIENCE#GENERAL', 'RESTAURANT#GENERAL'], ['FOOD#QUALITY', 'RESTAURANT#GENERAL', 'SERVICE#GENERAL'], ['RESTAURANT#GENERAL'], ['FOOD#QUALITY', 'RESTAURANT#GENERAL'], ['AMBIENCE#GENERAL', 'FOOD#QUALITY', 'FOOD#STYLE_OPTIONS', 'SERVICE#GENERAL'], ['FOOD#QUALITY', 'FOOD#STYLE_OPTIONS', 'RESTAURANT#GENERAL', 'SERVICE#GENERAL'], ['FOOD#STYLE_OPTIONS', 'RESTAURANT#GENERAL', 'SERVICE#GENERAL'], ['AMBIENCE#GENERAL', 'FOOD#QUALITY', 'FOOD#STYLE_OPTIONS', 'RESTAURANT#GENERAL', 'SERVICE#GENERAL'], ['FOOD#QUALITY', 'FOOD#STYLE_OPTIONS', 'RESTAURANT#GENERAL', 'SERVICE#GENERAL'], ['RESTAURANT#GENERAL'], ['RESTAURANT#GENERAL', 'SERVICE#GENERAL'], ['AMBIENCE#GENERAL', 'FOOD#STYLE_OPTIONS', 'RESTAURANT#GENERAL', 'SERVICE#GENERAL'], ['AMBIENCE#GENERAL', 'RESTAURANT#GENERAL'], ['AMBIENCE#GENERAL', 'FOOD#QUALITY', 'FOOD#STYLE_OPTIONS', 'RESTAURANT#GENERAL', 'SERVICE#GENERAL'], ['FOOD#QUALITY', 'RESTAURANT#GENERAL', 'SERVICE#GENERAL'], ['AMBIENCE#GENERAL', 'RESTAURANT#GENERAL', 'RESTAURANT#PRICES'], ['AMBIENCE#GENERAL', 'FOOD#QUALITY', 'RESTAURANT#GENERAL', 'SERVICE#GENERAL'], ['AMBIENCE#GENERAL', 'FOOD#QUALITY', 'SERVICE#GENERAL'], ['AMBIENCE#GENERAL', 'FOOD#QUALITY', 'FOOD#STYLE_OPTIONS', 'SERVICE#GENERAL'], ['FOOD#QUALITY', 'FOOD#STYLE_OPTIONS', 'RESTAURANT#GENERAL', 'SERVICE#GENERAL'], ['FOOD#QUALITY', 'FOOD#STYLE_OPTIONS', 'RESTAURANT#GENERAL', 'SERVICE#GENERAL'], ['AMBIENCE#GENERAL', 'RESTAURANT#GENERAL'], ['FOOD#QUALITY', 'RESTAURANT#GENERAL', 'SERVICE#GENERAL'], ['AMBIENCE#GENERAL', 'FOOD#QUALITY', 'RESTAURANT#GENERAL', 'SERVICE#GENERAL'], ['FOOD#QUALITY', 'FOOD#STYLE_OPTIONS', 'RESTAURANT#GENERAL', 'SERVICE#GENERAL'], ['AMBIENCE#GENERAL', 'FOOD#QUALITY', 'RESTAURANT#GENERAL'], ['FOOD#QUALITY', 'FOOD#STYLE_OPTIONS', 'RESTAURANT#GENERAL', 'SERVICE#GENERAL'], ['AMBIENCE#GENERAL', 'FOOD#QUALITY', 'FOOD#STYLE_OPTIONS', 'RESTAURANT#GENERAL', 'SERVICE#GENERAL'], ['AMBIENCE#GENERAL', 'SERVICE#GENERAL'], ['AMBIENCE#GENERAL', 'FOOD#QUALITY', 'FOOD#STYLE_OPTIONS', 'RESTAURANT#GENERAL', 'SERVICE#GENERAL'], ['AMBIENCE#GENERAL', 'RESTAURANT#GENERAL', 'SERVICE#GENERAL'], ['FOOD#QUALITY', 'RESTAURANT#GENERAL', 'SERVICE#GENERAL'], ['FOOD#QUALITY', 'FOOD#STYLE_OPTIONS', 'RESTAURANT#GENERAL', 'SERVICE#GENERAL'], ['AMBIENCE#GENERAL', 'FOOD#STYLE_OPTIONS', 'SERVICE#GENERAL'], ['RESTAURANT#GENERAL', 'SERVICE#GENERAL'], ['AMBIENCE#GENERAL', 'FOOD#QUALITY', 'RESTAURANT#GENERAL', 'SERVICE#GENERAL'], ['FOOD#QUALITY', 'FOOD#STYLE_OPTIONS', 'SERVICE#GENERAL'], ['FOOD#QUALITY', 'FOOD#STYLE_OPTIONS', 'RESTAURANT#GENERAL', 'SERVICE#GENERAL'], ['AMBIENCE#GENERAL', 'FOOD#QUALITY', 'RESTAURANT#GENERAL', 'SERVICE#GENERAL'], ['AMBIENCE#GENERAL', 'FOOD#STYLE_OPTIONS', 'RESTAURANT#GENERAL', 'SERVICE#GENERAL'], ['AMBIENCE#GENERAL', 'FOOD#QUALITY', 'FOOD#STYLE_OPTIONS', 'RESTAURANT#GENERAL', 'SERVICE#GENERAL'], ['AMBIENCE#GENERAL', 'FOOD#QUALITY', 'FOOD#STYLE_OPTIONS', 'SERVICE#GENERAL'], ['FOOD#QUALITY', 'FOOD#STYLE_OPTIONS', 'RESTAURANT#GENERAL', 'SERVICE#GENERAL'], ['RESTAURANT#GENERAL', 'SERVICE#GENERAL'], ['FOOD#QUALITY', 'RESTAURANT#GENERAL', 'SERVICE#GENERAL'], ['AMBIENCE#GENERAL', 'FOOD#QUALITY', 'RESTAURANT#GENERAL', 'SERVICE#GENERAL'], ['FOOD#QUALITY', 'RESTAURANT#GENERAL', 'SERVICE#GENERAL'], ['FOOD#QUALITY', 'RESTAURANT#GENERAL'], ['RESTAURANT#GENERAL', 'SERVICE#GENERAL'], ['AMBIENCE#GENERAL', 'FOOD#QUALITY', 'FOOD#STYLE_OPTIONS', 'RESTAURANT#GENERAL', 'SERVICE#GENERAL'], ['AMBIENCE#GENERAL', 'FOOD#STYLE_OPTIONS', 'RESTAURANT#GENERAL', 'SERVICE#GENERAL'], ['AMBIENCE#GENERAL', 'RESTAURANT#GENERAL'], ['AMBIENCE#GENERAL', 'FOOD#QUALITY', 'FOOD#STYLE_OPTIONS', 'RESTAURANT#GENERAL', 'SERVICE#GENERAL'], ['FOOD#QUALITY', 'RESTAURANT#GENERAL'], ['FOOD#QUALITY', 'FOOD#STYLE_OPTIONS', 'RESTAURANT#GENERAL', 'SERVICE#GENERAL'], ['FOOD#QUALITY', 'FOOD#STYLE_OPTIONS', 'RESTAURANT#GENERAL'], ['FOOD#QUALITY', 'FOOD#STYLE_OPTIONS', 'SERVICE#GENERAL'], ['FOOD#QUALITY', 'FOOD#STYLE_OPTIONS', 'SERVICE#GENERAL'], ['AMBIENCE#GENERAL', 'FOOD#QUALITY', 'RESTAURANT#GENERAL'], ['AMBIENCE#GENERAL', 'FOOD#QUALITY', 'FOOD#STYLE_OPTIONS', 'RESTAURANT#GENERAL', 'SERVICE#GENERAL'], ['AMBIENCE#GENERAL', 'FOOD#QUALITY', 'FOOD#STYLE_OPTIONS', 'SERVICE#GENERAL'], ['AMBIENCE#GENERAL', 'FOOD#QUALITY', 'FOOD#STYLE_OPTIONS', 'RESTAURANT#GENERAL', 'SERVICE#GENERAL'], ['FOOD#QUALITY', 'FOOD#STYLE_OPTIONS', 'RESTAURANT#GENERAL', 'SERVICE#GENERAL'], ['AMBIENCE#GENERAL', 'FOOD#QUALITY', 'FOOD#STYLE_OPTIONS', 'RESTAURANT#GENERAL', 'SERVICE#GENERAL'], ['AMBIENCE#GENERAL', 'FOOD#QUALITY', 'RESTAURANT#GENERAL', 'SERVICE#GENERAL'], ['FOOD#QUALITY', 'FOOD#STYLE_OPTIONS', 'RESTAURANT#GENERAL', 'SERVICE#GENERAL'], ['AMBIENCE#GENERAL', 'FOOD#QUALITY', 'SERVICE#GENERAL'], ['AMBIENCE#GENERAL', 'FOOD#QUALITY', 'FOOD#STYLE_OPTIONS', 'SERVICE#GENERAL'], ['FOOD#QUALITY', 'RESTAURANT#GENERAL', 'SERVICE#GENERAL'], ['FOOD#QUALITY', 'FOOD#STYLE_OPTIONS', 'RESTAURANT#GENERAL'], ['FOOD#QUALITY', 'FOOD#STYLE_OPTIONS', 'RESTAURANT#GENERAL'], ['FOOD#STYLE_OPTIONS', 'RESTAURANT#GENERAL', 'SERVICE#GENERAL'], ['DRINKS#QUALITY', 'FOOD#QUALITY', 'FOOD#STYLE_OPTIONS', 'RESTAURANT#GENERAL', 'SERVICE#GENERAL'], ['FOOD#QUALITY', 'FOOD#STYLE_OPTIONS', 'RESTAURANT#GENERAL', 'SERVICE#GENERAL'], ['FOOD#QUALITY', 'FOOD#STYLE_OPTIONS', 'SERVICE#GENERAL'], ['RESTAURANT#GENERAL', 'SERVICE#GENERAL'], ['AMBIENCE#GENERAL', 'FOOD#QUALITY', 'RESTAURANT#GENERAL', 'SERVICE#GENERAL'], ['AMBIENCE#GENERAL', 'FOOD#QUALITY', 'FOOD#STYLE_OPTIONS', 'RESTAURANT#GENERAL'], ['AMBIENCE#GENERAL', 'FOOD#QUALITY', 'FOOD#STYLE_OPTIONS', 'RESTAURANT#GENERAL', 'SERVICE#GENERAL'], ['AMBIENCE#GENERAL', 'FOOD#QUALITY', 'FOOD#STYLE_OPTIONS', 'RESTAURANT#GENERAL', 'SERVICE#GENERAL'], ['FOOD#QUALITY', 'RESTAURANT#GENERAL'], ['RESTAURANT#GENERAL', 'SERVICE#GENERAL'], ['AMBIENCE#GENERAL', 'FOOD#QUALITY', 'FOOD#STYLE_OPTIONS', 'RESTAURANT#PRICES', 'SERVICE#GENERAL'], ['AMBIENCE#GENERAL', 'RESTAURANT#GENERAL'], ['FOOD#QUALITY', 'FOOD#STYLE_OPTIONS', 'SERVICE#GENERAL'], ['FOOD#QUALITY', 'FOOD#STYLE_OPTIONS'], ['AMBIENCE#GENERAL', 'RESTAURANT#GENERAL'], ['AMBIENCE#GENERAL', 'FOOD#QUALITY', 'FOOD#STYLE_OPTIONS', 'RESTAURANT#GENERAL', 'SERVICE#GENERAL'], ['FOOD#QUALITY', 'FOOD#STYLE_OPTIONS', 'RESTAURANT#GENERAL', 'SERVICE#GENERAL'], ['FOOD#QUALITY', 'FOOD#STYLE_OPTIONS', 'SERVICE#GENERAL'], ['FOOD#QUALITY', 'FOOD#STYLE_OPTIONS', 'RESTAURANT#GENERAL', 'SERVICE#GENERAL'], ['FOOD#QUALITY', 'FOOD#STYLE_OPTIONS', 'SERVICE#GENERAL'], ['FOOD#QUALITY', 'FOOD#STYLE_OPTIONS', 'SERVICE#GENERAL'], ['FOOD#QUALITY', 'FOOD#STYLE_OPTIONS', 'SERVICE#GENERAL'], ['FOOD#QUALITY', 'RESTAURANT#GENERAL', 'SERVICE#GENERAL'], ['AMBIENCE#GENERAL', 'RESTAURANT#GENERAL', 'SERVICE#GENERAL'], ['AMBIENCE#GENERAL', 'RESTAURANT#GENERAL', 'SERVICE#GENERAL'], ['AMBIENCE#GENERAL', 'FOOD#QUALITY', 'FOOD#STYLE_OPTIONS', 'RESTAURANT#GENERAL', 'SERVICE#GENERAL'], ['AMBIENCE#GENERAL', 'FOOD#QUALITY', 'FOOD#STYLE_OPTIONS'], ['RESTAURANT#GENERAL', 'SERVICE#GENERAL'], ['RESTAURANT#GENERAL', 'SERVICE#GENERAL'], ['AMBIENCE#GENERAL', 'FOOD#QUALITY', 'RESTAURANT#GENERAL'], ['RESTAURANT#GENERAL', 'SERVICE#GENERAL'], ['FOOD#QUALITY', 'SERVICE#GENERAL'], ['FOOD#QUALITY', 'FOOD#STYLE_OPTIONS', 'SERVICE#GENERAL'], ['AMBIENCE#GENERAL', 'FOOD#QUALITY'], ['AMBIENCE#GENERAL', 'RESTAURANT#GENERAL', 'SERVICE#GENERAL'], ['AMBIENCE#GENERAL', 'RESTAURANT#GENERAL'], ['AMBIENCE#GENERAL', 'FOOD#STYLE_OPTIONS', 'RESTAURANT#GENERAL', 'SERVICE#GENERAL'], ['AMBIENCE#GENERAL', 'FOOD#QUALITY', 'FOOD#STYLE_OPTIONS', 'RESTAURANT#GENERAL', 'SERVICE#GENERAL'], ['AMBIENCE#GENERAL', 'FOOD#QUALITY', 'FOOD#STYLE_OPTIONS', 'SERVICE#GENERAL'], ['FOOD#QUALITY', 'RESTAURANT#GENERAL'], ['FOOD#QUALITY', 'RESTAURANT#GENERAL', 'SERVICE#GENERAL'], ['FOOD#QUALITY', 'RESTAURANT#GENERAL'], ['FOOD#QUALITY', 'SERVICE#GENERAL'], ['AMBIENCE#GENERAL', 'FOOD#QUALITY', 'FOOD#STYLE_OPTIONS', 'SERVICE#GENERAL'], ['FOOD#QUALITY', 'FOOD#STYLE_OPTIONS', 'SERVICE#GENERAL'], ['AMBIENCE#GENERAL', 'FOOD#QUALITY', 'FOOD#STYLE_OPTIONS'], ['AMBIENCE#GENERAL', 'FOOD#QUALITY', 'FOOD#STYLE_OPTIONS', 'SERVICE#GENERAL'], ['FOOD#QUALITY', 'RESTAURANT#GENERAL', 'SERVICE#GENERAL'], ['FOOD#QUALITY', 'FOOD#STYLE_OPTIONS', 'SERVICE#GENERAL'], ['FOOD#QUALITY', 'RESTAURANT#GENERAL'], ['FOOD#QUALITY', 'FOOD#STYLE_OPTIONS', 'SERVICE#GENERAL'], ['FOOD#QUALITY', 'FOOD#STYLE_OPTIONS', 'SERVICE#GENERAL'], ['FOOD#QUALITY', 'FOOD#STYLE_OPTIONS', 'RESTAURANT#GENERAL', 'SERVICE#GENERAL'], ['AMBIENCE#GENERAL', 'FOOD#QUALITY', 'FOOD#STYLE_OPTIONS', 'SERVICE#GENERAL'], ['AMBIENCE#GENERAL', 'FOOD#QUALITY', 'FOOD#STYLE_OPTIONS', 'RESTAURANT#GENERAL', 'SERVICE#GENERAL'], ['AMBIENCE#GENERAL', 'FOOD#QUALITY', 'FOOD#STYLE_OPTIONS', 'RESTAURANT#GENERAL', 'SERVICE#GENERAL'], ['AMBIENCE#GENERAL', 'FOOD#QUALITY', 'FOOD#STYLE_OPTIONS', 'RESTAURANT#GENERAL', 'SERVICE#GENERAL'], ['AMBIENCE#GENERAL', 'FOOD#QUALITY', 'FOOD#STYLE_OPTIONS', 'RESTAURANT#GENERAL', 'SERVICE#GENERAL'], ['AMBIENCE#GENERAL', 'RESTAURANT#GENERAL'], ['FOOD#STYLE_OPTIONS', 'RESTAURANT#GENERAL'], ['RESTAURANT#GENERAL', 'SERVICE#GENERAL'], ['AMBIENCE#GENERAL', 'FOOD#QUALITY', 'RESTAURANT#GENERAL', 'SERVICE#GENERAL'], ['RESTAURANT#GENERAL'], ['FOOD#STYLE_OPTIONS', 'SERVICE#GENERAL'], ['RESTAURANT#GENERAL', 'SERVICE#GENERAL'], ['AMBIENCE#GENERAL', 'FOOD#QUALITY', 'FOOD#STYLE_OPTIONS', 'SERVICE#GENERAL'], ['RESTAURANT#GENERAL', 'SERVICE#GENERAL'], ['RESTAURANT#GENERAL'], ['SERVICE#GENERAL'], ['AMBIENCE#GENERAL', 'FOOD#QUALITY', 'FOOD#STYLE_OPTIONS', 'RESTAURANT#GENERAL', 'SERVICE#GENERAL'], ['RESTAURANT#GENERAL', 'SERVICE#GENERAL'], ['AMBIENCE#GENERAL', 'FOOD#QUALITY', 'RESTAURANT#GENERAL'], ['FOOD#QUALITY', 'FOOD#STYLE_OPTIONS', 'RESTAURANT#GENERAL', 'SERVICE#GENERAL'], ['AMBIENCE#GENERAL', 'RESTAURANT#GENERAL'], ['RESTAURANT#GENERAL', 'SERVICE#GENERAL'], ['FOOD#STYLE_OPTIONS', 'RESTAURANT#GENERAL', 'SERVICE#GENERAL'], ['AMBIENCE#GENERAL', 'FOOD#QUALITY', 'FOOD#STYLE_OPTIONS', 'SERVICE#GENERAL'], ['AMBIENCE#GENERAL', 'FOOD#STYLE_OPTIONS', 'RESTAURANT#GENERAL'], ['AMBIENCE#GENERAL', 'FOOD#QUALITY', 'RESTAURANT#GENERAL', 'SERVICE#GENERAL'], ['AMBIENCE#GENERAL', 'RESTAURANT#GENERAL', 'SERVICE#GENERAL'], ['RESTAURANT#GENERAL', 'SERVICE#GENERAL'], ['AMBIENCE#GENERAL', 'FOOD#QUALITY', 'FOOD#STYLE_OPTIONS', 'SERVICE#GENERAL'], ['AMBIENCE#GENERAL', 'FOOD#QUALITY', 'FOOD#STYLE_OPTIONS', 'SERVICE#GENERAL'], ['AMBIENCE#GENERAL', 'RESTAURANT#GENERAL', 'SERVICE#GENERAL'], ['FOOD#QUALITY', 'FOOD#STYLE_OPTIONS', 'SERVICE#GENERAL'], ['FOOD#QUALITY', 'FOOD#STYLE_OPTIONS'], ['AMBIENCE#GENERAL', 'FOOD#QUALITY', 'RESTAURANT#GENERAL'], ['FOOD#QUALITY', 'FOOD#STYLE_OPTIONS', 'RESTAURANT#GENERAL', 'SERVICE#GENERAL'], ['AMBIENCE#GENERAL', 'RESTAURANT#GENERAL'], ['RESTAURANT#GENERAL', 'SERVICE#GENERAL'], ['FOOD#QUALITY', 'FOOD#STYLE_OPTIONS', 'SERVICE#GENERAL'], ['FOOD#QUALITY', 'FOOD#STYLE_OPTIONS', 'RESTAURANT#GENERAL', 'SERVICE#GENERAL'], ['FOOD#QUALITY', 'FOOD#STYLE_OPTIONS', 'SERVICE#GENERAL'], ['AMBIENCE#GENERAL', 'FOOD#QUALITY', 'FOOD#STYLE_OPTIONS', 'SERVICE#GENERAL'], ['AMBIENCE#GENERAL', 'FOOD#QUALITY', 'RESTAURANT#GENERAL', 'SERVICE#GENERAL'], ['AMBIENCE#GENERAL', 'FOOD#QUALITY', 'FOOD#STYLE_OPTIONS', 'SERVICE#GENERAL'], ['FOOD#QUALITY', 'FOOD#STYLE_OPTIONS', 'RESTAURANT#GENERAL', 'SERVICE#GENERAL'], ['AMBIENCE#GENERAL', 'FOOD#QUALITY', 'FOOD#STYLE_OPTIONS', 'SERVICE#GENERAL'], ['AMBIENCE#GENERAL', 'FOOD#QUALITY', 'FOOD#STYLE_OPTIONS', 'SERVICE#GENERAL'], ['FOOD#QUALITY', 'FOOD#STYLE_OPTIONS', 'RESTAURANT#GENERAL', 'SERVICE#GENERAL'], ['AMBIENCE#GENERAL', 'FOOD#QUALITY', 'FOOD#STYLE_OPTIONS', 'RESTAURANT#GENERAL', 'SERVICE#GENERAL'], ['AMBIENCE#GENERAL', 'FOOD#QUALITY', 'FOOD#STYLE_OPTIONS', 'RESTAURANT#GENERAL', 'SERVICE#GENERAL'], ['AMBIENCE#GENERAL', 'FOOD#QUALITY', 'RESTAURANT#GENERAL', 'SERVICE#GENERAL'], ['AMBIENCE#GENERAL', 'RESTAURANT#GENERAL'], ['AMBIENCE#GENERAL', 'FOOD#QUALITY', 'SERVICE#GENERAL'], ['AMBIENCE#GENERAL', 'SERVICE#GENERAL'], ['AMBIENCE#GENERAL', 'FOOD#QUALITY', 'RESTAURANT#GENERAL', 'SERVICE#GENERAL'], ['FOOD#QUALITY', 'FOOD#STYLE_OPTIONS'], ['FOOD#QUALITY', 'FOOD#STYLE_OPTIONS', 'RESTAURANT#GENERAL', 'SERVICE#GENERAL'], ['AMBIENCE#GENERAL', 'FOOD#QUALITY', 'FOOD#STYLE_OPTIONS'], ['AMBIENCE#GENERAL', 'FOOD#QUALITY', 'FOOD#STYLE_OPTIONS', 'RESTAURANT#GENERAL', 'SERVICE#GENERAL'], ['FOOD#QUALITY', 'FOOD#STYLE_OPTIONS', 'RESTAURANT#GENERAL'], ['AMBIENCE#GENERAL', 'FOOD#QUALITY', 'RESTAURANT#GENERAL'], ['AMBIENCE#GENERAL', 'FOOD#QUALITY', 'RESTAURANT#GENERAL'], ['FOOD#QUALITY', 'FOOD#STYLE_OPTIONS', 'RESTAURANT#GENERAL', 'SERVICE#GENERAL'], ['AMBIENCE#GENERAL', 'FOOD#QUALITY', 'FOOD#STYLE_OPTIONS', 'RESTAURANT#GENERAL', 'SERVICE#GENERAL'], ['FOOD#QUALITY', 'FOOD#STYLE_OPTIONS', 'SERVICE#GENERAL'], ['RESTAURANT#GENERAL'], ['AMBIENCE#GENERAL', 'FOOD#QUALITY', 'FOOD#STYLE_OPTIONS', 'RESTAURANT#GENERAL', 'SERVICE#GENERAL'], ['FOOD#QUALITY', 'FOOD#STYLE_OPTIONS', 'RESTAURANT#GENERAL', 'SERVICE#GENERAL'], ['FOOD#QUALITY', 'RESTAURANT#GENERAL'], ['FOOD#QUALITY', 'FOOD#STYLE_OPTIONS'], ['AMBIENCE#GENERAL', 'FOOD#QUALITY', 'FOOD#STYLE_OPTIONS', 'RESTAURANT#GENERAL'], ['AMBIENCE#GENERAL', 'FOOD#QUALITY', 'FOOD#STYLE_OPTIONS', 'RESTAURANT#GENERAL', 'SERVICE#GENERAL'], ['FOOD#QUALITY', 'FOOD#STYLE_OPTIONS', 'SERVICE#GENERAL'], ['FOOD#QUALITY', 'FOOD#STYLE_OPTIONS'], ['AMBIENCE#GENERAL', 'FOOD#QUALITY', 'FOOD#STYLE_OPTIONS', 'RESTAURANT#GENERAL'], ['FOOD#QUALITY', 'FOOD#STYLE_OPTIONS', 'RESTAURANT#GENERAL'], ['AMBIENCE#GENERAL', 'FOOD#QUALITY', 'RESTAURANT#GENERAL'], ['AMBIENCE#GENERAL', 'FOOD#QUALITY', 'SERVICE#GENERAL'], ['RESTAURANT#GENERAL', 'SERVICE#GENERAL'], ['AMBIENCE#GENERAL', 'RESTAURANT#GENERAL', 'SERVICE#GENERAL'], ['FOOD#QUALITY', 'RESTAURANT#GENERAL', 'SERVICE#GENERAL'], ['FOOD#QUALITY', 'FOOD#STYLE_OPTIONS', 'RESTAURANT#GENERAL'], ['AMBIENCE#GENERAL', 'RESTAURANT#GENERAL'], ['FOOD#QUALITY', 'RESTAURANT#GENERAL', 'SERVICE#GENERAL'], ['AMBIENCE#GENERAL', 'FOOD#QUALITY', 'FOOD#STYLE_OPTIONS', 'SERVICE#GENERAL'], ['RESTAURANT#GENERAL', 'SERVICE#GENERAL'], ['AMBIENCE#GENERAL', 'RESTAURANT#GENERAL', 'SERVICE#GENERAL'], ['AMBIENCE#GENERAL', 'SERVICE#GENERAL'], ['RESTAURANT#GENERAL', 'SERVICE#GENERAL'], ['FOOD#STYLE_OPTIONS', 'SERVICE#GENERAL'], ['AMBIENCE#GENERAL', 'FOOD#QUALITY', 'FOOD#STYLE_OPTIONS', 'SERVICE#GENERAL'], ['AMBIENCE#GENERAL', 'FOOD#STYLE_OPTIONS', 'SERVICE#GENERAL'], ['FOOD#QUALITY', 'FOOD#STYLE_OPTIONS', 'SERVICE#GENERAL'], ['FOOD#STYLE_OPTIONS', 'SERVICE#GENERAL'], ['FOOD#STYLE_OPTIONS', 'SERVICE#GENERAL'], ['AMBIENCE#GENERAL', 'FOOD#QUALITY', 'FOOD#STYLE_OPTIONS', 'SERVICE#GENERAL'], [], ['RESTAURANT#GENERAL', 'SERVICE#GENERAL'], ['RESTAURANT#GENERAL'], ['AMBIENCE#GENERAL', 'RESTAURANT#GENERAL', 'SERVICE#GENERAL'], ['FOOD#STYLE_OPTIONS', 'SERVICE#GENERAL'], ['FOOD#QUALITY', 'SERVICE#GENERAL'], ['FOOD#QUALITY', 'FOOD#STYLE_OPTIONS', 'RESTAURANT#GENERAL', 'SERVICE#GENERAL'], ['FOOD#QUALITY', 'FOOD#STYLE_OPTIONS', 'SERVICE#GENERAL'], ['FOOD#QUALITY', 'RESTAURANT#GENERAL', 'SERVICE#GENERAL'], ['AMBIENCE#GENERAL', 'FOOD#QUALITY', 'SERVICE#GENERAL'], ['FOOD#QUALITY'], ['AMBIENCE#GENERAL', 'FOOD#QUALITY', 'FOOD#STYLE_OPTIONS', 'SERVICE#GENERAL'], ['RESTAURANT#GENERAL', 'SERVICE#GENERAL'], ['AMBIENCE#GENERAL', 'FOOD#QUALITY', 'FOOD#STYLE_OPTIONS', 'RESTAURANT#GENERAL', 'SERVICE#GENERAL'], ['AMBIENCE#GENERAL', 'RESTAURANT#GENERAL'], ['FOOD#QUALITY', 'RESTAURANT#GENERAL'], ['FOOD#QUALITY', 'FOOD#STYLE_OPTIONS', 'RESTAURANT#GENERAL', 'SERVICE#GENERAL'], ['AMBIENCE#GENERAL', 'FOOD#QUALITY', 'RESTAURANT#GENERAL', 'SERVICE#GENERAL'], ['RESTAURANT#GENERAL'], ['AMBIENCE#GENERAL', 'FOOD#QUALITY', 'FOOD#STYLE_OPTIONS', 'RESTAURANT#GENERAL', 'SERVICE#GENERAL'], ['AMBIENCE#GENERAL', 'FOOD#QUALITY', 'RESTAURANT#GENERAL'], ['AMBIENCE#GENERAL', 'FOOD#QUALITY', 'FOOD#STYLE_OPTIONS', 'RESTAURANT#GENERAL', 'SERVICE#GENERAL'], ['AMBIENCE#GENERAL', 'FOOD#QUALITY', 'FOOD#STYLE_OPTIONS', 'RESTAURANT#GENERAL', 'SERVICE#GENERAL'], ['FOOD#QUALITY', 'FOOD#STYLE_OPTIONS', 'RESTAURANT#GENERAL'], ['AMBIENCE#GENERAL', 'RESTAURANT#GENERAL'], ['AMBIENCE#GENERAL', 'RESTAURANT#GENERAL'], ['AMBIENCE#GENERAL', 'FOOD#QUALITY', 'RESTAURANT#GENERAL'], ['AMBIENCE#GENERAL', 'FOOD#QUALITY', 'SERVICE#GENERAL'], ['AMBIENCE#GENERAL', 'SERVICE#GENERAL'], ['FOOD#QUALITY', 'FOOD#STYLE_OPTIONS', 'RESTAURANT#GENERAL', 'SERVICE#GENERAL'], ['FOOD#QUALITY', 'FOOD#STYLE_OPTIONS', 'SERVICE#GENERAL'], ['FOOD#QUALITY', 'RESTAURANT#GENERAL', 'SERVICE#GENERAL'], ['FOOD#QUALITY', 'FOOD#STYLE_OPTIONS', 'RESTAURANT#GENERAL'], ['AMBIENCE#GENERAL', 'FOOD#QUALITY', 'RESTAURANT#GENERAL'], ['RESTAURANT#GENERAL', 'SERVICE#GENERAL'], ['AMBIENCE#GENERAL', 'FOOD#QUALITY', 'FOOD#STYLE_OPTIONS', 'RESTAURANT#GENERAL', 'SERVICE#GENERAL'], ['FOOD#QUALITY', 'FOOD#STYLE_OPTIONS', 'RESTAURANT#GENERAL', 'SERVICE#GENERAL'], ['AMBIENCE#GENERAL', 'SERVICE#GENERAL'], ['FOOD#QUALITY', 'FOOD#STYLE_OPTIONS', 'SERVICE#GENERAL'], ['RESTAURANT#GENERAL', 'SERVICE#GENERAL'], ['RESTAURANT#GENERAL', 'SERVICE#GENERAL'], ['RESTAURANT#GENERAL', 'SERVICE#GENERAL'], ['RESTAURANT#GENERAL'], ['AMBIENCE#GENERAL', 'RESTAURANT#GENERAL', 'SERVICE#GENERAL'], ['RESTAURANT#GENERAL'], ['AMBIENCE#GENERAL', 'FOOD#QUALITY', 'FOOD#STYLE_OPTIONS', 'RESTAURANT#GENERAL', 'SERVICE#GENERAL'], ['FOOD#QUALITY', 'RESTAURANT#GENERAL'], ['AMBIENCE#GENERAL', 'FOOD#QUALITY', 'FOOD#STYLE_OPTIONS', 'RESTAURANT#GENERAL', 'SERVICE#GENERAL'], ['AMBIENCE#GENERAL', 'FOOD#QUALITY', 'FOOD#STYLE_OPTIONS', 'RESTAURANT#GENERAL', 'SERVICE#GENERAL'], ['FOOD#QUALITY', 'FOOD#STYLE_OPTIONS', 'SERVICE#GENERAL'], ['AMBIENCE#GENERAL', 'RESTAURANT#GENERAL', 'SERVICE#GENERAL'], ['FOOD#QUALITY', 'FOOD#STYLE_OPTIONS'], ['FOOD#QUALITY', 'FOOD#STYLE_OPTIONS', 'SERVICE#GENERAL'], ['AMBIENCE#GENERAL', 'FOOD#QUALITY', 'RESTAURANT#GENERAL'], ['AMBIENCE#GENERAL', 'FOOD#QUALITY', 'FOOD#STYLE_OPTIONS', 'RESTAURANT#GENERAL', 'SERVICE#GENERAL'], ['FOOD#STYLE_OPTIONS', 'RESTAURANT#GENERAL', 'SERVICE#GENERAL'], ['FOOD#QUALITY', 'FOOD#STYLE_OPTIONS', 'RESTAURANT#GENERAL', 'SERVICE#GENERAL'], ['AMBIENCE#GENERAL', 'SERVICE#GENERAL'], ['AMBIENCE#GENERAL', 'FOOD#QUALITY', 'FOOD#STYLE_OPTIONS', 'RESTAURANT#GENERAL'], ['AMBIENCE#GENERAL', 'FOOD#QUALITY', 'RESTAURANT#GENERAL'], ['AMBIENCE#GENERAL', 'FOOD#STYLE_OPTIONS', 'RESTAURANT#GENERAL', 'SERVICE#GENERAL'], ['AMBIENCE#GENERAL', 'FOOD#QUALITY', 'FOOD#STYLE_OPTIONS', 'RESTAURANT#GENERAL', 'SERVICE#GENERAL'], ['AMBIENCE#GENERAL', 'FOOD#QUALITY', 'FOOD#STYLE_OPTIONS', 'SERVICE#GENERAL'], ['FOOD#QUALITY', 'FOOD#STYLE_OPTIONS', 'RESTAURANT#GENERAL', 'SERVICE#GENERAL'], ['AMBIENCE#GENERAL', 'RESTAURANT#GENERAL', 'SERVICE#GENERAL'], ['RESTAURANT#GENERAL', 'SERVICE#GENERAL'], ['FOOD#QUALITY', 'FOOD#STYLE_OPTIONS', 'RESTAURANT#GENERAL', 'SERVICE#GENERAL'], ['RESTAURANT#GENERAL'], ['AMBIENCE#GENERAL', 'FOOD#QUALITY', 'RESTAURANT#GENERAL', 'SERVICE#GENERAL'], ['AMBIENCE#GENERAL', 'FOOD#QUALITY', 'SERVICE#GENERAL'], ['AMBIENCE#GENERAL', 'FOOD#QUALITY', 'FOOD#STYLE_OPTIONS', 'SERVICE#GENERAL'], ['RESTAURANT#GENERAL', 'SERVICE#GENERAL'], ['AMBIENCE#GENERAL', 'FOOD#QUALITY', 'RESTAURANT#GENERAL', 'SERVICE#GENERAL'], ['FOOD#QUALITY', 'FOOD#STYLE_OPTIONS', 'RESTAURANT#GENERAL', 'SERVICE#GENERAL'], ['AMBIENCE#GENERAL', 'RESTAURANT#GENERAL'], ['RESTAURANT#GENERAL'], ['AMBIENCE#GENERAL', 'RESTAURANT#GENERAL', 'SERVICE#GENERAL'], ['AMBIENCE#GENERAL', 'FOOD#QUALITY', 'RESTAURANT#GENERAL'], ['AMBIENCE#GENERAL', 'FOOD#QUALITY', 'FOOD#STYLE_OPTIONS', 'SERVICE#GENERAL'], ['AMBIENCE#GENERAL', 'FOOD#QUALITY', 'FOOD#STYLE_OPTIONS', 'RESTAURANT#GENERAL', 'SERVICE#GENERAL'], ['AMBIENCE#GENERAL', 'FOOD#QUALITY', 'FOOD#STYLE_OPTIONS', 'SERVICE#GENERAL'], ['FOOD#QUALITY', 'FOOD#STYLE_OPTIONS', 'RESTAURANT#GENERAL', 'SERVICE#GENERAL'], ['AMBIENCE#GENERAL', 'FOOD#QUALITY', 'FOOD#STYLE_OPTIONS'], ['FOOD#QUALITY', 'RESTAURANT#GENERAL'], ['FOOD#QUALITY', 'FOOD#STYLE_OPTIONS', 'RESTAURANT#GENERAL'], ['AMBIENCE#GENERAL', 'FOOD#QUALITY', 'FOOD#STYLE_OPTIONS', 'RESTAURANT#GENERAL', 'SERVICE#GENERAL'], ['FOOD#QUALITY', 'FOOD#STYLE_OPTIONS', 'SERVICE#GENERAL'], ['AMBIENCE#GENERAL', 'FOOD#QUALITY', 'FOOD#STYLE_OPTIONS', 'RESTAURANT#GENERAL', 'SERVICE#GENERAL'], ['FOOD#QUALITY', 'FOOD#STYLE_OPTIONS', 'RESTAURANT#GENERAL', 'SERVICE#GENERAL'], ['AMBIENCE#GENERAL', 'FOOD#QUALITY', 'FOOD#STYLE_OPTIONS', 'RESTAURANT#GENERAL'], ['AMBIENCE#GENERAL', 'RESTAURANT#GENERAL', 'SERVICE#GENERAL'], ['AMBIENCE#GENERAL', 'FOOD#QUALITY', 'FOOD#STYLE_OPTIONS', 'SERVICE#GENERAL'], ['AMBIENCE#GENERAL', 'RESTAURANT#GENERAL', 'SERVICE#GENERAL'], ['AMBIENCE#GENERAL', 'FOOD#QUALITY', 'FOOD#STYLE_OPTIONS', 'SERVICE#GENERAL'], ['RESTAURANT#GENERAL'], ['AMBIENCE#GENERAL', 'FOOD#QUALITY', 'FOOD#STYLE_OPTIONS', 'RESTAURANT#GENERAL', 'SERVICE#GENERAL'], ['FOOD#QUALITY', 'FOOD#STYLE_OPTIONS', 'RESTAURANT#GENERAL', 'SERVICE#GENERAL'], ['FOOD#QUALITY', 'FOOD#STYLE_OPTIONS', 'RESTAURANT#GENERAL', 'SERVICE#GENERAL'], ['FOOD#QUALITY', 'FOOD#STYLE_OPTIONS', 'SERVICE#GENERAL'], ['FOOD#QUALITY', 'FOOD#STYLE_OPTIONS', 'RESTAURANT#GENERAL', 'SERVICE#GENERAL'], ['AMBIENCE#GENERAL', 'FOOD#QUALITY', 'FOOD#STYLE_OPTIONS', 'RESTAURANT#GENERAL', 'SERVICE#GENERAL'], ['FOOD#QUALITY', 'FOOD#STYLE_OPTIONS', 'RESTAURANT#GENERAL', 'SERVICE#GENERAL'], ['DRINKS#QUALITY', 'FOOD#QUALITY', 'FOOD#STYLE_OPTIONS', 'SERVICE#GENERAL'], ['FOOD#QUALITY', 'RESTAURANT#GENERAL'], ['FOOD#QUALITY', 'FOOD#STYLE_OPTIONS', 'SERVICE#GENERAL'], ['AMBIENCE#GENERAL', 'FOOD#QUALITY', 'FOOD#STYLE_OPTIONS'], ['FOOD#QUALITY', 'RESTAURANT#GENERAL', 'SERVICE#GENERAL'], ['AMBIENCE#GENERAL', 'FOOD#STYLE_OPTIONS', 'RESTAURANT#GENERAL', 'SERVICE#GENERAL'], ['FOOD#STYLE_OPTIONS', 'RESTAURANT#GENERAL', 'SERVICE#GENERAL'], ['FOOD#QUALITY', 'RESTAURANT#GENERAL', 'SERVICE#GENERAL'], ['RESTAURANT#GENERAL'], ['AMBIENCE#GENERAL', 'RESTAURANT#GENERAL'], ['FOOD#QUALITY', 'FOOD#STYLE_OPTIONS', 'SERVICE#GENERAL'], ['AMBIENCE#GENERAL', 'FOOD#QUALITY', 'FOOD#STYLE_OPTIONS', 'RESTAURANT#GENERAL', 'SERVICE#GENERAL'], ['AMBIENCE#GENERAL', 'FOOD#QUALITY', 'FOOD#STYLE_OPTIONS', 'RESTAURANT#GENERAL', 'SERVICE#GENERAL'], ['RESTAURANT#GENERAL'], [], ['RESTAURANT#GENERAL'], ['RESTAURANT#GENERAL', 'SERVICE#GENERAL'], ['RESTAURANT#GENERAL', 'SERVICE#GENERAL'], ['AMBIENCE#GENERAL', 'FOOD#QUALITY', 'FOOD#STYLE_OPTIONS', 'SERVICE#GENERAL'], ['FOOD#QUALITY', 'RESTAURANT#GENERAL', 'SERVICE#GENERAL'], ['AMBIENCE#GENERAL', 'FOOD#QUALITY', 'FOOD#STYLE_OPTIONS', 'RESTAURANT#GENERAL', 'SERVICE#GENERAL'], ['AMBIENCE#GENERAL', 'FOOD#STYLE_OPTIONS', 'RESTAURANT#GENERAL', 'SERVICE#GENERAL'], ['RESTAURANT#GENERAL', 'SERVICE#GENERAL'], ['AMBIENCE#GENERAL', 'FOOD#STYLE_OPTIONS', 'RESTAURANT#GENERAL', 'SERVICE#GENERAL'], ['RESTAURANT#GENERAL'], ['AMBIENCE#GENERAL', 'FOOD#QUALITY', 'RESTAURANT#GENERAL'], ['AMBIENCE#GENERAL', 'FOOD#QUALITY', 'FOOD#STYLE_OPTIONS', 'RESTAURANT#GENERAL', 'SERVICE#GENERAL'], ['AMBIENCE#GENERAL', 'FOOD#QUALITY', 'FOOD#STYLE_OPTIONS', 'RESTAURANT#GENERAL', 'SERVICE#GENERAL'], ['AMBIENCE#GENERAL', 'FOOD#QUALITY', 'FOOD#STYLE_OPTIONS', 'SERVICE#GENERAL'], ['AMBIENCE#GENERAL', 'FOOD#QUALITY', 'RESTAURANT#GENERAL', 'SERVICE#GENERAL'], ['AMBIENCE#GENERAL', 'FOOD#QUALITY', 'FOOD#STYLE_OPTIONS', 'RESTAURANT#GENERAL', 'SERVICE#GENERAL'], ['FOOD#QUALITY', 'RESTAURANT#GENERAL'], ['FOOD#QUALITY', 'FOOD#STYLE_OPTIONS'], ['FOOD#QUALITY', 'FOOD#STYLE_OPTIONS', 'SERVICE#GENERAL'], ['AMBIENCE#GENERAL', 'FOOD#QUALITY', 'FOOD#STYLE_OPTIONS', 'RESTAURANT#GENERAL'], ['AMBIENCE#GENERAL', 'FOOD#QUALITY', 'RESTAURANT#GENERAL'], ['FOOD#QUALITY', 'RESTAURANT#GENERAL'], ['AMBIENCE#GENERAL', 'FOOD#QUALITY', 'FOOD#STYLE_OPTIONS', 'RESTAURANT#GENERAL'], ['AMBIENCE#GENERAL', 'RESTAURANT#GENERAL', 'SERVICE#GENERAL'], ['AMBIENCE#GENERAL', 'FOOD#STYLE_OPTIONS', 'RESTAURANT#GENERAL', 'SERVICE#GENERAL'], ['AMBIENCE#GENERAL', 'FOOD#QUALITY', 'FOOD#STYLE_OPTIONS', 'SERVICE#GENERAL'], ['AMBIENCE#GENERAL', 'RESTAURANT#GENERAL', 'SERVICE#GENERAL'], ['FOOD#QUALITY', 'FOOD#STYLE_OPTIONS', 'RESTAURANT#GENERAL', 'SERVICE#GENERAL'], ['FOOD#QUALITY', 'FOOD#STYLE_OPTIONS', 'SERVICE#GENERAL'], ['FOOD#QUALITY', 'FOOD#STYLE_OPTIONS', 'SERVICE#GENERAL'], ['AMBIENCE#GENERAL', 'FOOD#QUALITY', 'FOOD#STYLE_OPTIONS', 'SERVICE#GENERAL'], ['AMBIENCE#GENERAL', 'FOOD#QUALITY', 'RESTAURANT#GENERAL', 'SERVICE#GENERAL'], ['FOOD#QUALITY', 'RESTAURANT#GENERAL', 'SERVICE#GENERAL'], ['AMBIENCE#GENERAL', 'RESTAURANT#GENERAL', 'SERVICE#GENERAL'], ['AMBIENCE#GENERAL', 'FOOD#QUALITY', 'RESTAURANT#GENERAL'], ['AMBIENCE#GENERAL', 'RESTAURANT#GENERAL', 'SERVICE#GENERAL'], ['AMBIENCE#GENERAL', 'FOOD#QUALITY', 'SERVICE#GENERAL'], ['FOOD#QUALITY', 'FOOD#STYLE_OPTIONS', 'RESTAURANT#GENERAL', 'SERVICE#GENERAL'], ['AMBIENCE#GENERAL', 'FOOD#QUALITY', 'FOOD#STYLE_OPTIONS', 'RESTAURANT#GENERAL', 'SERVICE#GENERAL'], ['AMBIENCE#GENERAL', 'FOOD#QUALITY', 'FOOD#STYLE_OPTIONS', 'RESTAURANT#GENERAL', 'SERVICE#GENERAL'], ['AMBIENCE#GENERAL', 'RESTAURANT#GENERAL', 'SERVICE#GENERAL'], ['AMBIENCE#GENERAL', 'RESTAURANT#GENERAL', 'SERVICE#GENERAL'], ['AMBIENCE#GENERAL', 'RESTAURANT#GENERAL'], ['AMBIENCE#GENERAL', 'FOOD#STYLE_OPTIONS', 'SERVICE#GENERAL'], ['AMBIENCE#GENERAL', 'RESTAURANT#GENERAL'], ['FOOD#QUALITY', 'FOOD#STYLE_OPTIONS', 'RESTAURANT#GENERAL', 'SERVICE#GENERAL'], ['FOOD#QUALITY', 'RESTAURANT#GENERAL'], ['AMBIENCE#GENERAL', 'FOOD#STYLE_OPTIONS', 'RESTAURANT#GENERAL', 'SERVICE#GENERAL'], ['FOOD#STYLE_OPTIONS', 'RESTAURANT#GENERAL', 'SERVICE#GENERAL'], ['RESTAURANT#GENERAL', 'SERVICE#GENERAL'], ['AMBIENCE#GENERAL', 'RESTAURANT#GENERAL', 'SERVICE#GENERAL'], ['AMBIENCE#GENERAL', 'FOOD#QUALITY', 'FOOD#STYLE_OPTIONS', 'RESTAURANT#GENERAL', 'SERVICE#GENERAL'], ['AMBIENCE#GENERAL', 'FOOD#QUALITY', 'FOOD#STYLE_OPTIONS', 'RESTAURANT#GENERAL', 'SERVICE#GENERAL'], ['FOOD#QUALITY', 'FOOD#STYLE_OPTIONS'], ['FOOD#QUALITY', 'RESTAURANT#GENERAL', 'SERVICE#GENERAL'], ['AMBIENCE#GENERAL', 'RESTAURANT#GENERAL', 'SERVICE#GENERAL'], ['AMBIENCE#GENERAL', 'FOOD#STYLE_OPTIONS', 'RESTAURANT#GENERAL', 'SERVICE#GENERAL'], ['RESTAURANT#GENERAL'], ['AMBIENCE#GENERAL', 'FOOD#STYLE_OPTIONS', 'RESTAURANT#GENERAL', 'SERVICE#GENERAL'], ['FOOD#QUALITY', 'RESTAURANT#GENERAL'], ['AMBIENCE#GENERAL', 'RESTAURANT#GENERAL'], ['AMBIENCE#GENERAL', 'FOOD#QUALITY', 'FOOD#STYLE_OPTIONS'], ['FOOD#QUALITY', 'FOOD#STYLE_OPTIONS', 'SERVICE#GENERAL'], ['AMBIENCE#GENERAL', 'FOOD#QUALITY', 'FOOD#STYLE_OPTIONS', 'SERVICE#GENERAL'], ['AMBIENCE#GENERAL', 'FOOD#QUALITY', 'FOOD#STYLE_OPTIONS', 'SERVICE#GENERAL'], ['FOOD#QUALITY', 'FOOD#STYLE_OPTIONS'], ['FOOD#QUALITY', 'RESTAURANT#GENERAL', 'SERVICE#GENERAL'], ['AMBIENCE#GENERAL', 'FOOD#QUALITY', 'RESTAURANT#GENERAL', 'SERVICE#GENERAL'], ['FOOD#QUALITY', 'FOOD#STYLE_OPTIONS'], ['AMBIENCE#GENERAL', 'FOOD#QUALITY', 'RESTAURANT#GENERAL', 'SERVICE#GENERAL'], ['AMBIENCE#GENERAL', 'FOOD#QUALITY', 'RESTAURANT#GENERAL', 'SERVICE#GENERAL'], ['AMBIENCE#GENERAL', 'RESTAURANT#GENERAL', 'SERVICE#GENERAL'], ['AMBIENCE#GENERAL', 'FOOD#QUALITY', 'SERVICE#GENERAL'], ['AMBIENCE#GENERAL', 'FOOD#QUALITY', 'RESTAURANT#GENERAL', 'SERVICE#GENERAL'], ['AMBIENCE#GENERAL', 'FOOD#QUALITY', 'RESTAURANT#GENERAL'], ['FOOD#QUALITY', 'RESTAURANT#GENERAL'], ['RESTAURANT#GENERAL'], ['RESTAURANT#GENERAL'], ['AMBIENCE#GENERAL', 'FOOD#QUALITY', 'FOOD#STYLE_OPTIONS', 'RESTAURANT#GENERAL', 'SERVICE#GENERAL'], ['RESTAURANT#GENERAL', 'SERVICE#GENERAL'], ['RESTAURANT#GENERAL', 'SERVICE#GENERAL'], ['AMBIENCE#GENERAL', 'FOOD#QUALITY', 'RESTAURANT#GENERAL', 'SERVICE#GENERAL'], ['FOOD#QUALITY', 'FOOD#STYLE_OPTIONS'], ['FOOD#QUALITY', 'FOOD#STYLE_OPTIONS', 'SERVICE#GENERAL'], ['SERVICE#GENERAL'], ['FOOD#QUALITY', 'FOOD#STYLE_OPTIONS', 'RESTAURANT#GENERAL', 'SERVICE#GENERAL'], ['AMBIENCE#GENERAL', 'RESTAURANT#GENERAL', 'SERVICE#GENERAL'], ['AMBIENCE#GENERAL', 'RESTAURANT#GENERAL', 'SERVICE#GENERAL'], ['AMBIENCE#GENERAL', 'FOOD#QUALITY', 'FOOD#STYLE_OPTIONS', 'RESTAURANT#GENERAL', 'SERVICE#GENERAL'], ['FOOD#QUALITY', 'FOOD#STYLE_OPTIONS', 'RESTAURANT#GENERAL', 'SERVICE#GENERAL'], ['AMBIENCE#GENERAL', 'FOOD#QUALITY', 'RESTAURANT#GENERAL'], ['FOOD#STYLE_OPTIONS', 'SERVICE#GENERAL'], ['AMBIENCE#GENERAL', 'FOOD#QUALITY', 'RESTAURANT#GENERAL', 'SERVICE#GENERAL'], ['FOOD#QUALITY', 'FOOD#STYLE_OPTIONS', 'SERVICE#GENERAL'], ['FOOD#QUALITY', 'FOOD#STYLE_OPTIONS', 'SERVICE#GENERAL'], ['FOOD#QUALITY', 'FOOD#STYLE_OPTIONS', 'RESTAURANT#GENERAL', 'SERVICE#GENERAL'], ['FOOD#QUALITY', 'FOOD#STYLE_OPTIONS', 'SERVICE#GENERAL'], ['AMBIENCE#GENERAL', 'FOOD#QUALITY', 'FOOD#STYLE_OPTIONS', 'SERVICE#GENERAL'], ['AMBIENCE#GENERAL', 'FOOD#QUALITY', 'FOOD#STYLE_OPTIONS', 'RESTAURANT#GENERAL', 'SERVICE#GENERAL'], ['AMBIENCE#GENERAL', 'RESTAURANT#GENERAL', 'SERVICE#GENERAL'], ['AMBIENCE#GENERAL', 'FOOD#QUALITY', 'RESTAURANT#GENERAL'], ['FOOD#QUALITY', 'FOOD#STYLE_OPTIONS', 'SERVICE#GENERAL'], ['FOOD#QUALITY', 'FOOD#STYLE_OPTIONS', 'RESTAURANT#GENERAL', 'SERVICE#GENERAL'], ['AMBIENCE#GENERAL', 'FOOD#QUALITY', 'FOOD#STYLE_OPTIONS', 'RESTAURANT#GENERAL', 'SERVICE#GENERAL'], ['RESTAURANT#GENERAL'], ['AMBIENCE#GENERAL', 'FOOD#QUALITY', 'RESTAURANT#GENERAL', 'SERVICE#GENERAL'], ['FOOD#QUALITY', 'FOOD#STYLE_OPTIONS', 'RESTAURANT#GENERAL', 'SERVICE#GENERAL'], ['FOOD#QUALITY', 'FOOD#STYLE_OPTIONS', 'RESTAURANT#GENERAL', 'SERVICE#GENERAL'], ['FOOD#QUALITY', 'FOOD#STYLE_OPTIONS', 'RESTAURANT#GENERAL', 'SERVICE#GENERAL'], ['AMBIENCE#GENERAL', 'FOOD#QUALITY', 'RESTAURANT#GENERAL'], ['AMBIENCE#GENERAL', 'FOOD#QUALITY', 'FOOD#STYLE_OPTIONS', 'RESTAURANT#GENERAL', 'SERVICE#GENERAL'], ['FOOD#QUALITY', 'FOOD#STYLE_OPTIONS', 'SERVICE#GENERAL'], ['AMBIENCE#GENERAL', 'FOOD#QUALITY', 'FOOD#STYLE_OPTIONS', 'SERVICE#GENERAL'], ['AMBIENCE#GENERAL', 'RESTAURANT#GENERAL'], ['FOOD#QUALITY', 'FOOD#STYLE_OPTIONS', 'RESTAURANT#GENERAL', 'SERVICE#GENERAL'], ['AMBIENCE#GENERAL', 'FOOD#QUALITY', 'FOOD#STYLE_OPTIONS', 'RESTAURANT#GENERAL', 'SERVICE#GENERAL'], ['AMBIENCE#GENERAL', 'FOOD#QUALITY', 'RESTAURANT#GENERAL'], ['AMBIENCE#GENERAL', 'FOOD#QUALITY', 'FOOD#STYLE_OPTIONS', 'SERVICE#GENERAL'], ['AMBIENCE#GENERAL', 'FOOD#QUALITY', 'FOOD#STYLE_OPTIONS', 'RESTAURANT#GENERAL', 'SERVICE#GENERAL'], ['AMBIENCE#GENERAL', 'FOOD#QUALITY', 'RESTAURANT#GENERAL', 'SERVICE#GENERAL'], ['FOOD#QUALITY', 'FOOD#STYLE_OPTIONS', 'SERVICE#GENERAL'], ['FOOD#QUALITY', 'FOOD#STYLE_OPTIONS', 'RESTAURANT#GENERAL', 'SERVICE#GENERAL'], ['FOOD#QUALITY', 'RESTAURANT#GENERAL'], ['AMBIENCE#GENERAL', 'RESTAURANT#GENERAL'], ['RESTAURANT#GENERAL'], ['AMBIENCE#GENERAL', 'RESTAURANT#GENERAL', 'SERVICE#GENERAL'], ['FOOD#QUALITY', 'FOOD#STYLE_OPTIONS', 'RESTAURANT#GENERAL', 'SERVICE#GENERAL'], ['AMBIENCE#GENERAL', 'FOOD#QUALITY', 'FOOD#STYLE_OPTIONS', 'RESTAURANT#GENERAL', 'SERVICE#GENERAL'], ['AMBIENCE#GENERAL', 'FOOD#QUALITY', 'RESTAURANT#GENERAL', 'SERVICE#GENERAL'], ['AMBIENCE#GENERAL', 'FOOD#QUALITY', 'FOOD#STYLE_OPTIONS', 'RESTAURANT#GENERAL'], ['AMBIENCE#GENERAL', 'RESTAURANT#GENERAL'], ['AMBIENCE#GENERAL', 'FOOD#QUALITY', 'FOOD#STYLE_OPTIONS', 'SERVICE#GENERAL'], ['RESTAURANT#GENERAL'], ['FOOD#QUALITY', 'RESTAURANT#GENERAL'], ['AMBIENCE#GENERAL', 'FOOD#QUALITY', 'RESTAURANT#GENERAL'], ['AMBIENCE#GENERAL', 'FOOD#QUALITY', 'RESTAURANT#GENERAL', 'SERVICE#GENERAL'], ['AMBIENCE#GENERAL', 'FOOD#QUALITY', 'SERVICE#GENERAL'], ['FOOD#QUALITY', 'SERVICE#GENERAL'], ['FOOD#QUALITY', 'FOOD#STYLE_OPTIONS', 'SERVICE#GENERAL'], ['AMBIENCE#GENERAL', 'FOOD#QUALITY', 'FOOD#STYLE_OPTIONS', 'RESTAURANT#GENERAL', 'SERVICE#GENERAL'], ['AMBIENCE#GENERAL', 'FOOD#QUALITY', 'FOOD#STYLE_OPTIONS', 'RESTAURANT#GENERAL', 'SERVICE#GENERAL'], ['AMBIENCE#GENERAL', 'FOOD#QUALITY', 'RESTAURANT#GENERAL'], ['AMBIENCE#GENERAL', 'RESTAURANT#GENERAL'], ['FOOD#QUALITY', 'RESTAURANT#GENERAL', 'SERVICE#GENERAL'], ['AMBIENCE#GENERAL', 'FOOD#QUALITY', 'FOOD#STYLE_OPTIONS', 'RESTAURANT#GENERAL', 'SERVICE#GENERAL'], ['AMBIENCE#GENERAL', 'FOOD#QUALITY', 'FOOD#STYLE_OPTIONS', 'RESTAURANT#GENERAL', 'SERVICE#GENERAL'], ['AMBIENCE#GENERAL', 'FOOD#QUALITY', 'RESTAURANT#GENERAL'], ['RESTAURANT#GENERAL', 'SERVICE#GENERAL'], ['RESTAURANT#GENERAL'], ['FOOD#QUALITY'], ['RESTAURANT#GENERAL'], ['RESTAURANT#GENERAL'], ['AMBIENCE#GENERAL', 'FOOD#QUALITY', 'FOOD#STYLE_OPTIONS', 'SERVICE#GENERAL'], ['RESTAURANT#GENERAL', 'SERVICE#GENERAL'], ['FOOD#QUALITY', 'FOOD#STYLE_OPTIONS', 'RESTAURANT#GENERAL', 'SERVICE#GENERAL'], ['FOOD#QUALITY', 'FOOD#STYLE_OPTIONS', 'RESTAURANT#GENERAL', 'SERVICE#GENERAL'], ['FOOD#QUALITY', 'FOOD#STYLE_OPTIONS', 'SERVICE#GENERAL'], ['AMBIENCE#GENERAL', 'FOOD#QUALITY', 'FOOD#STYLE_OPTIONS', 'SERVICE#GENERAL'], ['AMBIENCE#GENERAL', 'FOOD#QUALITY', 'FOOD#STYLE_OPTIONS', 'RESTAURANT#GENERAL', 'SERVICE#GENERAL'], ['FOOD#QUALITY', 'FOOD#STYLE_OPTIONS', 'RESTAURANT#GENERAL', 'SERVICE#GENERAL'], ['RESTAURANT#GENERAL'], ['AMBIENCE#GENERAL', 'FOOD#QUALITY', 'FOOD#STYLE_OPTIONS', 'SERVICE#GENERAL'], ['RESTAURANT#GENERAL', 'SERVICE#GENERAL'], ['FOOD#QUALITY', 'FOOD#STYLE_OPTIONS', 'RESTAURANT#GENERAL', 'SERVICE#GENERAL'], ['FOOD#STYLE_OPTIONS', 'SERVICE#GENERAL'], ['AMBIENCE#GENERAL', 'FOOD#QUALITY', 'RESTAURANT#GENERAL', 'SERVICE#GENERAL'], ['AMBIENCE#GENERAL', 'FOOD#QUALITY', 'FOOD#STYLE_OPTIONS', 'RESTAURANT#GENERAL', 'SERVICE#GENERAL'], ['FOOD#QUALITY', 'RESTAURANT#GENERAL', 'SERVICE#GENERAL'], ['AMBIENCE#GENERAL', 'RESTAURANT#GENERAL', 'SERVICE#GENERAL'], ['RESTAURANT#GENERAL'], ['RESTAURANT#GENERAL'], ['FOOD#QUALITY', 'RESTAURANT#GENERAL'], ['AMBIENCE#GENERAL', 'FOOD#QUALITY', 'RESTAURANT#GENERAL', 'SERVICE#GENERAL'], ['AMBIENCE#GENERAL', 'FOOD#QUALITY', 'SERVICE#GENERAL'], ['FOOD#QUALITY', 'FOOD#STYLE_OPTIONS', 'SERVICE#GENERAL'], ['FOOD#QUALITY', 'FOOD#STYLE_OPTIONS', 'RESTAURANT#GENERAL', 'SERVICE#GENERAL'], ['AMBIENCE#GENERAL', 'FOOD#QUALITY', 'FOOD#STYLE_OPTIONS', 'SERVICE#GENERAL'], ['FOOD#QUALITY', 'FOOD#STYLE_OPTIONS', 'RESTAURANT#GENERAL', 'SERVICE#GENERAL'], ['RESTAURANT#GENERAL', 'SERVICE#GENERAL'], ['RESTAURANT#GENERAL'], ['AMBIENCE#GENERAL', 'FOOD#QUALITY', 'FOOD#STYLE_OPTIONS', 'RESTAURANT#GENERAL', 'SERVICE#GENERAL'], ['AMBIENCE#GENERAL', 'RESTAURANT#GENERAL', 'SERVICE#GENERAL'], ['AMBIENCE#GENERAL', 'RESTAURANT#GENERAL', 'SERVICE#GENERAL'], ['RESTAURANT#GENERAL', 'SERVICE#GENERAL'], ['FOOD#QUALITY', 'FOOD#STYLE_OPTIONS', 'SERVICE#GENERAL'], ['AMBIENCE#GENERAL', 'FOOD#STYLE_OPTIONS', 'RESTAURANT#GENERAL', 'SERVICE#GENERAL'], ['AMBIENCE#GENERAL', 'FOOD#QUALITY', 'RESTAURANT#GENERAL', 'SERVICE#GENERAL'], ['FOOD#QUALITY', 'FOOD#STYLE_OPTIONS', 'SERVICE#GENERAL'], ['AMBIENCE#GENERAL', 'FOOD#QUALITY', 'FOOD#STYLE_OPTIONS', 'RESTAURANT#GENERAL', 'SERVICE#GENERAL'], ['AMBIENCE#GENERAL', 'FOOD#QUALITY', 'RESTAURANT#GENERAL', 'SERVICE#GENERAL'], ['AMBIENCE#GENERAL', 'FOOD#QUALITY', 'FOOD#STYLE_OPTIONS', 'RESTAURANT#GENERAL', 'SERVICE#GENERAL'], ['RESTAURANT#GENERAL'], ['FOOD#QUALITY', 'FOOD#STYLE_OPTIONS', 'SERVICE#GENERAL'], ['FOOD#QUALITY', 'FOOD#STYLE_OPTIONS', 'SERVICE#GENERAL'], ['FOOD#QUALITY', 'FOOD#STYLE_OPTIONS', 'RESTAURANT#GENERAL'], ['AMBIENCE#GENERAL', 'FOOD#QUALITY', 'FOOD#STYLE_OPTIONS', 'RESTAURANT#GENERAL', 'SERVICE#GENERAL'], ['AMBIENCE#GENERAL', 'FOOD#QUALITY', 'SERVICE#GENERAL'], ['AMBIENCE#GENERAL', 'RESTAURANT#GENERAL', 'SERVICE#GENERAL'], ['AMBIENCE#GENERAL', 'FOOD#QUALITY', 'RESTAURANT#GENERAL'], ['AMBIENCE#GENERAL', 'FOOD#QUALITY', 'RESTAURANT#GENERAL', 'SERVICE#GENERAL'], ['AMBIENCE#GENERAL', 'FOOD#QUALITY', 'FOOD#STYLE_OPTIONS', 'RESTAURANT#GENERAL'], ['AMBIENCE#GENERAL', 'FOOD#QUALITY', 'RESTAURANT#GENERAL'], ['AMBIENCE#GENERAL', 'FOOD#QUALITY', 'FOOD#STYLE_OPTIONS', 'RESTAURANT#GENERAL', 'SERVICE#GENERAL'], ['AMBIENCE#GENERAL', 'FOOD#QUALITY', 'FOOD#STYLE_OPTIONS', 'RESTAURANT#GENERAL', 'SERVICE#GENERAL'], ['FOOD#QUALITY', 'RESTAURANT#GENERAL', 'SERVICE#GENERAL'], ['FOOD#QUALITY', 'FOOD#STYLE_OPTIONS', 'RESTAURANT#GENERAL', 'SERVICE#GENERAL'], ['AMBIENCE#GENERAL', 'RESTAURANT#GENERAL', 'SERVICE#GENERAL'], ['FOOD#QUALITY', 'FOOD#STYLE_OPTIONS', 'SERVICE#GENERAL'], ['AMBIENCE#GENERAL', 'RESTAURANT#GENERAL', 'SERVICE#GENERAL'], ['AMBIENCE#GENERAL', 'FOOD#QUALITY', 'RESTAURANT#GENERAL'], ['AMBIENCE#GENERAL', 'FOOD#QUALITY', 'RESTAURANT#GENERAL', 'SERVICE#GENERAL'], ['AMBIENCE#GENERAL', 'FOOD#QUALITY', 'FOOD#STYLE_OPTIONS', 'SERVICE#GENERAL'], ['AMBIENCE#GENERAL', 'RESTAURANT#GENERAL'], ['FOOD#QUALITY', 'RESTAURANT#GENERAL'], ['FOOD#QUALITY', 'FOOD#STYLE_OPTIONS', 'RESTAURANT#GENERAL', 'SERVICE#GENERAL'], ['FOOD#QUALITY', 'FOOD#STYLE_OPTIONS', 'RESTAURANT#GENERAL'], ['AMBIENCE#GENERAL', 'FOOD#QUALITY', 'FOOD#STYLE_OPTIONS', 'RESTAURANT#GENERAL', 'SERVICE#GENERAL'], ['FOOD#QUALITY', 'FOOD#STYLE_OPTIONS'], ['FOOD#QUALITY', 'FOOD#STYLE_OPTIONS', 'RESTAURANT#GENERAL', 'SERVICE#GENERAL'], ['RESTAURANT#GENERAL'], ['RESTAURANT#GENERAL', 'SERVICE#GENERAL'], ['FOOD#QUALITY', 'FOOD#STYLE_OPTIONS', 'SERVICE#GENERAL'], ['AMBIENCE#GENERAL', 'FOOD#STYLE_OPTIONS', 'RESTAURANT#GENERAL', 'SERVICE#GENERAL'], ['RESTAURANT#GENERAL', 'SERVICE#GENERAL'], ['AMBIENCE#GENERAL', 'FOOD#QUALITY', 'RESTAURANT#GENERAL'], ['FOOD#QUALITY', 'FOOD#STYLE_OPTIONS', 'SERVICE#GENERAL'], ['FOOD#QUALITY', 'FOOD#STYLE_OPTIONS', 'RESTAURANT#GENERAL'], ['FOOD#QUALITY', 'FOOD#STYLE_OPTIONS', 'SERVICE#GENERAL'], ['FOOD#QUALITY', 'FOOD#STYLE_OPTIONS', 'RESTAURANT#GENERAL'], ['FOOD#QUALITY', 'FOOD#STYLE_OPTIONS', 'RESTAURANT#GENERAL', 'SERVICE#GENERAL'], ['AMBIENCE#GENERAL', 'FOOD#QUALITY', 'RESTAURANT#GENERAL'], ['RESTAURANT#GENERAL'], ['FOOD#QUALITY', 'FOOD#STYLE_OPTIONS', 'SERVICE#GENERAL'], ['FOOD#QUALITY', 'FOOD#STYLE_OPTIONS', 'RESTAURANT#GENERAL', 'SERVICE#GENERAL'], ['FOOD#QUALITY', 'FOOD#STYLE_OPTIONS', 'RESTAURANT#GENERAL', 'SERVICE#GENERAL'], ['FOOD#QUALITY', 'FOOD#STYLE_OPTIONS', 'RESTAURANT#GENERAL', 'SERVICE#GENERAL'], ['FOOD#QUALITY', 'FOOD#STYLE_OPTIONS', 'RESTAURANT#GENERAL', 'SERVICE#GENERAL'], ['FOOD#QUALITY', 'RESTAURANT#GENERAL', 'SERVICE#GENERAL'], ['FOOD#QUALITY', 'FOOD#STYLE_OPTIONS', 'SERVICE#GENERAL'], ['AMBIENCE#GENERAL', 'RESTAURANT#GENERAL', 'SERVICE#GENERAL'], ['FOOD#QUALITY', 'RESTAURANT#GENERAL'], ['AMBIENCE#GENERAL', 'FOOD#QUALITY', 'FOOD#STYLE_OPTIONS', 'RESTAURANT#GENERAL', 'SERVICE#GENERAL'], ['RESTAURANT#GENERAL', 'SERVICE#GENERAL'], ['FOOD#QUALITY', 'FOOD#STYLE_OPTIONS', 'RESTAURANT#GENERAL', 'SERVICE#GENERAL'], ['AMBIENCE#GENERAL', 'FOOD#QUALITY', 'RESTAURANT#GENERAL', 'SERVICE#GENERAL'], ['FOOD#QUALITY', 'RESTAURANT#GENERAL', 'SERVICE#GENERAL'], ['AMBIENCE#GENERAL', 'FOOD#QUALITY', 'FOOD#STYLE_OPTIONS', 'RESTAURANT#GENERAL', 'SERVICE#GENERAL'], ['AMBIENCE#GENERAL', 'FOOD#QUALITY', 'RESTAURANT#GENERAL', 'SERVICE#GENERAL'], ['RESTAURANT#GENERAL', 'SERVICE#GENERAL'], ['AMBIENCE#GENERAL', 'RESTAURANT#GENERAL'], ['FOOD#QUALITY', 'FOOD#STYLE_OPTIONS', 'SERVICE#GENERAL'], ['AMBIENCE#GENERAL', 'FOOD#QUALITY', 'FOOD#STYLE_OPTIONS', 'RESTAURANT#GENERAL', 'SERVICE#GENERAL'], ['AMBIENCE#GENERAL', 'FOOD#STYLE_OPTIONS', 'SERVICE#GENERAL'], ['AMBIENCE#GENERAL', 'FOOD#QUALITY', 'RESTAURANT#GENERAL', 'SERVICE#GENERAL'], ['RESTAURANT#GENERAL', 'SERVICE#GENERAL'], ['AMBIENCE#GENERAL', 'FOOD#QUALITY', 'FOOD#STYLE_OPTIONS', 'SERVICE#GENERAL'], ['FOOD#QUALITY', 'FOOD#STYLE_OPTIONS', 'RESTAURANT#GENERAL', 'SERVICE#GENERAL'], ['FOOD#QUALITY', 'FOOD#STYLE_OPTIONS', 'RESTAURANT#GENERAL', 'SERVICE#GENERAL'], ['FOOD#QUALITY', 'FOOD#STYLE_OPTIONS', 'SERVICE#GENERAL'], ['FOOD#QUALITY', 'FOOD#STYLE_OPTIONS', 'RESTAURANT#GENERAL', 'SERVICE#GENERAL'], ['FOOD#QUALITY', 'FOOD#STYLE_OPTIONS', 'RESTAURANT#GENERAL', 'SERVICE#GENERAL'], ['FOOD#QUALITY', 'FOOD#STYLE_OPTIONS', 'RESTAURANT#GENERAL', 'SERVICE#GENERAL'], ['AMBIENCE#GENERAL', 'FOOD#QUALITY', 'FOOD#STYLE_OPTIONS', 'RESTAURANT#GENERAL', 'SERVICE#GENERAL'], ['AMBIENCE#GENERAL', 'FOOD#QUALITY', 'RESTAURANT#GENERAL'], ['AMBIENCE#GENERAL', 'FOOD#QUALITY', 'RESTAURANT#GENERAL', 'SERVICE#GENERAL'], ['AMBIENCE#GENERAL', 'RESTAURANT#GENERAL'], ['RESTAURANT#GENERAL'], ['RESTAURANT#GENERAL', 'SERVICE#GENERAL'], ['RESTAURANT#GENERAL', 'SERVICE#GENERAL'], ['RESTAURANT#GENERAL', 'SERVICE#GENERAL'], ['RESTAURANT#GENERAL', 'SERVICE#GENERAL'], ['AMBIENCE#GENERAL', 'FOOD#QUALITY', 'FOOD#STYLE_OPTIONS', 'RESTAURANT#GENERAL', 'SERVICE#GENERAL'], ['AMBIENCE#GENERAL', 'FOOD#QUALITY', 'FOOD#STYLE_OPTIONS', 'RESTAURANT#GENERAL', 'SERVICE#GENERAL'], ['RESTAURANT#GENERAL', 'SERVICE#GENERAL'], ['SERVICE#GENERAL'], ['FOOD#QUALITY', 'FOOD#STYLE_OPTIONS', 'SERVICE#GENERAL'], ['FOOD#QUALITY', 'FOOD#STYLE_OPTIONS', 'RESTAURANT#GENERAL', 'SERVICE#GENERAL'], ['RESTAURANT#GENERAL', 'SERVICE#GENERAL'], ['AMBIENCE#GENERAL', 'FOOD#QUALITY', 'RESTAURANT#GENERAL', 'SERVICE#GENERAL'], ['AMBIENCE#GENERAL', 'RESTAURANT#GENERAL'], ['AMBIENCE#GENERAL', 'FOOD#QUALITY', 'FOOD#STYLE_OPTIONS', 'SERVICE#GENERAL'], ['AMBIENCE#GENERAL', 'FOOD#QUALITY', 'RESTAURANT#GENERAL', 'SERVICE#GENERAL'], ['AMBIENCE#GENERAL', 'FOOD#QUALITY', 'FOOD#STYLE_OPTIONS', 'RESTAURANT#GENERAL', 'SERVICE#GENERAL'], ['FOOD#QUALITY', 'FOOD#STYLE_OPTIONS', 'SERVICE#GENERAL'], ['AMBIENCE#GENERAL', 'FOOD#QUALITY', 'FOOD#STYLE_OPTIONS', 'SERVICE#GENERAL'], ['FOOD#QUALITY', 'FOOD#STYLE_OPTIONS'], ['RESTAURANT#GENERAL'], ['AMBIENCE#GENERAL', 'FOOD#QUALITY', 'RESTAURANT#GENERAL'], ['AMBIENCE#GENERAL', 'FOOD#QUALITY', 'RESTAURANT#GENERAL'], ['RESTAURANT#GENERAL', 'SERVICE#GENERAL'], ['RESTAURANT#GENERAL', 'SERVICE#GENERAL'], ['AMBIENCE#GENERAL', 'RESTAURANT#GENERAL', 'SERVICE#GENERAL'], ['FOOD#STYLE_OPTIONS', 'SERVICE#GENERAL'], ['RESTAURANT#GENERAL', 'SERVICE#GENERAL'], ['FOOD#QUALITY', 'FOOD#STYLE_OPTIONS', 'SERVICE#GENERAL'], ['AMBIENCE#GENERAL', 'RESTAURANT#GENERAL'], ['RESTAURANT#GENERAL'], ['AMBIENCE#GENERAL', 'FOOD#QUALITY', 'RESTAURANT#GENERAL'], ['AMBIENCE#GENERAL', 'FOOD#QUALITY', 'FOOD#STYLE_OPTIONS', 'SERVICE#GENERAL'], ['FOOD#STYLE_OPTIONS', 'RESTAURANT#GENERAL', 'SERVICE#GENERAL'], ['FOOD#QUALITY', 'FOOD#STYLE_OPTIONS', 'SERVICE#GENERAL'], ['FOOD#QUALITY', 'RESTAURANT#GENERAL', 'SERVICE#GENERAL'], ['FOOD#QUALITY', 'FOOD#STYLE_OPTIONS', 'SERVICE#GENERAL'], ['AMBIENCE#GENERAL', 'FOOD#QUALITY', 'FOOD#STYLE_OPTIONS', 'RESTAURANT#GENERAL'], ['AMBIENCE#GENERAL', 'FOOD#QUALITY', 'FOOD#STYLE_OPTIONS', 'RESTAURANT#GENERAL', 'SERVICE#GENERAL'], ['AMBIENCE#GENERAL', 'FOOD#QUALITY', 'FOOD#STYLE_OPTIONS', 'SERVICE#GENERAL'], ['RESTAURANT#GENERAL'], ['AMBIENCE#GENERAL', 'FOOD#QUALITY', 'FOOD#STYLE_OPTIONS', 'RESTAURANT#GENERAL', 'SERVICE#GENERAL'], ['FOOD#QUALITY', 'RESTAURANT#GENERAL'], ['RESTAURANT#GENERAL', 'SERVICE#GENERAL'], ['AMBIENCE#GENERAL', 'DRINKS#QUALITY', 'FOOD#QUALITY', 'FOOD#STYLE_OPTIONS', 'RESTAURANT#GENERAL', 'SERVICE#GENERAL'], ['AMBIENCE#GENERAL', 'FOOD#QUALITY', 'FOOD#STYLE_OPTIONS', 'RESTAURANT#GENERAL', 'SERVICE#GENERAL'], ['AMBIENCE#GENERAL', 'FOOD#QUALITY', 'FOOD#STYLE_OPTIONS', 'RESTAURANT#GENERAL', 'SERVICE#GENERAL'], ['FOOD#QUALITY', 'FOOD#STYLE_OPTIONS', 'SERVICE#GENERAL'], ['AMBIENCE#GENERAL', 'FOOD#QUALITY', 'FOOD#STYLE_OPTIONS', 'SERVICE#GENERAL'], ['FOOD#QUALITY', 'FOOD#STYLE_OPTIONS', 'RESTAURANT#GENERAL'], ['AMBIENCE#GENERAL', 'FOOD#QUALITY', 'FOOD#STYLE_OPTIONS', 'RESTAURANT#GENERAL', 'SERVICE#GENERAL'], ['DRINKS#QUALITY', 'FOOD#QUALITY', 'FOOD#STYLE_OPTIONS', 'RESTAURANT#GENERAL', 'SERVICE#GENERAL'], ['AMBIENCE#GENERAL', 'RESTAURANT#GENERAL', 'SERVICE#GENERAL'], ['AMBIENCE#GENERAL', 'FOOD#QUALITY', 'FOOD#STYLE_OPTIONS', 'RESTAURANT#GENERAL', 'SERVICE#GENERAL'], ['AMBIENCE#GENERAL', 'RESTAURANT#GENERAL', 'SERVICE#GENERAL'], ['RESTAURANT#GENERAL', 'SERVICE#GENERAL'], ['FOOD#QUALITY', 'FOOD#STYLE_OPTIONS', 'RESTAURANT#GENERAL', 'SERVICE#GENERAL'], ['FOOD#QUALITY', 'FOOD#STYLE_OPTIONS', 'SERVICE#GENERAL'], ['FOOD#QUALITY', 'FOOD#STYLE_OPTIONS', 'SERVICE#GENERAL'], ['FOOD#QUALITY', 'FOOD#STYLE_OPTIONS', 'SERVICE#GENERAL'], ['AMBIENCE#GENERAL', 'FOOD#QUALITY', 'RESTAURANT#GENERAL', 'SERVICE#GENERAL'], ['AMBIENCE#GENERAL', 'FOOD#QUALITY', 'RESTAURANT#GENERAL'], ['RESTAURANT#GENERAL', 'SERVICE#GENERAL'], ['AMBIENCE#GENERAL', 'RESTAURANT#GENERAL'], ['AMBIENCE#GENERAL', 'FOOD#QUALITY', 'RESTAURANT#GENERAL', 'SERVICE#GENERAL'], ['RESTAURANT#GENERAL'], ['AMBIENCE#GENERAL', 'FOOD#QUALITY', 'FOOD#STYLE_OPTIONS', 'RESTAURANT#GENERAL', 'SERVICE#GENERAL'], ['AMBIENCE#GENERAL', 'RESTAURANT#GENERAL'], ['RESTAURANT#GENERAL'], ['FOOD#QUALITY', 'RESTAURANT#GENERAL'], ['AMBIENCE#GENERAL', 'FOOD#QUALITY', 'FOOD#STYLE_OPTIONS', 'RESTAURANT#GENERAL', 'SERVICE#GENERAL'], ['AMBIENCE#GENERAL', 'FOOD#QUALITY', 'RESTAURANT#GENERAL', 'SERVICE#GENERAL'], ['AMBIENCE#GENERAL', 'RESTAURANT#GENERAL', 'SERVICE#GENERAL'], ['FOOD#QUALITY', 'FOOD#STYLE_OPTIONS', 'SERVICE#GENERAL'], ['FOOD#QUALITY', 'FOOD#STYLE_OPTIONS', 'RESTAURANT#GENERAL', 'SERVICE#GENERAL'], ['FOOD#QUALITY', 'FOOD#STYLE_OPTIONS', 'RESTAURANT#GENERAL', 'SERVICE#GENERAL'], ['AMBIENCE#GENERAL', 'FOOD#QUALITY', 'FOOD#STYLE_OPTIONS', 'SERVICE#GENERAL'], ['AMBIENCE#GENERAL', 'FOOD#QUALITY', 'FOOD#STYLE_OPTIONS', 'RESTAURANT#GENERAL', 'SERVICE#GENERAL'], ['AMBIENCE#GENERAL', 'FOOD#QUALITY', 'FOOD#STYLE_OPTIONS', 'SERVICE#GENERAL'], ['RESTAURANT#GENERAL'], ['FOOD#QUALITY', 'FOOD#STYLE_OPTIONS', 'RESTAURANT#GENERAL', 'SERVICE#GENERAL'], ['FOOD#QUALITY', 'FOOD#STYLE_OPTIONS', 'RESTAURANT#GENERAL'], ['RESTAURANT#GENERAL', 'SERVICE#GENERAL'], ['FOOD#QUALITY', 'RESTAURANT#GENERAL'], ['AMBIENCE#GENERAL', 'RESTAURANT#GENERAL', 'SERVICE#GENERAL'], ['AMBIENCE#GENERAL', 'FOOD#QUALITY', 'FOOD#STYLE_OPTIONS', 'RESTAURANT#GENERAL', 'SERVICE#GENERAL'], ['AMBIENCE#GENERAL', 'RESTAURANT#GENERAL', 'SERVICE#GENERAL'], ['FOOD#QUALITY', 'FOOD#STYLE_OPTIONS', 'RESTAURANT#GENERAL'], ['FOOD#QUALITY', 'FOOD#STYLE_OPTIONS', 'SERVICE#GENERAL'], ['AMBIENCE#GENERAL', 'RESTAURANT#GENERAL', 'SERVICE#GENERAL'], ['AMBIENCE#GENERAL', 'FOOD#QUALITY', 'RESTAURANT#GENERAL', 'SERVICE#GENERAL'], ['AMBIENCE#GENERAL', 'FOOD#QUALITY', 'FOOD#STYLE_OPTIONS', 'RESTAURANT#GENERAL', 'SERVICE#GENERAL'], ['AMBIENCE#GENERAL', 'FOOD#QUALITY', 'FOOD#STYLE_OPTIONS', 'RESTAURANT#GENERAL', 'SERVICE#GENERAL'], ['AMBIENCE#GENERAL', 'FOOD#QUALITY', 'FOOD#STYLE_OPTIONS', 'RESTAURANT#GENERAL', 'SERVICE#GENERAL'], ['FOOD#QUALITY', 'RESTAURANT#GENERAL', 'SERVICE#GENERAL'], ['AMBIENCE#GENERAL', 'FOOD#QUALITY', 'RESTAURANT#GENERAL'], ['FOOD#QUALITY', 'FOOD#STYLE_OPTIONS', 'SERVICE#GENERAL'], ['FOOD#QUALITY', 'FOOD#STYLE_OPTIONS', 'SERVICE#GENERAL'], ['AMBIENCE#GENERAL', 'FOOD#QUALITY', 'FOOD#STYLE_OPTIONS', 'RESTAURANT#GENERAL', 'SERVICE#GENERAL'], ['FOOD#QUALITY', 'FOOD#STYLE_OPTIONS', 'RESTAURANT#GENERAL', 'SERVICE#GENERAL'], ['AMBIENCE#GENERAL', 'FOOD#QUALITY', 'FOOD#STYLE_OPTIONS', 'RESTAURANT#GENERAL', 'SERVICE#GENERAL'], ['FOOD#QUALITY', 'FOOD#STYLE_OPTIONS', 'SERVICE#GENERAL'], ['AMBIENCE#GENERAL', 'RESTAURANT#GENERAL'], ['AMBIENCE#GENERAL', 'FOOD#QUALITY', 'RESTAURANT#GENERAL'], ['AMBIENCE#GENERAL', 'RESTAURANT#GENERAL'], ['FOOD#QUALITY', 'RESTAURANT#GENERAL', 'SERVICE#GENERAL'], ['FOOD#QUALITY', 'RESTAURANT#GENERAL'], ['AMBIENCE#GENERAL', 'FOOD#QUALITY', 'FOOD#STYLE_OPTIONS', 'SERVICE#GENERAL'], ['FOOD#QUALITY', 'RESTAURANT#GENERAL', 'SERVICE#GENERAL'], ['AMBIENCE#GENERAL', 'FOOD#QUALITY', 'FOOD#STYLE_OPTIONS', 'RESTAURANT#GENERAL'], ['FOOD#QUALITY', 'RESTAURANT#GENERAL', 'SERVICE#GENERAL'], ['FOOD#QUALITY', 'FOOD#STYLE_OPTIONS', 'RESTAURANT#GENERAL', 'SERVICE#GENERAL'], ['FOOD#QUALITY', 'FOOD#STYLE_OPTIONS', 'RESTAURANT#GENERAL', 'SERVICE#GENERAL'], ['AMBIENCE#GENERAL', 'FOOD#QUALITY', 'FOOD#STYLE_OPTIONS', 'RESTAURANT#GENERAL'], ['FOOD#QUALITY', 'RESTAURANT#GENERAL', 'SERVICE#GENERAL'], ['AMBIENCE#GENERAL', 'FOOD#QUALITY', 'RESTAURANT#GENERAL'], ['RESTAURANT#GENERAL'], ['AMBIENCE#GENERAL', 'FOOD#QUALITY', 'FOOD#STYLE_OPTIONS', 'RESTAURANT#GENERAL', 'SERVICE#GENERAL'], ['AMBIENCE#GENERAL', 'FOOD#QUALITY', 'FOOD#STYLE_OPTIONS', 'SERVICE#GENERAL'], ['AMBIENCE#GENERAL', 'FOOD#QUALITY', 'RESTAURANT#GENERAL', 'SERVICE#GENERAL'], ['FOOD#QUALITY', 'FOOD#STYLE_OPTIONS', 'SERVICE#GENERAL'], ['FOOD#QUALITY', 'FOOD#STYLE_OPTIONS', 'SERVICE#GENERAL'], ['FOOD#QUALITY', 'FOOD#STYLE_OPTIONS', 'SERVICE#GENERAL'], ['FOOD#QUALITY', 'RESTAURANT#GENERAL'], ['FOOD#QUALITY'], ['FOOD#STYLE_OPTIONS', 'RESTAURANT#GENERAL', 'SERVICE#GENERAL'], ['AMBIENCE#GENERAL', 'FOOD#QUALITY', 'FOOD#STYLE_OPTIONS', 'RESTAURANT#GENERAL', 'SERVICE#GENERAL'], ['RESTAURANT#GENERAL', 'SERVICE#GENERAL'], ['FOOD#QUALITY', 'RESTAURANT#GENERAL'], ['AMBIENCE#GENERAL', 'FOOD#STYLE_OPTIONS', 'SERVICE#GENERAL'], ['AMBIENCE#GENERAL', 'RESTAURANT#GENERAL', 'SERVICE#GENERAL'], ['FOOD#QUALITY', 'FOOD#STYLE_OPTIONS', 'SERVICE#GENERAL'], ['FOOD#QUALITY', 'FOOD#STYLE_OPTIONS', 'SERVICE#GENERAL'], ['FOOD#QUALITY', 'FOOD#STYLE_OPTIONS', 'RESTAURANT#GENERAL', 'SERVICE#GENERAL'], ['AMBIENCE#GENERAL', 'RESTAURANT#GENERAL'], ['FOOD#QUALITY'], ['AMBIENCE#GENERAL', 'RESTAURANT#GENERAL', 'SERVICE#GENERAL'], ['AMBIENCE#GENERAL', 'RESTAURANT#GENERAL', 'SERVICE#GENERAL'], ['AMBIENCE#GENERAL', 'FOOD#QUALITY', 'FOOD#STYLE_OPTIONS', 'SERVICE#GENERAL'], ['RESTAURANT#GENERAL', 'SERVICE#GENERAL'], ['FOOD#QUALITY', 'FOOD#STYLE_OPTIONS', 'SERVICE#GENERAL'], ['AMBIENCE#GENERAL', 'FOOD#QUALITY', 'RESTAURANT#GENERAL', 'SERVICE#GENERAL'], ['FOOD#QUALITY', 'FOOD#STYLE_OPTIONS', 'SERVICE#GENERAL'], ['AMBIENCE#GENERAL', 'FOOD#QUALITY', 'FOOD#STYLE_OPTIONS', 'RESTAURANT#GENERAL', 'SERVICE#GENERAL'], ['FOOD#QUALITY', 'FOOD#STYLE_OPTIONS', 'RESTAURANT#GENERAL', 'SERVICE#GENERAL'], ['FOOD#QUALITY', 'FOOD#STYLE_OPTIONS', 'RESTAURANT#GENERAL'], ['FOOD#QUALITY', 'FOOD#STYLE_OPTIONS', 'SERVICE#GENERAL'], ['FOOD#QUALITY', 'RESTAURANT#GENERAL'], ['FOOD#QUALITY', 'FOOD#STYLE_OPTIONS', 'RESTAURANT#GENERAL', 'SERVICE#GENERAL'], ['AMBIENCE#GENERAL', 'FOOD#QUALITY', 'RESTAURANT#GENERAL'], ['FOOD#QUALITY', 'FOOD#STYLE_OPTIONS', 'RESTAURANT#GENERAL', 'SERVICE#GENERAL'], ['AMBIENCE#GENERAL', 'FOOD#QUALITY', 'RESTAURANT#GENERAL', 'SERVICE#GENERAL'], ['AMBIENCE#GENERAL', 'RESTAURANT#GENERAL', 'SERVICE#GENERAL'], ['FOOD#QUALITY', 'FOOD#STYLE_OPTIONS', 'SERVICE#GENERAL'], ['FOOD#QUALITY', 'FOOD#STYLE_OPTIONS', 'RESTAURANT#GENERAL', 'SERVICE#GENERAL'], ['AMBIENCE#GENERAL', 'FOOD#QUALITY', 'RESTAURANT#GENERAL', 'SERVICE#GENERAL'], ['FOOD#QUALITY', 'FOOD#STYLE_OPTIONS'], ['AMBIENCE#GENERAL', 'FOOD#QUALITY', 'FOOD#STYLE_OPTIONS', 'RESTAURANT#GENERAL'], ['RESTAURANT#GENERAL'], ['AMBIENCE#GENERAL', 'FOOD#QUALITY', 'FOOD#STYLE_OPTIONS', 'RESTAURANT#GENERAL', 'SERVICE#GENERAL'], ['AMBIENCE#GENERAL', 'FOOD#QUALITY', 'FOOD#STYLE_OPTIONS', 'RESTAURANT#GENERAL', 'SERVICE#GENERAL'], ['AMBIENCE#GENERAL', 'FOOD#QUALITY', 'RESTAURANT#GENERAL'], ['RESTAURANT#GENERAL'], ['AMBIENCE#GENERAL', 'FOOD#QUALITY', 'FOOD#STYLE_OPTIONS', 'RESTAURANT#GENERAL', 'SERVICE#GENERAL'], ['AMBIENCE#GENERAL', 'FOOD#QUALITY', 'RESTAURANT#GENERAL', 'SERVICE#GENERAL'], ['AMBIENCE#GENERAL', 'FOOD#QUALITY', 'FOOD#STYLE_OPTIONS', 'RESTAURANT#GENERAL', 'SERVICE#GENERAL'], ['AMBIENCE#GENERAL', 'FOOD#QUALITY', 'RESTAURANT#GENERAL', 'SERVICE#GENERAL'], ['RESTAURANT#GENERAL', 'SERVICE#GENERAL'], ['FOOD#QUALITY', 'FOOD#STYLE_OPTIONS', 'SERVICE#GENERAL'], ['RESTAURANT#GENERAL', 'SERVICE#GENERAL'], ['FOOD#QUALITY', 'FOOD#STYLE_OPTIONS', 'RESTAURANT#GENERAL', 'SERVICE#GENERAL'], ['RESTAURANT#GENERAL', 'SERVICE#GENERAL'], ['FOOD#QUALITY', 'FOOD#STYLE_OPTIONS', 'RESTAURANT#GENERAL'], ['AMBIENCE#GENERAL', 'RESTAURANT#GENERAL'], ['AMBIENCE#GENERAL', 'FOOD#QUALITY', 'SERVICE#GENERAL'], ['FOOD#QUALITY', 'FOOD#STYLE_OPTIONS', 'RESTAURANT#GENERAL', 'SERVICE#GENERAL'], ['SERVICE#GENERAL'], ['AMBIENCE#GENERAL', 'FOOD#QUALITY', 'FOOD#STYLE_OPTIONS', 'SERVICE#GENERAL'], ['FOOD#QUALITY', 'FOOD#STYLE_OPTIONS', 'SERVICE#GENERAL'], ['SERVICE#GENERAL'], ['AMBIENCE#GENERAL', 'FOOD#QUALITY', 'FOOD#STYLE_OPTIONS', 'SERVICE#GENERAL'], ['FOOD#QUALITY', 'FOOD#STYLE_OPTIONS', 'SERVICE#GENERAL'], ['FOOD#QUALITY', 'FOOD#STYLE_OPTIONS', 'SERVICE#GENERAL'], ['FOOD#QUALITY', 'FOOD#STYLE_OPTIONS', 'RESTAURANT#GENERAL', 'SERVICE#GENERAL'], ['RESTAURANT#GENERAL', 'SERVICE#GENERAL'], ['AMBIENCE#GENERAL', 'RESTAURANT#GENERAL', 'SERVICE#GENERAL'], ['SERVICE#GENERAL'], ['AMBIENCE#GENERAL', 'FOOD#QUALITY', 'RESTAURANT#GENERAL'], ['FOOD#QUALITY', 'RESTAURANT#GENERAL', 'SERVICE#GENERAL'], ['FOOD#QUALITY', 'FOOD#STYLE_OPTIONS', 'SERVICE#GENERAL'], ['AMBIENCE#GENERAL', 'FOOD#QUALITY', 'FOOD#STYLE_OPTIONS', 'RESTAURANT#GENERAL'], ['FOOD#QUALITY', 'FOOD#STYLE_OPTIONS', 'SERVICE#GENERAL'], ['FOOD#QUALITY', 'FOOD#STYLE_OPTIONS', 'SERVICE#GENERAL'], ['FOOD#QUALITY', 'FOOD#STYLE_OPTIONS', 'RESTAURANT#GENERAL', 'SERVICE#GENERAL'], ['FOOD#QUALITY', 'FOOD#STYLE_OPTIONS', 'RESTAURANT#GENERAL', 'SERVICE#GENERAL'], ['FOOD#QUALITY', 'FOOD#STYLE_OPTIONS', 'RESTAURANT#GENERAL', 'SERVICE#GENERAL'], ['AMBIENCE#GENERAL', 'FOOD#QUALITY', 'FOOD#STYLE_OPTIONS', 'SERVICE#GENERAL'], ['AMBIENCE#GENERAL', 'FOOD#QUALITY', 'FOOD#STYLE_OPTIONS', 'RESTAURANT#GENERAL', 'SERVICE#GENERAL'], ['AMBIENCE#GENERAL', 'FOOD#QUALITY', 'RESTAURANT#GENERAL', 'SERVICE#GENERAL'], ['FOOD#QUALITY', 'FOOD#STYLE_OPTIONS'], ['RESTAURANT#GENERAL'], ['AMBIENCE#GENERAL', 'FOOD#QUALITY', 'RESTAURANT#GENERAL'], ['AMBIENCE#GENERAL', 'FOOD#QUALITY', 'FOOD#STYLE_OPTIONS', 'SERVICE#GENERAL'], ['AMBIENCE#GENERAL', 'FOOD#QUALITY', 'FOOD#STYLE_OPTIONS', 'RESTAURANT#GENERAL', 'SERVICE#GENERAL'], ['RESTAURANT#GENERAL'], ['AMBIENCE#GENERAL', 'FOOD#QUALITY', 'FOOD#STYLE_OPTIONS', 'SERVICE#GENERAL'], ['AMBIENCE#GENERAL', 'RESTAURANT#GENERAL', 'SERVICE#GENERAL'], ['AMBIENCE#GENERAL', 'FOOD#QUALITY', 'FOOD#STYLE_OPTIONS', 'RESTAURANT#GENERAL', 'SERVICE#GENERAL'], ['FOOD#QUALITY', 'FOOD#STYLE_OPTIONS', 'SERVICE#GENERAL'], ['AMBIENCE#GENERAL', 'FOOD#QUALITY', 'FOOD#STYLE_OPTIONS', 'SERVICE#GENERAL'], ['AMBIENCE#GENERAL', 'FOOD#QUALITY', 'FOOD#STYLE_OPTIONS', 'RESTAURANT#GENERAL', 'SERVICE#GENERAL'], ['FOOD#QUALITY', 'FOOD#STYLE_OPTIONS', 'SERVICE#GENERAL'], ['AMBIENCE#GENERAL', 'FOOD#QUALITY', 'FOOD#STYLE_OPTIONS', 'RESTAURANT#GENERAL', 'SERVICE#GENERAL'], ['FOOD#QUALITY', 'FOOD#STYLE_OPTIONS', 'RESTAURANT#GENERAL'], ['FOOD#QUALITY', 'RESTAURANT#GENERAL', 'SERVICE#GENERAL'], ['AMBIENCE#GENERAL', 'FOOD#QUALITY', 'FOOD#STYLE_OPTIONS', 'RESTAURANT#GENERAL', 'SERVICE#GENERAL'], ['AMBIENCE#GENERAL', 'FOOD#QUALITY', 'FOOD#STYLE_OPTIONS', 'RESTAURANT#GENERAL', 'SERVICE#GENERAL'], ['AMBIENCE#GENERAL', 'FOOD#QUALITY', 'RESTAURANT#GENERAL'], ['RESTAURANT#GENERAL', 'SERVICE#GENERAL'], ['FOOD#QUALITY', 'FOOD#STYLE_OPTIONS', 'RESTAURANT#GENERAL', 'SERVICE#GENERAL'], ['FOOD#QUALITY', 'FOOD#STYLE_OPTIONS', 'RESTAURANT#GENERAL', 'SERVICE#GENERAL'], ['RESTAURANT#GENERAL', 'SERVICE#GENERAL'], ['AMBIENCE#GENERAL', 'RESTAURANT#GENERAL', 'SERVICE#GENERAL'], ['AMBIENCE#GENERAL', 'RESTAURANT#GENERAL'], ['AMBIENCE#GENERAL', 'FOOD#QUALITY', 'FOOD#STYLE_OPTIONS', 'RESTAURANT#GENERAL', 'SERVICE#GENERAL'], ['RESTAURANT#GENERAL'], ['AMBIENCE#GENERAL', 'FOOD#STYLE_OPTIONS', 'RESTAURANT#GENERAL', 'SERVICE#GENERAL'], ['FOOD#QUALITY', 'FOOD#STYLE_OPTIONS', 'RESTAURANT#GENERAL', 'SERVICE#GENERAL'], ['FOOD#QUALITY', 'RESTAURANT#GENERAL', 'SERVICE#GENERAL'], ['AMBIENCE#GENERAL', 'FOOD#QUALITY', 'FOOD#STYLE_OPTIONS', 'SERVICE#GENERAL'], ['FOOD#QUALITY', 'RESTAURANT#GENERAL'], ['RESTAURANT#GENERAL'], ['AMBIENCE#GENERAL', 'FOOD#QUALITY', 'RESTAURANT#GENERAL'], ['FOOD#QUALITY', 'RESTAURANT#GENERAL', 'SERVICE#GENERAL'], ['AMBIENCE#GENERAL', 'FOOD#QUALITY', 'FOOD#STYLE_OPTIONS', 'RESTAURANT#GENERAL', 'SERVICE#GENERAL'], ['RESTAURANT#GENERAL'], ['RESTAURANT#GENERAL', 'SERVICE#GENERAL'], ['RESTAURANT#GENERAL', 'SERVICE#GENERAL'], ['FOOD#QUALITY', 'FOOD#STYLE_OPTIONS', 'SERVICE#GENERAL'], ['AMBIENCE#GENERAL', 'FOOD#QUALITY', 'FOOD#STYLE_OPTIONS', 'RESTAURANT#GENERAL', 'SERVICE#GENERAL'], ['AMBIENCE#GENERAL', 'FOOD#QUALITY', 'FOOD#STYLE_OPTIONS', 'RESTAURANT#GENERAL', 'SERVICE#GENERAL'], ['FOOD#QUALITY', 'FOOD#STYLE_OPTIONS', 'SERVICE#GENERAL'], ['AMBIENCE#GENERAL', 'FOOD#QUALITY', 'SERVICE#GENERAL'], ['AMBIENCE#GENERAL', 'RESTAURANT#GENERAL', 'SERVICE#GENERAL'], ['AMBIENCE#GENERAL', 'FOOD#QUALITY', 'RESTAURANT#GENERAL', 'SERVICE#GENERAL'], ['AMBIENCE#GENERAL', 'FOOD#QUALITY', 'FOOD#STYLE_OPTIONS', 'RESTAURANT#GENERAL', 'SERVICE#GENERAL'], ['FOOD#QUALITY', 'FOOD#STYLE_OPTIONS', 'RESTAURANT#GENERAL', 'SERVICE#GENERAL'], ['FOOD#QUALITY', 'FOOD#STYLE_OPTIONS', 'SERVICE#GENERAL'], ['FOOD#QUALITY', 'FOOD#STYLE_OPTIONS', 'RESTAURANT#GENERAL'], ['AMBIENCE#GENERAL', 'RESTAURANT#GENERAL', 'SERVICE#GENERAL'], ['RESTAURANT#GENERAL'], ['AMBIENCE#GENERAL', 'FOOD#QUALITY', 'RESTAURANT#GENERAL', 'SERVICE#GENERAL'], ['AMBIENCE#GENERAL', 'FOOD#QUALITY', 'FOOD#STYLE_OPTIONS', 'RESTAURANT#GENERAL', 'SERVICE#GENERAL'], ['AMBIENCE#GENERAL', 'FOOD#QUALITY', 'RESTAURANT#GENERAL', 'SERVICE#GENERAL'], ['AMBIENCE#GENERAL', 'FOOD#QUALITY', 'FOOD#STYLE_OPTIONS', 'SERVICE#GENERAL'], ['RESTAURANT#GENERAL'], ['RESTAURANT#GENERAL', 'SERVICE#GENERAL'], ['FOOD#QUALITY', 'FOOD#STYLE_OPTIONS', 'SERVICE#GENERAL'], ['SERVICE#GENERAL'], ['AMBIENCE#GENERAL', 'FOOD#QUALITY', 'FOOD#STYLE_OPTIONS', 'RESTAURANT#GENERAL', 'SERVICE#GENERAL'], ['SERVICE#GENERAL'], ['FOOD#QUALITY', 'FOOD#STYLE_OPTIONS', 'SERVICE#GENERAL'], ['AMBIENCE#GENERAL', 'FOOD#QUALITY', 'FOOD#STYLE_OPTIONS', 'RESTAURANT#GENERAL', 'SERVICE#GENERAL'], ['AMBIENCE#GENERAL', 'FOOD#QUALITY', 'FOOD#STYLE_OPTIONS', 'RESTAURANT#GENERAL', 'SERVICE#GENERAL'], ['RESTAURANT#GENERAL'], ['FOOD#QUALITY', 'FOOD#STYLE_OPTIONS', 'RESTAURANT#GENERAL', 'SERVICE#GENERAL'], ['AMBIENCE#GENERAL', 'FOOD#QUALITY', 'FOOD#STYLE_OPTIONS', 'RESTAURANT#GENERAL', 'SERVICE#GENERAL'], ['FOOD#QUALITY', 'FOOD#STYLE_OPTIONS', 'RESTAURANT#GENERAL', 'SERVICE#GENERAL'], ['AMBIENCE#GENERAL', 'FOOD#QUALITY', 'FOOD#STYLE_OPTIONS', 'SERVICE#GENERAL'], ['RESTAURANT#GENERAL', 'SERVICE#GENERAL'], ['FOOD#QUALITY', 'FOOD#STYLE_OPTIONS', 'RESTAURANT#GENERAL', 'SERVICE#GENERAL'], ['AMBIENCE#GENERAL', 'FOOD#QUALITY', 'FOOD#STYLE_OPTIONS', 'SERVICE#GENERAL'], ['AMBIENCE#GENERAL', 'FOOD#QUALITY', 'RESTAURANT#GENERAL'], ['AMBIENCE#GENERAL', 'RESTAURANT#GENERAL'], ['FOOD#STYLE_OPTIONS', 'RESTAURANT#GENERAL', 'SERVICE#GENERAL'], ['AMBIENCE#GENERAL', 'FOOD#QUALITY', 'FOOD#STYLE_OPTIONS', 'SERVICE#GENERAL'], ['FOOD#QUALITY', 'FOOD#STYLE_OPTIONS', 'SERVICE#GENERAL'], ['AMBIENCE#GENERAL', 'RESTAURANT#GENERAL'], ['SERVICE#GENERAL'], ['AMBIENCE#GENERAL', 'FOOD#STYLE_OPTIONS', 'RESTAURANT#GENERAL', 'SERVICE#GENERAL'], ['FOOD#STYLE_OPTIONS', 'SERVICE#GENERAL'], ['SERVICE#GENERAL'], ['FOOD#STYLE_OPTIONS', 'SERVICE#GENERAL'], ['FOOD#STYLE_OPTIONS', 'SERVICE#GENERAL'], ['RESTAURANT#GENERAL', 'SERVICE#GENERAL'], ['RESTAURANT#GENERAL', 'SERVICE#GENERAL'], ['FOOD#QUALITY', 'FOOD#STYLE_OPTIONS', 'RESTAURANT#GENERAL', 'SERVICE#GENERAL'], ['FOOD#QUALITY', 'RESTAURANT#GENERAL', 'SERVICE#GENERAL'], ['FOOD#QUALITY', 'FOOD#STYLE_OPTIONS', 'SERVICE#GENERAL'], ['RESTAURANT#GENERAL', 'SERVICE#GENERAL'], ['AMBIENCE#GENERAL', 'RESTAURANT#GENERAL'], ['AMBIENCE#GENERAL', 'FOOD#QUALITY', 'RESTAURANT#GENERAL'], ['AMBIENCE#GENERAL', 'RESTAURANT#GENERAL', 'SERVICE#GENERAL'], ['AMBIENCE#GENERAL', 'RESTAURANT#GENERAL'], ['DRINKS#QUALITY', 'FOOD#QUALITY', 'FOOD#STYLE_OPTIONS', 'RESTAURANT#GENERAL'], ['FOOD#STYLE_OPTIONS', 'SERVICE#GENERAL'], ['FOOD#QUALITY', 'FOOD#STYLE_OPTIONS'], ['AMBIENCE#GENERAL', 'FOOD#QUALITY', 'RESTAURANT#GENERAL'], ['AMBIENCE#GENERAL', 'FOOD#QUALITY', 'FOOD#STYLE_OPTIONS', 'RESTAURANT#GENERAL', 'SERVICE#GENERAL'], ['FOOD#QUALITY', 'FOOD#STYLE_OPTIONS', 'RESTAURANT#GENERAL', 'SERVICE#GENERAL'], ['AMBIENCE#GENERAL', 'FOOD#STYLE_OPTIONS', 'SERVICE#GENERAL'], ['AMBIENCE#GENERAL', 'FOOD#QUALITY', 'RESTAURANT#GENERAL'], ['AMBIENCE#GENERAL', 'RESTAURANT#GENERAL'], ['RESTAURANT#GENERAL'], ['FOOD#QUALITY', 'RESTAURANT#GENERAL', 'SERVICE#GENERAL'], [], ['RESTAURANT#GENERAL', 'SERVICE#GENERAL'], ['AMBIENCE#GENERAL', 'FOOD#QUALITY', 'FOOD#STYLE_OPTIONS', 'SERVICE#GENERAL'], ['FOOD#QUALITY', 'FOOD#STYLE_OPTIONS', 'RESTAURANT#GENERAL'], ['FOOD#QUALITY', 'FOOD#STYLE_OPTIONS', 'SERVICE#GENERAL'], ['FOOD#QUALITY', 'RESTAURANT#GENERAL', 'SERVICE#GENERAL'], ['RESTAURANT#GENERAL'], ['AMBIENCE#GENERAL', 'FOOD#QUALITY', 'RESTAURANT#GENERAL'], ['FOOD#QUALITY', 'FOOD#STYLE_OPTIONS', 'SERVICE#GENERAL'], ['AMBIENCE#GENERAL', 'FOOD#QUALITY', 'RESTAURANT#GENERAL'], ['AMBIENCE#GENERAL', 'RESTAURANT#GENERAL'], ['AMBIENCE#GENERAL', 'RESTAURANT#GENERAL'], ['RESTAURANT#GENERAL', 'SERVICE#GENERAL'], ['AMBIENCE#GENERAL', 'RESTAURANT#GENERAL', 'SERVICE#GENERAL'], ['FOOD#STYLE_OPTIONS', 'SERVICE#GENERAL'], ['RESTAURANT#GENERAL', 'SERVICE#GENERAL'], ['AMBIENCE#GENERAL', 'FOOD#QUALITY', 'FOOD#STYLE_OPTIONS', 'RESTAURANT#GENERAL', 'SERVICE#GENERAL'], ['AMBIENCE#GENERAL', 'FOOD#QUALITY', 'FOOD#STYLE_OPTIONS', 'SERVICE#GENERAL'], ['AMBIENCE#GENERAL', 'FOOD#QUALITY', 'FOOD#STYLE_OPTIONS', 'SERVICE#GENERAL'], ['FOOD#QUALITY', 'RESTAURANT#GENERAL', 'SERVICE#GENERAL'], ['AMBIENCE#GENERAL', 'FOOD#QUALITY', 'FOOD#STYLE_OPTIONS', 'RESTAURANT#GENERAL', 'SERVICE#GENERAL'], ['AMBIENCE#GENERAL', 'RESTAURANT#GENERAL'], ['AMBIENCE#GENERAL', 'FOOD#QUALITY', 'FOOD#STYLE_OPTIONS', 'RESTAURANT#GENERAL', 'SERVICE#GENERAL'], ['FOOD#STYLE_OPTIONS', 'RESTAURANT#GENERAL', 'SERVICE#GENERAL'], ['AMBIENCE#GENERAL', 'FOOD#QUALITY', 'RESTAURANT#GENERAL', 'SERVICE#GENERAL'], ['AMBIENCE#GENERAL', 'FOOD#QUALITY', 'FOOD#STYLE_OPTIONS', 'RESTAURANT#GENERAL', 'SERVICE#GENERAL'], ['RESTAURANT#GENERAL', 'SERVICE#GENERAL'], ['AMBIENCE#GENERAL', 'FOOD#QUALITY', 'FOOD#STYLE_OPTIONS', 'SERVICE#GENERAL'], ['RESTAURANT#GENERAL', 'SERVICE#GENERAL'], ['AMBIENCE#GENERAL', 'FOOD#QUALITY', 'RESTAURANT#GENERAL'], ['AMBIENCE#GENERAL', 'FOOD#STYLE_OPTIONS', 'RESTAURANT#GENERAL', 'SERVICE#GENERAL'], ['RESTAURANT#GENERAL', 'SERVICE#GENERAL'], ['AMBIENCE#GENERAL', 'FOOD#STYLE_OPTIONS', 'RESTAURANT#GENERAL', 'SERVICE#GENERAL'], ['FOOD#QUALITY', 'RESTAURANT#GENERAL'], ['AMBIENCE#GENERAL', 'RESTAURANT#GENERAL'], ['AMBIENCE#GENERAL', 'FOOD#QUALITY', 'FOOD#STYLE_OPTIONS', 'SERVICE#GENERAL'], ['AMBIENCE#GENERAL', 'FOOD#QUALITY', 'FOOD#STYLE_OPTIONS', 'RESTAURANT#GENERAL', 'SERVICE#GENERAL'], ['AMBIENCE#GENERAL', 'FOOD#QUALITY', 'FOOD#STYLE_OPTIONS', 'SERVICE#GENERAL'], ['AMBIENCE#GENERAL', 'FOOD#QUALITY', 'RESTAURANT#GENERAL'], ['FOOD#STYLE_OPTIONS', 'RESTAURANT#GENERAL', 'SERVICE#GENERAL'], ['AMBIENCE#GENERAL', 'FOOD#QUALITY', 'FOOD#STYLE_OPTIONS', 'SERVICE#GENERAL'], ['FOOD#QUALITY', 'FOOD#STYLE_OPTIONS', 'RESTAURANT#GENERAL'], ['FOOD#QUALITY', 'RESTAURANT#GENERAL', 'SERVICE#GENERAL'], ['AMBIENCE#GENERAL', 'FOOD#QUALITY', 'FOOD#STYLE_OPTIONS', 'RESTAURANT#GENERAL', 'SERVICE#GENERAL'], ['RESTAURANT#GENERAL'], ['AMBIENCE#GENERAL', 'RESTAURANT#GENERAL', 'SERVICE#GENERAL'], ['AMBIENCE#GENERAL', 'FOOD#QUALITY', 'RESTAURANT#GENERAL', 'SERVICE#GENERAL'], ['AMBIENCE#GENERAL', 'FOOD#QUALITY', 'FOOD#STYLE_OPTIONS', 'RESTAURANT#GENERAL', 'SERVICE#GENERAL'], ['RESTAURANT#GENERAL', 'SERVICE#GENERAL'], ['AMBIENCE#GENERAL', 'FOOD#QUALITY', 'FOOD#STYLE_OPTIONS', 'RESTAURANT#GENERAL', 'SERVICE#GENERAL'], ['AMBIENCE#GENERAL', 'RESTAURANT#GENERAL', 'SERVICE#GENERAL'], ['FOOD#QUALITY', 'FOOD#STYLE_OPTIONS', 'RESTAURANT#GENERAL', 'SERVICE#GENERAL'], ['FOOD#QUALITY', 'FOOD#STYLE_OPTIONS', 'SERVICE#GENERAL'], ['FOOD#STYLE_OPTIONS', 'SERVICE#GENERAL'], ['AMBIENCE#GENERAL', 'FOOD#QUALITY', 'RESTAURANT#GENERAL', 'SERVICE#GENERAL'], ['FOOD#QUALITY', 'RESTAURANT#GENERAL'], ['AMBIENCE#GENERAL', 'FOOD#QUALITY', 'FOOD#STYLE_OPTIONS', 'RESTAURANT#GENERAL', 'SERVICE#GENERAL'], ['RESTAURANT#GENERAL'], ['FOOD#STYLE_OPTIONS', 'RESTAURANT#GENERAL', 'SERVICE#GENERAL'], ['RESTAURANT#GENERAL', 'SERVICE#GENERAL'], ['RESTAURANT#GENERAL', 'SERVICE#GENERAL'], ['FOOD#QUALITY', 'RESTAURANT#GENERAL', 'SERVICE#GENERAL'], ['RESTAURANT#GENERAL', 'SERVICE#GENERAL'], ['AMBIENCE#GENERAL', 'RESTAURANT#GENERAL'], ['RESTAURANT#GENERAL', 'SERVICE#GENERAL'], ['AMBIENCE#GENERAL', 'FOOD#QUALITY', 'SERVICE#GENERAL'], ['AMBIENCE#GENERAL', 'FOOD#QUALITY', 'RESTAURANT#GENERAL', 'SERVICE#GENERAL'], ['RESTAURANT#GENERAL'], ['AMBIENCE#GENERAL', 'FOOD#QUALITY', 'FOOD#STYLE_OPTIONS', 'RESTAURANT#GENERAL', 'SERVICE#GENERAL'], ['FOOD#QUALITY', 'SERVICE#GENERAL'], ['AMBIENCE#GENERAL', 'FOOD#QUALITY', 'FOOD#STYLE_OPTIONS', 'SERVICE#GENERAL'], ['AMBIENCE#GENERAL', 'FOOD#QUALITY', 'FOOD#STYLE_OPTIONS', 'SERVICE#GENERAL'], ['RESTAURANT#GENERAL', 'SERVICE#GENERAL'], ['FOOD#QUALITY', 'RESTAURANT#GENERAL', 'SERVICE#GENERAL'], ['AMBIENCE#GENERAL', 'FOOD#QUALITY', 'FOOD#STYLE_OPTIONS', 'SERVICE#GENERAL'], ['AMBIENCE#GENERAL', 'FOOD#QUALITY', 'RESTAURANT#GENERAL'], ['AMBIENCE#GENERAL', 'FOOD#QUALITY', 'RESTAURANT#GENERAL'], ['RESTAURANT#GENERAL'], ['AMBIENCE#GENERAL', 'RESTAURANT#GENERAL', 'SERVICE#GENERAL'], ['RESTAURANT#GENERAL', 'SERVICE#GENERAL'], ['RESTAURANT#GENERAL', 'SERVICE#GENERAL'], ['AMBIENCE#GENERAL', 'FOOD#QUALITY', 'FOOD#STYLE_OPTIONS', 'SERVICE#GENERAL'], ['AMBIENCE#GENERAL', 'FOOD#QUALITY', 'FOOD#STYLE_OPTIONS', 'RESTAURANT#GENERAL', 'SERVICE#GENERAL'], ['AMBIENCE#GENERAL', 'RESTAURANT#GENERAL', 'SERVICE#GENERAL'], ['AMBIENCE#GENERAL', 'FOOD#QUALITY', 'FOOD#STYLE_OPTIONS', 'RESTAURANT#GENERAL', 'SERVICE#GENERAL'], ['DRINKS#QUALITY', 'FOOD#QUALITY', 'FOOD#STYLE_OPTIONS', 'SERVICE#GENERAL'], ['FOOD#QUALITY', 'FOOD#STYLE_OPTIONS', 'SERVICE#GENERAL'], ['FOOD#QUALITY', 'FOOD#STYLE_OPTIONS', 'SERVICE#GENERAL'], ['AMBIENCE#GENERAL', 'RESTAURANT#GENERAL', 'SERVICE#GENERAL'], ['RESTAURANT#GENERAL', 'SERVICE#GENERAL'], ['FOOD#QUALITY', 'FOOD#STYLE_OPTIONS', 'RESTAURANT#GENERAL', 'SERVICE#GENERAL'], ['AMBIENCE#GENERAL', 'FOOD#QUALITY', 'RESTAURANT#GENERAL'], ['FOOD#QUALITY', 'FOOD#STYLE_OPTIONS', 'RESTAURANT#GENERAL'], ['AMBIENCE#GENERAL', 'FOOD#QUALITY', 'FOOD#STYLE_OPTIONS', 'RESTAURANT#GENERAL'], ['AMBIENCE#GENERAL', 'RESTAURANT#GENERAL'], ['AMBIENCE#GENERAL', 'FOOD#QUALITY', 'FOOD#STYLE_OPTIONS', 'RESTAURANT#GENERAL'], ['RESTAURANT#GENERAL'], ['AMBIENCE#GENERAL', 'RESTAURANT#GENERAL'], ['RESTAURANT#GENERAL', 'SERVICE#GENERAL'], ['FOOD#QUALITY', 'RESTAURANT#GENERAL', 'SERVICE#GENERAL'], ['FOOD#QUALITY', 'FOOD#STYLE_OPTIONS'], ['AMBIENCE#GENERAL', 'FOOD#QUALITY'], ['AMBIENCE#GENERAL', 'FOOD#QUALITY', 'FOOD#STYLE_OPTIONS', 'SERVICE#GENERAL'], ['FOOD#QUALITY', 'RESTAURANT#GENERAL'], ['AMBIENCE#GENERAL', 'FOOD#STYLE_OPTIONS', 'RESTAURANT#GENERAL', 'SERVICE#GENERAL'], ['FOOD#STYLE_OPTIONS', 'RESTAURANT#GENERAL'], ['AMBIENCE#GENERAL', 'RESTAURANT#GENERAL'], ['RESTAURANT#GENERAL'], ['AMBIENCE#GENERAL', 'FOOD#QUALITY', 'RESTAURANT#GENERAL', 'SERVICE#GENERAL'], ['AMBIENCE#GENERAL', 'FOOD#QUALITY', 'FOOD#STYLE_OPTIONS', 'RESTAURANT#GENERAL', 'SERVICE#GENERAL'], ['FOOD#QUALITY', 'FOOD#STYLE_OPTIONS', 'RESTAURANT#GENERAL'], ['FOOD#QUALITY', 'FOOD#STYLE_OPTIONS', 'RESTAURANT#GENERAL', 'SERVICE#GENERAL'], ['AMBIENCE#GENERAL', 'FOOD#QUALITY', 'RESTAURANT#GENERAL', 'SERVICE#GENERAL'], ['AMBIENCE#GENERAL', 'FOOD#QUALITY', 'FOOD#STYLE_OPTIONS', 'RESTAURANT#GENERAL', 'SERVICE#GENERAL'], ['AMBIENCE#GENERAL', 'RESTAURANT#GENERAL'], ['RESTAURANT#GENERAL', 'SERVICE#GENERAL'], ['AMBIENCE#GENERAL', 'RESTAURANT#GENERAL', 'SERVICE#GENERAL'], ['FOOD#QUALITY'], ['AMBIENCE#GENERAL', 'FOOD#QUALITY', 'FOOD#STYLE_OPTIONS', 'RESTAURANT#GENERAL'], ['FOOD#QUALITY', 'FOOD#STYLE_OPTIONS', 'RESTAURANT#GENERAL'], ['FOOD#QUALITY', 'FOOD#STYLE_OPTIONS', 'SERVICE#GENERAL'], ['FOOD#QUALITY', 'FOOD#STYLE_OPTIONS', 'RESTAURANT#GENERAL', 'SERVICE#GENERAL'], ['FOOD#QUALITY', 'FOOD#STYLE_OPTIONS'], ['FOOD#QUALITY', 'FOOD#STYLE_OPTIONS', 'SERVICE#GENERAL'], ['RESTAURANT#GENERAL'], ['SERVICE#GENERAL'], ['AMBIENCE#GENERAL', 'FOOD#QUALITY', 'FOOD#STYLE_OPTIONS', 'RESTAURANT#GENERAL', 'SERVICE#GENERAL'], ['FOOD#QUALITY', 'FOOD#STYLE_OPTIONS', 'SERVICE#GENERAL'], ['FOOD#QUALITY', 'RESTAURANT#GENERAL'], ['FOOD#QUALITY', 'FOOD#STYLE_OPTIONS', 'RESTAURANT#GENERAL', 'SERVICE#GENERAL'], ['FOOD#QUALITY', 'FOOD#STYLE_OPTIONS', 'SERVICE#GENERAL'], ['RESTAURANT#GENERAL', 'SERVICE#GENERAL'], ['FOOD#QUALITY', 'FOOD#STYLE_OPTIONS', 'RESTAURANT#GENERAL', 'SERVICE#GENERAL'], ['FOOD#QUALITY', 'RESTAURANT#GENERAL', 'SERVICE#GENERAL'], ['FOOD#QUALITY', 'FOOD#STYLE_OPTIONS', 'RESTAURANT#GENERAL'], ['AMBIENCE#GENERAL', 'RESTAURANT#GENERAL', 'SERVICE#GENERAL'], ['AMBIENCE#GENERAL', 'FOOD#QUALITY', 'RESTAURANT#GENERAL', 'SERVICE#GENERAL'], ['AMBIENCE#GENERAL', 'FOOD#QUALITY', 'RESTAURANT#GENERAL'], ['AMBIENCE#GENERAL', 'FOOD#STYLE_OPTIONS', 'SERVICE#GENERAL'], ['AMBIENCE#GENERAL', 'FOOD#QUALITY', 'FOOD#STYLE_OPTIONS', 'SERVICE#GENERAL'], ['AMBIENCE#GENERAL', 'FOOD#QUALITY', 'FOOD#STYLE_OPTIONS', 'RESTAURANT#GENERAL', 'SERVICE#GENERAL'], ['AMBIENCE#GENERAL', 'FOOD#QUALITY', 'FOOD#STYLE_OPTIONS', 'SERVICE#GENERAL'], ['FOOD#QUALITY', 'FOOD#STYLE_OPTIONS', 'SERVICE#GENERAL'], ['AMBIENCE#GENERAL', 'FOOD#QUALITY', 'FOOD#STYLE_OPTIONS', 'RESTAURANT#GENERAL', 'SERVICE#GENERAL'], ['AMBIENCE#GENERAL', 'FOOD#QUALITY', 'RESTAURANT#GENERAL'], ['FOOD#QUALITY', 'FOOD#STYLE_OPTIONS', 'SERVICE#GENERAL'], ['RESTAURANT#GENERAL'], ['AMBIENCE#GENERAL', 'FOOD#QUALITY', 'RESTAURANT#GENERAL', 'SERVICE#GENERAL'], ['AMBIENCE#GENERAL', 'FOOD#QUALITY', 'FOOD#STYLE_OPTIONS', 'RESTAURANT#GENERAL', 'SERVICE#GENERAL'], ['AMBIENCE#GENERAL', 'FOOD#QUALITY', 'RESTAURANT#GENERAL'], ['AMBIENCE#GENERAL', 'FOOD#QUALITY', 'FOOD#STYLE_OPTIONS', 'RESTAURANT#GENERAL', 'SERVICE#GENERAL'], ['AMBIENCE#GENERAL', 'FOOD#QUALITY', 'FOOD#STYLE_OPTIONS', 'RESTAURANT#GENERAL'], ['AMBIENCE#GENERAL', 'FOOD#QUALITY', 'FOOD#STYLE_OPTIONS', 'RESTAURANT#GENERAL', 'SERVICE#GENERAL'], ['RESTAURANT#GENERAL', 'SERVICE#GENERAL'], ['FOOD#QUALITY', 'RESTAURANT#GENERAL'], ['RESTAURANT#GENERAL', 'SERVICE#GENERAL'], ['FOOD#QUALITY', 'RESTAURANT#GENERAL', 'SERVICE#GENERAL'], ['AMBIENCE#GENERAL', 'FOOD#QUALITY', 'RESTAURANT#GENERAL'], ['AMBIENCE#GENERAL', 'FOOD#QUALITY', 'RESTAURANT#GENERAL', 'SERVICE#GENERAL'], ['AMBIENCE#GENERAL', 'FOOD#QUALITY', 'FOOD#STYLE_OPTIONS', 'RESTAURANT#GENERAL', 'SERVICE#GENERAL'], ['AMBIENCE#GENERAL', 'FOOD#QUALITY', 'FOOD#STYLE_OPTIONS', 'RESTAURANT#GENERAL', 'SERVICE#GENERAL'], ['AMBIENCE#GENERAL', 'FOOD#QUALITY', 'FOOD#STYLE_OPTIONS', 'RESTAURANT#GENERAL', 'SERVICE#GENERAL'], ['FOOD#QUALITY', 'FOOD#STYLE_OPTIONS', 'RESTAURANT#GENERAL', 'SERVICE#GENERAL'], ['RESTAURANT#GENERAL'], ['RESTAURANT#GENERAL'], ['AMBIENCE#GENERAL', 'RESTAURANT#GENERAL'], ['FOOD#QUALITY', 'FOOD#STYLE_OPTIONS', 'RESTAURANT#GENERAL', 'SERVICE#GENERAL'], ['AMBIENCE#GENERAL', 'FOOD#QUALITY', 'FOOD#STYLE_OPTIONS', 'SERVICE#GENERAL'], ['AMBIENCE#GENERAL', 'FOOD#QUALITY', 'FOOD#STYLE_OPTIONS', 'SERVICE#GENERAL'], ['AMBIENCE#GENERAL', 'FOOD#QUALITY', 'RESTAURANT#GENERAL'], ['AMBIENCE#GENERAL', 'FOOD#QUALITY', 'RESTAURANT#GENERAL'], ['AMBIENCE#GENERAL', 'FOOD#QUALITY', 'FOOD#STYLE_OPTIONS', 'RESTAURANT#GENERAL', 'SERVICE#GENERAL'], ['AMBIENCE#GENERAL', 'RESTAURANT#GENERAL', 'SERVICE#GENERAL'], ['AMBIENCE#GENERAL', 'FOOD#QUALITY', 'FOOD#STYLE_OPTIONS', 'RESTAURANT#GENERAL', 'SERVICE#GENERAL'], ['AMBIENCE#GENERAL', 'FOOD#QUALITY', 'FOOD#STYLE_OPTIONS', 'RESTAURANT#GENERAL', 'SERVICE#GENERAL'], ['AMBIENCE#GENERAL', 'FOOD#QUALITY', 'FOOD#STYLE_OPTIONS', 'RESTAURANT#GENERAL', 'SERVICE#GENERAL'], ['AMBIENCE#GENERAL', 'FOOD#QUALITY', 'FOOD#STYLE_OPTIONS', 'RESTAURANT#GENERAL', 'SERVICE#GENERAL'], ['AMBIENCE#GENERAL', 'FOOD#QUALITY', 'SERVICE#GENERAL'], ['AMBIENCE#GENERAL', 'FOOD#QUALITY', 'FOOD#STYLE_OPTIONS', 'SERVICE#GENERAL'], ['AMBIENCE#GENERAL', 'FOOD#QUALITY', 'FOOD#STYLE_OPTIONS', 'SERVICE#GENERAL'], ['AMBIENCE#GENERAL', 'FOOD#QUALITY', 'FOOD#STYLE_OPTIONS', 'RESTAURANT#GENERAL', 'SERVICE#GENERAL'], ['AMBIENCE#GENERAL', 'FOOD#QUALITY', 'FOOD#STYLE_OPTIONS', 'RESTAURANT#GENERAL', 'SERVICE#GENERAL'], ['AMBIENCE#GENERAL', 'FOOD#QUALITY', 'FOOD#STYLE_OPTIONS', 'RESTAURANT#GENERAL', 'SERVICE#GENERAL'], ['AMBIENCE#GENERAL', 'FOOD#QUALITY', 'FOOD#STYLE_OPTIONS', 'RESTAURANT#GENERAL'], ['AMBIENCE#GENERAL', 'FOOD#QUALITY', 'RESTAURANT#GENERAL'], ['RESTAURANT#GENERAL', 'SERVICE#GENERAL'], ['FOOD#QUALITY', 'FOOD#STYLE_OPTIONS', 'RESTAURANT#GENERAL', 'SERVICE#GENERAL'], ['AMBIENCE#GENERAL', 'FOOD#QUALITY', 'RESTAURANT#GENERAL', 'SERVICE#GENERAL'], ['AMBIENCE#GENERAL', 'RESTAURANT#GENERAL', 'SERVICE#GENERAL'], ['RESTAURANT#GENERAL'], ['FOOD#QUALITY', 'FOOD#STYLE_OPTIONS', 'SERVICE#GENERAL'], ['AMBIENCE#GENERAL', 'FOOD#QUALITY', 'FOOD#STYLE_OPTIONS', 'SERVICE#GENERAL'], ['AMBIENCE#GENERAL', 'FOOD#QUALITY', 'FOOD#STYLE_OPTIONS', 'RESTAURANT#GENERAL', 'SERVICE#GENERAL'], ['RESTAURANT#GENERAL', 'SERVICE#GENERAL'], ['FOOD#QUALITY', 'FOOD#STYLE_OPTIONS', 'SERVICE#GENERAL'], ['AMBIENCE#GENERAL', 'RESTAURANT#GENERAL'], ['SERVICE#GENERAL'], ['FOOD#QUALITY', 'RESTAURANT#GENERAL', 'SERVICE#GENERAL'], ['RESTAURANT#GENERAL'], ['AMBIENCE#GENERAL', 'FOOD#QUALITY', 'RESTAURANT#GENERAL'], ['AMBIENCE#GENERAL', 'FOOD#QUALITY', 'FOOD#STYLE_OPTIONS'], ['AMBIENCE#GENERAL'], ['AMBIENCE#GENERAL', 'FOOD#QUALITY', 'FOOD#STYLE_OPTIONS', 'RESTAURANT#GENERAL', 'SERVICE#GENERAL'], ['FOOD#QUALITY', 'FOOD#STYLE_OPTIONS', 'SERVICE#GENERAL'], ['AMBIENCE#GENERAL', 'FOOD#QUALITY', 'FOOD#STYLE_OPTIONS', 'SERVICE#GENERAL'], ['AMBIENCE#GENERAL', 'RESTAURANT#GENERAL'], ['AMBIENCE#GENERAL', 'RESTAURANT#GENERAL', 'SERVICE#GENERAL'], ['AMBIENCE#GENERAL', 'FOOD#QUALITY', 'FOOD#STYLE_OPTIONS'], ['AMBIENCE#GENERAL', 'RESTAURANT#GENERAL', 'SERVICE#GENERAL'], ['AMBIENCE#GENERAL', 'FOOD#QUALITY', 'FOOD#STYLE_OPTIONS', 'SERVICE#GENERAL'], ['AMBIENCE#GENERAL', 'FOOD#QUALITY', 'RESTAURANT#GENERAL', 'SERVICE#GENERAL'], ['RESTAURANT#GENERAL', 'SERVICE#GENERAL'], ['FOOD#STYLE_OPTIONS', 'SERVICE#GENERAL'], ['AMBIENCE#GENERAL', 'FOOD#QUALITY', 'FOOD#STYLE_OPTIONS', 'RESTAURANT#GENERAL', 'SERVICE#GENERAL'], ['FOOD#QUALITY', 'FOOD#STYLE_OPTIONS'], ['FOOD#QUALITY', 'FOOD#STYLE_OPTIONS', 'SERVICE#GENERAL'], ['AMBIENCE#GENERAL', 'FOOD#QUALITY', 'FOOD#STYLE_OPTIONS', 'RESTAURANT#GENERAL', 'SERVICE#GENERAL'], ['AMBIENCE#GENERAL', 'RESTAURANT#GENERAL'], ['RESTAURANT#GENERAL'], ['AMBIENCE#GENERAL', 'FOOD#QUALITY', 'FOOD#STYLE_OPTIONS', 'RESTAURANT#GENERAL', 'SERVICE#GENERAL'], ['FOOD#QUALITY', 'RESTAURANT#GENERAL'], ['AMBIENCE#GENERAL', 'FOOD#QUALITY', 'RESTAURANT#GENERAL', 'SERVICE#GENERAL'], ['FOOD#QUALITY', 'RESTAURANT#GENERAL'], ['FOOD#QUALITY', 'FOOD#STYLE_OPTIONS', 'SERVICE#GENERAL'], ['FOOD#QUALITY', 'FOOD#STYLE_OPTIONS', 'RESTAURANT#GENERAL', 'SERVICE#GENERAL'], ['FOOD#QUALITY', 'FOOD#STYLE_OPTIONS', 'SERVICE#GENERAL'], ['FOOD#QUALITY', 'RESTAURANT#GENERAL', 'SERVICE#GENERAL'], ['AMBIENCE#GENERAL', 'FOOD#QUALITY', 'FOOD#STYLE_OPTIONS', 'SERVICE#GENERAL'], ['FOOD#QUALITY', 'FOOD#STYLE_OPTIONS', 'RESTAURANT#GENERAL', 'SERVICE#GENERAL'], ['FOOD#QUALITY', 'RESTAURANT#GENERAL'], ['FOOD#QUALITY', 'FOOD#STYLE_OPTIONS', 'RESTAURANT#GENERAL'], ['AMBIENCE#GENERAL', 'FOOD#QUALITY', 'FOOD#STYLE_OPTIONS', 'SERVICE#GENERAL'], ['AMBIENCE#GENERAL', 'FOOD#QUALITY', 'FOOD#STYLE_OPTIONS', 'RESTAURANT#GENERAL', 'SERVICE#GENERAL'], ['AMBIENCE#GENERAL', 'FOOD#QUALITY', 'RESTAURANT#GENERAL'], ['AMBIENCE#GENERAL', 'FOOD#STYLE_OPTIONS', 'SERVICE#GENERAL'], ['AMBIENCE#GENERAL', 'FOOD#QUALITY', 'FOOD#STYLE_OPTIONS', 'RESTAURANT#GENERAL', 'SERVICE#GENERAL'], ['AMBIENCE#GENERAL', 'RESTAURANT#GENERAL', 'SERVICE#GENERAL'], ['AMBIENCE#GENERAL', 'FOOD#QUALITY', 'FOOD#STYLE_OPTIONS', 'SERVICE#GENERAL'], ['AMBIENCE#GENERAL', 'RESTAURANT#GENERAL'], ['FOOD#STYLE_OPTIONS', 'RESTAURANT#GENERAL', 'SERVICE#GENERAL'], ['RESTAURANT#GENERAL'], ['FOOD#QUALITY', 'RESTAURANT#GENERAL'], ['AMBIENCE#GENERAL', 'RESTAURANT#GENERAL'], ['FOOD#STYLE_OPTIONS', 'SERVICE#GENERAL'], ['FOOD#QUALITY', 'FOOD#STYLE_OPTIONS', 'SERVICE#GENERAL'], ['FOOD#QUALITY', 'FOOD#STYLE_OPTIONS'], ['AMBIENCE#GENERAL', 'FOOD#QUALITY', 'FOOD#STYLE_OPTIONS', 'SERVICE#GENERAL'], ['FOOD#QUALITY'], ['FOOD#QUALITY', 'RESTAURANT#GENERAL', 'SERVICE#GENERAL'], ['FOOD#QUALITY', 'RESTAURANT#GENERAL'], ['FOOD#QUALITY', 'FOOD#STYLE_OPTIONS', 'RESTAURANT#GENERAL', 'SERVICE#GENERAL'], ['RESTAURANT#GENERAL'], ['AMBIENCE#GENERAL', 'RESTAURANT#GENERAL'], ['AMBIENCE#GENERAL', 'FOOD#QUALITY', 'RESTAURANT#GENERAL', 'SERVICE#GENERAL'], ['FOOD#QUALITY', 'FOOD#STYLE_OPTIONS'], ['FOOD#QUALITY', 'FOOD#STYLE_OPTIONS', 'RESTAURANT#GENERAL', 'SERVICE#GENERAL'], ['FOOD#QUALITY', 'FOOD#STYLE_OPTIONS', 'SERVICE#GENERAL'], ['AMBIENCE#GENERAL', 'FOOD#QUALITY', 'FOOD#STYLE_OPTIONS', 'RESTAURANT#GENERAL', 'SERVICE#GENERAL'], ['FOOD#QUALITY', 'RESTAURANT#GENERAL'], ['AMBIENCE#GENERAL', 'FOOD#QUALITY', 'RESTAURANT#GENERAL', 'SERVICE#GENERAL'], ['RESTAURANT#GENERAL'], ['AMBIENCE#GENERAL', 'FOOD#QUALITY', 'FOOD#STYLE_OPTIONS', 'RESTAURANT#GENERAL', 'SERVICE#GENERAL'], ['AMBIENCE#GENERAL', 'FOOD#QUALITY', 'FOOD#STYLE_OPTIONS', 'RESTAURANT#GENERAL'], ['AMBIENCE#GENERAL', 'FOOD#QUALITY', 'FOOD#STYLE_OPTIONS', 'RESTAURANT#GENERAL', 'SERVICE#GENERAL'], ['AMBIENCE#GENERAL', 'RESTAURANT#GENERAL'], ['AMBIENCE#GENERAL', 'FOOD#QUALITY', 'RESTAURANT#GENERAL'], ['FOOD#QUALITY', 'FOOD#STYLE_OPTIONS', 'SERVICE#GENERAL'], ['AMBIENCE#GENERAL', 'FOOD#QUALITY', 'FOOD#STYLE_OPTIONS', 'SERVICE#GENERAL'], ['AMBIENCE#GENERAL', 'FOOD#QUALITY', 'FOOD#STYLE_OPTIONS', 'RESTAURANT#GENERAL', 'SERVICE#GENERAL'], ['AMBIENCE#GENERAL', 'FOOD#QUALITY', 'FOOD#STYLE_OPTIONS', 'SERVICE#GENERAL'], ['AMBIENCE#GENERAL', 'FOOD#QUALITY', 'FOOD#STYLE_OPTIONS', 'RESTAURANT#GENERAL', 'SERVICE#GENERAL'], ['AMBIENCE#GENERAL', 'RESTAURANT#GENERAL'], ['FOOD#STYLE_OPTIONS', 'RESTAURANT#GENERAL', 'SERVICE#GENERAL'], ['SERVICE#GENERAL'], ['FOOD#QUALITY', 'RESTAURANT#GENERAL'], ['FOOD#QUALITY', 'SERVICE#GENERAL'], ['AMBIENCE#GENERAL', 'FOOD#QUALITY', 'FOOD#STYLE_OPTIONS', 'SERVICE#GENERAL'], ['AMBIENCE#GENERAL', 'FOOD#QUALITY', 'RESTAURANT#GENERAL', 'SERVICE#GENERAL'], ['SERVICE#GENERAL'], ['AMBIENCE#GENERAL', 'FOOD#QUALITY', 'FOOD#STYLE_OPTIONS', 'RESTAURANT#GENERAL'], ['AMBIENCE#GENERAL', 'FOOD#QUALITY', 'RESTAURANT#GENERAL'], ['RESTAURANT#GENERAL'], ['FOOD#QUALITY', 'FOOD#STYLE_OPTIONS', 'RESTAURANT#GENERAL', 'SERVICE#GENERAL'], ['AMBIENCE#GENERAL', 'FOOD#QUALITY', 'FOOD#STYLE_OPTIONS', 'RESTAURANT#GENERAL', 'SERVICE#GENERAL'], ['AMBIENCE#GENERAL', 'FOOD#QUALITY', 'FOOD#STYLE_OPTIONS', 'RESTAURANT#GENERAL', 'SERVICE#GENERAL'], ['FOOD#QUALITY', 'FOOD#STYLE_OPTIONS', 'RESTAURANT#GENERAL', 'SERVICE#GENERAL'], ['AMBIENCE#GENERAL', 'FOOD#QUALITY', 'FOOD#STYLE_OPTIONS', 'SERVICE#GENERAL'], ['FOOD#QUALITY', 'RESTAURANT#GENERAL'], ['RESTAURANT#GENERAL', 'SERVICE#GENERAL'], ['AMBIENCE#GENERAL', 'FOOD#QUALITY', 'SERVICE#GENERAL'], ['AMBIENCE#GENERAL', 'RESTAURANT#GENERAL', 'SERVICE#GENERAL'], ['FOOD#QUALITY', 'FOOD#STYLE_OPTIONS', 'RESTAURANT#GENERAL', 'SERVICE#GENERAL'], ['FOOD#QUALITY', 'RESTAURANT#GENERAL'], ['AMBIENCE#GENERAL', 'RESTAURANT#GENERAL'], ['AMBIENCE#GENERAL', 'FOOD#QUALITY', 'FOOD#STYLE_OPTIONS', 'RESTAURANT#GENERAL', 'SERVICE#GENERAL']]\n"
     ]
    }
   ],
   "source": [
    "classes_final=[]\n",
    "for line in probabilities:\n",
    "    cl = []\n",
    "    for i in range(len(classes)):\n",
    "        if line[i] >= 0.2:\n",
    "            cl.append(classes[i])\n",
    "    classes_final.append(cl)\n",
    "    cl=[]\n",
    "print(classes_final)\n",
    "y_pred = mlb.transform(classes_final) "
   ]
  },
  {
   "cell_type": "code",
   "execution_count": 37,
   "metadata": {
    "collapsed": false
   },
   "outputs": [
    {
     "name": "stderr",
     "output_type": "stream",
     "text": [
      "C:\\Anaconda3\\lib\\site-packages\\sklearn\\metrics\\classification.py:1074: UndefinedMetricWarning: Precision is ill-defined and being set to 0.0 in labels with no predicted samples.\n",
      "  'precision', 'predicted', average, warn_for)\n",
      "C:\\Anaconda3\\lib\\site-packages\\sklearn\\metrics\\classification.py:1074: UndefinedMetricWarning: F-score is ill-defined and being set to 0.0 in labels with no predicted samples.\n",
      "  'precision', 'predicted', average, warn_for)\n"
     ]
    }
   ],
   "source": [
    "accuracy = metrics.accuracy_score(y_test, y_pred)\n",
    "precision = metrics.precision_score(y_test, y_pred, average = 'macro')\n",
    "recall = metrics.recall_score(y_test,y_pred, average = 'macro')\n",
    "f1=metrics.f1_score(y_test, y_pred, average = 'macro')"
   ]
  },
  {
   "cell_type": "code",
   "execution_count": 38,
   "metadata": {
    "collapsed": false
   },
   "outputs": [
    {
     "data": {
      "text/plain": [
       "0.032258064516129031"
      ]
     },
     "execution_count": 38,
     "metadata": {},
     "output_type": "execute_result"
    }
   ],
   "source": [
    "accuracy"
   ]
  },
  {
   "cell_type": "code",
   "execution_count": 39,
   "metadata": {
    "collapsed": false
   },
   "outputs": [
    {
     "data": {
      "text/plain": [
       "0.19464146019288867"
      ]
     },
     "execution_count": 39,
     "metadata": {},
     "output_type": "execute_result"
    }
   ],
   "source": [
    "precision"
   ]
  },
  {
   "cell_type": "code",
   "execution_count": 40,
   "metadata": {
    "collapsed": false
   },
   "outputs": [
    {
     "data": {
      "text/plain": [
       "0.40374770175249908"
      ]
     },
     "execution_count": 40,
     "metadata": {},
     "output_type": "execute_result"
    }
   ],
   "source": [
    "recall"
   ]
  },
  {
   "cell_type": "code",
   "execution_count": 41,
   "metadata": {
    "collapsed": false
   },
   "outputs": [
    {
     "data": {
      "text/plain": [
       "0.17448511523240562"
      ]
     },
     "execution_count": 41,
     "metadata": {},
     "output_type": "execute_result"
    }
   ],
   "source": [
    "f1"
   ]
  },
  {
   "cell_type": "code",
   "execution_count": null,
   "metadata": {
    "collapsed": true
   },
   "outputs": [],
   "source": []
  }
 ],
 "metadata": {
  "kernelspec": {
   "display_name": "Python 3",
   "language": "python",
   "name": "python3"
  },
  "language_info": {
   "codemirror_mode": {
    "name": "ipython",
    "version": 3
   },
   "file_extension": ".py",
   "mimetype": "text/x-python",
   "name": "python",
   "nbconvert_exporter": "python",
   "pygments_lexer": "ipython3",
   "version": "3.5.3"
  }
 },
 "nbformat": 4,
 "nbformat_minor": 0
}
